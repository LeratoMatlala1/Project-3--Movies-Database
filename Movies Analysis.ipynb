{
 "cells": [
  {
   "cell_type": "markdown",
   "id": "8ce4f6dd-b91b-4491-9ca7-e752bc712bda",
   "metadata": {},
   "source": [
    "# Movie Success Analysis"
   ]
  },
  {
   "cell_type": "markdown",
   "id": "1ff5ff1b-2b29-473b-9fbc-5efbd1b7ccec",
   "metadata": {},
   "source": [
    "Author: Lerato Matlala"
   ]
  },
  {
   "cell_type": "markdown",
   "id": "f599baaf-6012-4b0f-b7ad-87411103da17",
   "metadata": {},
   "source": [
    "## Part 1"
   ]
  },
  {
   "cell_type": "markdown",
   "id": "02779d8a-3162-48a8-bd58-48f15705f66b",
   "metadata": {},
   "source": [
    "### Data Loading"
   ]
  },
  {
   "cell_type": "markdown",
   "id": "261719f9-2add-4cd2-81fe-ed85272b0f29",
   "metadata": {},
   "source": [
    "***Import Libraries***"
   ]
  },
  {
   "cell_type": "code",
   "execution_count": 3,
   "id": "a86f6812-5355-45a6-bd86-ece68cc40f20",
   "metadata": {
    "scrolled": true
   },
   "outputs": [],
   "source": [
    "#Import libraries\n",
    "import pandas as pd\n",
    "import numpy as np\n",
    "import os\n",
    "from sqlalchemy.types import *\n",
    "\n",
    "from sqlalchemy import create_engine\n",
    "from sqlalchemy_utils import create_database, database_exists\n",
    "import sqlite3"
   ]
  },
  {
   "cell_type": "markdown",
   "id": "141daa24-c80f-403c-962a-7b3beb803b35",
   "metadata": {},
   "source": [
    "***Load Data***"
   ]
  },
  {
   "cell_type": "code",
   "execution_count": 4,
   "id": "e7bbd1a4-a660-4aa4-b113-15fb9f921832",
   "metadata": {},
   "outputs": [
    {
     "data": {
      "text/html": [
       "<div>\n",
       "<style scoped>\n",
       "    .dataframe tbody tr th:only-of-type {\n",
       "        vertical-align: middle;\n",
       "    }\n",
       "\n",
       "    .dataframe tbody tr th {\n",
       "        vertical-align: top;\n",
       "    }\n",
       "\n",
       "    .dataframe thead th {\n",
       "        text-align: right;\n",
       "    }\n",
       "</style>\n",
       "<table border=\"1\" class=\"dataframe\">\n",
       "  <thead>\n",
       "    <tr style=\"text-align: right;\">\n",
       "      <th></th>\n",
       "      <th>tconst</th>\n",
       "      <th>titleType</th>\n",
       "      <th>primaryTitle</th>\n",
       "      <th>originalTitle</th>\n",
       "      <th>isAdult</th>\n",
       "      <th>startYear</th>\n",
       "      <th>endYear</th>\n",
       "      <th>runtimeMinutes</th>\n",
       "      <th>genres</th>\n",
       "    </tr>\n",
       "  </thead>\n",
       "  <tbody>\n",
       "    <tr>\n",
       "      <th>0</th>\n",
       "      <td>tt0000001</td>\n",
       "      <td>short</td>\n",
       "      <td>Carmencita</td>\n",
       "      <td>Carmencita</td>\n",
       "      <td>0</td>\n",
       "      <td>1894</td>\n",
       "      <td>\\N</td>\n",
       "      <td>1</td>\n",
       "      <td>Documentary,Short</td>\n",
       "    </tr>\n",
       "    <tr>\n",
       "      <th>1</th>\n",
       "      <td>tt0000002</td>\n",
       "      <td>short</td>\n",
       "      <td>Le clown et ses chiens</td>\n",
       "      <td>Le clown et ses chiens</td>\n",
       "      <td>0</td>\n",
       "      <td>1892</td>\n",
       "      <td>\\N</td>\n",
       "      <td>5</td>\n",
       "      <td>Animation,Short</td>\n",
       "    </tr>\n",
       "    <tr>\n",
       "      <th>2</th>\n",
       "      <td>tt0000003</td>\n",
       "      <td>short</td>\n",
       "      <td>Pauvre Pierrot</td>\n",
       "      <td>Pauvre Pierrot</td>\n",
       "      <td>0</td>\n",
       "      <td>1892</td>\n",
       "      <td>\\N</td>\n",
       "      <td>4</td>\n",
       "      <td>Animation,Comedy,Romance</td>\n",
       "    </tr>\n",
       "    <tr>\n",
       "      <th>3</th>\n",
       "      <td>tt0000004</td>\n",
       "      <td>short</td>\n",
       "      <td>Un bon bock</td>\n",
       "      <td>Un bon bock</td>\n",
       "      <td>0</td>\n",
       "      <td>1892</td>\n",
       "      <td>\\N</td>\n",
       "      <td>12</td>\n",
       "      <td>Animation,Short</td>\n",
       "    </tr>\n",
       "    <tr>\n",
       "      <th>4</th>\n",
       "      <td>tt0000005</td>\n",
       "      <td>short</td>\n",
       "      <td>Blacksmith Scene</td>\n",
       "      <td>Blacksmith Scene</td>\n",
       "      <td>0</td>\n",
       "      <td>1893</td>\n",
       "      <td>\\N</td>\n",
       "      <td>1</td>\n",
       "      <td>Comedy,Short</td>\n",
       "    </tr>\n",
       "  </tbody>\n",
       "</table>\n",
       "</div>"
      ],
      "text/plain": [
       "      tconst titleType            primaryTitle           originalTitle  \\\n",
       "0  tt0000001     short              Carmencita              Carmencita   \n",
       "1  tt0000002     short  Le clown et ses chiens  Le clown et ses chiens   \n",
       "2  tt0000003     short          Pauvre Pierrot          Pauvre Pierrot   \n",
       "3  tt0000004     short             Un bon bock             Un bon bock   \n",
       "4  tt0000005     short        Blacksmith Scene        Blacksmith Scene   \n",
       "\n",
       "  isAdult startYear endYear runtimeMinutes                    genres  \n",
       "0       0      1894      \\N              1         Documentary,Short  \n",
       "1       0      1892      \\N              5           Animation,Short  \n",
       "2       0      1892      \\N              4  Animation,Comedy,Romance  \n",
       "3       0      1892      \\N             12           Animation,Short  \n",
       "4       0      1893      \\N              1              Comedy,Short  "
      ]
     },
     "execution_count": 4,
     "metadata": {},
     "output_type": "execute_result"
    }
   ],
   "source": [
    "# Read in title Basics.tsv\n",
    "basics_url =\"https://datasets.imdbws.com/title.basics.tsv.gz\"\n",
    "\n",
    "title_basic_df = pd.read_csv(basics_url, sep='\\t', low_memory=False)\n",
    "title_basic_df.head()"
   ]
  },
  {
   "cell_type": "code",
   "execution_count": 5,
   "id": "c665625a-626e-4226-9d50-dbf818d9d643",
   "metadata": {},
   "outputs": [
    {
     "data": {
      "text/html": [
       "<div>\n",
       "<style scoped>\n",
       "    .dataframe tbody tr th:only-of-type {\n",
       "        vertical-align: middle;\n",
       "    }\n",
       "\n",
       "    .dataframe tbody tr th {\n",
       "        vertical-align: top;\n",
       "    }\n",
       "\n",
       "    .dataframe thead th {\n",
       "        text-align: right;\n",
       "    }\n",
       "</style>\n",
       "<table border=\"1\" class=\"dataframe\">\n",
       "  <thead>\n",
       "    <tr style=\"text-align: right;\">\n",
       "      <th></th>\n",
       "      <th>titleId</th>\n",
       "      <th>ordering</th>\n",
       "      <th>title</th>\n",
       "      <th>region</th>\n",
       "      <th>language</th>\n",
       "      <th>types</th>\n",
       "      <th>attributes</th>\n",
       "      <th>isOriginalTitle</th>\n",
       "    </tr>\n",
       "  </thead>\n",
       "  <tbody>\n",
       "    <tr>\n",
       "      <th>0</th>\n",
       "      <td>tt0000001</td>\n",
       "      <td>1</td>\n",
       "      <td>Карменсіта</td>\n",
       "      <td>UA</td>\n",
       "      <td>\\N</td>\n",
       "      <td>imdbDisplay</td>\n",
       "      <td>\\N</td>\n",
       "      <td>0</td>\n",
       "    </tr>\n",
       "    <tr>\n",
       "      <th>1</th>\n",
       "      <td>tt0000001</td>\n",
       "      <td>2</td>\n",
       "      <td>Carmencita</td>\n",
       "      <td>DE</td>\n",
       "      <td>\\N</td>\n",
       "      <td>\\N</td>\n",
       "      <td>literal title</td>\n",
       "      <td>0</td>\n",
       "    </tr>\n",
       "    <tr>\n",
       "      <th>2</th>\n",
       "      <td>tt0000001</td>\n",
       "      <td>3</td>\n",
       "      <td>Carmencita - spanyol tánc</td>\n",
       "      <td>HU</td>\n",
       "      <td>\\N</td>\n",
       "      <td>imdbDisplay</td>\n",
       "      <td>\\N</td>\n",
       "      <td>0</td>\n",
       "    </tr>\n",
       "    <tr>\n",
       "      <th>3</th>\n",
       "      <td>tt0000001</td>\n",
       "      <td>4</td>\n",
       "      <td>Καρμενσίτα</td>\n",
       "      <td>GR</td>\n",
       "      <td>\\N</td>\n",
       "      <td>imdbDisplay</td>\n",
       "      <td>\\N</td>\n",
       "      <td>0</td>\n",
       "    </tr>\n",
       "    <tr>\n",
       "      <th>4</th>\n",
       "      <td>tt0000001</td>\n",
       "      <td>5</td>\n",
       "      <td>Карменсита</td>\n",
       "      <td>RU</td>\n",
       "      <td>\\N</td>\n",
       "      <td>imdbDisplay</td>\n",
       "      <td>\\N</td>\n",
       "      <td>0</td>\n",
       "    </tr>\n",
       "  </tbody>\n",
       "</table>\n",
       "</div>"
      ],
      "text/plain": [
       "     titleId  ordering                      title region language  \\\n",
       "0  tt0000001         1                 Карменсіта     UA       \\N   \n",
       "1  tt0000001         2                 Carmencita     DE       \\N   \n",
       "2  tt0000001         3  Carmencita - spanyol tánc     HU       \\N   \n",
       "3  tt0000001         4                 Καρμενσίτα     GR       \\N   \n",
       "4  tt0000001         5                 Карменсита     RU       \\N   \n",
       "\n",
       "         types     attributes isOriginalTitle  \n",
       "0  imdbDisplay             \\N               0  \n",
       "1           \\N  literal title               0  \n",
       "2  imdbDisplay             \\N               0  \n",
       "3  imdbDisplay             \\N               0  \n",
       "4  imdbDisplay             \\N               0  "
      ]
     },
     "execution_count": 5,
     "metadata": {},
     "output_type": "execute_result"
    }
   ],
   "source": [
    "# Read in title.akas.tsv\n",
    "title_akas_url = \"https://datasets.imdbws.com/title.akas.tsv.gz\"\n",
    "title_akas_df = pd.read_csv(title_akas_url, sep='\\t', low_memory=False)\n",
    "title_akas_df.head()"
   ]
  },
  {
   "cell_type": "code",
   "execution_count": 6,
   "id": "845e07d7-340b-4834-899e-dffd654b2f55",
   "metadata": {},
   "outputs": [
    {
     "data": {
      "text/html": [
       "<div>\n",
       "<style scoped>\n",
       "    .dataframe tbody tr th:only-of-type {\n",
       "        vertical-align: middle;\n",
       "    }\n",
       "\n",
       "    .dataframe tbody tr th {\n",
       "        vertical-align: top;\n",
       "    }\n",
       "\n",
       "    .dataframe thead th {\n",
       "        text-align: right;\n",
       "    }\n",
       "</style>\n",
       "<table border=\"1\" class=\"dataframe\">\n",
       "  <thead>\n",
       "    <tr style=\"text-align: right;\">\n",
       "      <th></th>\n",
       "      <th>tconst</th>\n",
       "      <th>averageRating</th>\n",
       "      <th>numVotes</th>\n",
       "    </tr>\n",
       "  </thead>\n",
       "  <tbody>\n",
       "    <tr>\n",
       "      <th>0</th>\n",
       "      <td>tt0000001</td>\n",
       "      <td>5.7</td>\n",
       "      <td>2007</td>\n",
       "    </tr>\n",
       "    <tr>\n",
       "      <th>1</th>\n",
       "      <td>tt0000002</td>\n",
       "      <td>5.8</td>\n",
       "      <td>269</td>\n",
       "    </tr>\n",
       "    <tr>\n",
       "      <th>2</th>\n",
       "      <td>tt0000003</td>\n",
       "      <td>6.5</td>\n",
       "      <td>1911</td>\n",
       "    </tr>\n",
       "    <tr>\n",
       "      <th>3</th>\n",
       "      <td>tt0000004</td>\n",
       "      <td>5.5</td>\n",
       "      <td>178</td>\n",
       "    </tr>\n",
       "    <tr>\n",
       "      <th>4</th>\n",
       "      <td>tt0000005</td>\n",
       "      <td>6.2</td>\n",
       "      <td>2692</td>\n",
       "    </tr>\n",
       "  </tbody>\n",
       "</table>\n",
       "</div>"
      ],
      "text/plain": [
       "      tconst  averageRating  numVotes\n",
       "0  tt0000001            5.7      2007\n",
       "1  tt0000002            5.8       269\n",
       "2  tt0000003            6.5      1911\n",
       "3  tt0000004            5.5       178\n",
       "4  tt0000005            6.2      2692"
      ]
     },
     "execution_count": 6,
     "metadata": {},
     "output_type": "execute_result"
    }
   ],
   "source": [
    "# Read in title.akas.tsv\n",
    "ratings_url = \"https://datasets.imdbws.com/title.ratings.tsv.gz\"\n",
    "title_ratings_df = pd.read_csv(ratings_url, sep='\\t', low_memory=False)\n",
    "title_ratings_df.head()"
   ]
  },
  {
   "cell_type": "markdown",
   "id": "8c1dba05-2adb-46da-bd26-492a643d56f8",
   "metadata": {},
   "source": [
    "### Data Cleaning"
   ]
  },
  {
   "cell_type": "markdown",
   "id": "7be97617-6f14-45bf-9157-f2ef932168fb",
   "metadata": {},
   "source": [
    "#### Handling \\N Placeholder Values"
   ]
  },
  {
   "cell_type": "code",
   "execution_count": 7,
   "id": "ca505b85-da65-43c3-bd4d-2aecd2fef9eb",
   "metadata": {},
   "outputs": [
    {
     "data": {
      "text/plain": [
       "tconst             0\n",
       "titleType          0\n",
       "primaryTitle      11\n",
       "originalTitle     11\n",
       "isAdult            0\n",
       "startYear          0\n",
       "endYear            0\n",
       "runtimeMinutes     0\n",
       "genres            18\n",
       "dtype: int64"
      ]
     },
     "execution_count": 7,
     "metadata": {},
     "output_type": "execute_result"
    }
   ],
   "source": [
    "#Count null values in title basic before handling \\N placeholder values\n",
    "title_basic_df.isnull().sum()"
   ]
  },
  {
   "cell_type": "code",
   "execution_count": 8,
   "id": "a5c49d7f-05fd-4805-bfdd-55a39318d948",
   "metadata": {},
   "outputs": [
    {
     "data": {
      "text/plain": [
       "titleId              0\n",
       "ordering             0\n",
       "title                5\n",
       "region             117\n",
       "language             0\n",
       "types                0\n",
       "attributes           0\n",
       "isOriginalTitle      0\n",
       "dtype: int64"
      ]
     },
     "execution_count": 8,
     "metadata": {},
     "output_type": "execute_result"
    }
   ],
   "source": [
    "#Count null values in title akas before handling \\N placeholder values\n",
    "title_akas_df.isnull().sum()"
   ]
  },
  {
   "cell_type": "code",
   "execution_count": 9,
   "id": "a2f52efd-1a49-4f4b-be04-11e6e6f3bd55",
   "metadata": {},
   "outputs": [
    {
     "data": {
      "text/plain": [
       "tconst           0\n",
       "averageRating    0\n",
       "numVotes         0\n",
       "dtype: int64"
      ]
     },
     "execution_count": 9,
     "metadata": {},
     "output_type": "execute_result"
    }
   ],
   "source": [
    "#Count null values in title ratings before handling \\N placeholder values\n",
    "title_ratings_df.isnull().sum()"
   ]
  },
  {
   "cell_type": "code",
   "execution_count": 10,
   "id": "0255e3f2-c5b0-4bea-915e-ca4012d5f207",
   "metadata": {},
   "outputs": [],
   "source": [
    "# Replace '\\N' with np.nan for each DataFrame \n",
    "title_basic_df.replace({'\\\\N': np.nan}, inplace=True)\n",
    "title_akas_df.replace({'\\\\N': np.nan}, inplace=True)\n",
    "title_ratings_df.replace({'\\\\N': np.nan}, inplace=True)"
   ]
  },
  {
   "cell_type": "code",
   "execution_count": 11,
   "id": "3ee46332-6d7d-4194-968a-faf0b19cf342",
   "metadata": {},
   "outputs": [
    {
     "data": {
      "text/plain": [
       "tconst                   0\n",
       "titleType                0\n",
       "primaryTitle            11\n",
       "originalTitle           11\n",
       "isAdult                  1\n",
       "startYear          1382004\n",
       "endYear           10199614\n",
       "runtimeMinutes     7207667\n",
       "genres              460268\n",
       "dtype: int64"
      ]
     },
     "execution_count": 11,
     "metadata": {},
     "output_type": "execute_result"
    }
   ],
   "source": [
    "#Count null values in title basic after handling \\N placeholder values\n",
    "title_basic_df.isnull().sum()"
   ]
  },
  {
   "cell_type": "code",
   "execution_count": 12,
   "id": "7bb198de-0ddc-438c-a10f-155c3c5516be",
   "metadata": {},
   "outputs": [
    {
     "data": {
      "text/plain": [
       "titleId                   0\n",
       "ordering                  0\n",
       "title                     5\n",
       "region              1908160\n",
       "language            6806931\n",
       "types              32051544\n",
       "attributes         37499124\n",
       "isOriginalTitle        2077\n",
       "dtype: int64"
      ]
     },
     "execution_count": 12,
     "metadata": {},
     "output_type": "execute_result"
    }
   ],
   "source": [
    "#Count null values in title akas after handling \\N placeholder values\n",
    "title_akas_df.isnull().sum()"
   ]
  },
  {
   "cell_type": "code",
   "execution_count": 13,
   "id": "da924604-0f8f-45ce-9228-e877d770babd",
   "metadata": {},
   "outputs": [
    {
     "data": {
      "text/plain": [
       "tconst           0\n",
       "averageRating    0\n",
       "numVotes         0\n",
       "dtype: int64"
      ]
     },
     "execution_count": 13,
     "metadata": {},
     "output_type": "execute_result"
    }
   ],
   "source": [
    "#Count null values in title ratings after handling \\N placeholder values\n",
    "title_ratings_df.isnull().sum()"
   ]
  },
  {
   "cell_type": "markdown",
   "id": "4ada060c-5774-491a-b730-6af08f0a7731",
   "metadata": {},
   "source": [
    "#### Filter Out Movies"
   ]
  },
  {
   "cell_type": "code",
   "execution_count": 14,
   "id": "2df83f0c-8d3b-4064-acaf-7244c808bba3",
   "metadata": {},
   "outputs": [
    {
     "data": {
      "text/plain": [
       "(10314337, 9)"
      ]
     },
     "execution_count": 14,
     "metadata": {},
     "output_type": "execute_result"
    }
   ],
   "source": [
    "# title_basic_df Dataframe shape before filtering out movies\n",
    "title_basic_df.shape"
   ]
  },
  {
   "cell_type": "code",
   "execution_count": 15,
   "id": "b124a5d0-db7f-427b-a04f-7b7216f919d5",
   "metadata": {},
   "outputs": [
    {
     "data": {
      "text/plain": [
       "(37768311, 8)"
      ]
     },
     "execution_count": 15,
     "metadata": {},
     "output_type": "execute_result"
    }
   ],
   "source": [
    "#title_akas_df Dataframe shape before filtering out movies\n",
    "title_akas_df.shape"
   ]
  },
  {
   "cell_type": "code",
   "execution_count": 16,
   "id": "14f9f847-353e-4cf6-b91b-3ed873339a53",
   "metadata": {},
   "outputs": [
    {
     "data": {
      "text/plain": [
       "(1368573, 3)"
      ]
     },
     "execution_count": 16,
     "metadata": {},
     "output_type": "execute_result"
    }
   ],
   "source": [
    "# title_ratings_df Dataframe shape before filtering out movies\n",
    "title_ratings_df.shape"
   ]
  },
  {
   "cell_type": "markdown",
   "id": "98238582-49c4-41d3-9e69-175965544715",
   "metadata": {},
   "source": [
    "-  **Exclude any movie with missing values for genre or runtime**"
   ]
  },
  {
   "cell_type": "code",
   "execution_count": 17,
   "id": "7b20d205-deda-423c-b02d-33a172f541f6",
   "metadata": {},
   "outputs": [],
   "source": [
    "# Remove rows where 'genres' or 'runtimeMinutes' is missing\n",
    "filtered_title_basic_df = title_basic_df.dropna(subset=['genres', 'runtimeMinutes'])\n",
    "\n",
    "# Collect the IDs of the filtered rows\n",
    "filtered_tconst = filtered_title_basic_df['tconst'].tolist()\n",
    "\n",
    "# Filter corresponding rows in title_akas_df and title_ratings_df based on the collected IDs\n",
    "filtered_title_akas_df = title_akas_df[title_akas_df['titleId'].isin(filtered_tconst)]\n",
    "filtered_title_ratings_df = title_ratings_df[title_ratings_df['tconst'].isin(filtered_tconst)]"
   ]
  },
  {
   "cell_type": "code",
   "execution_count": 18,
   "id": "5c707ec1-e6c6-4695-9e71-3f7411436074",
   "metadata": {},
   "outputs": [
    {
     "data": {
      "text/plain": [
       "(3024463, 9)"
      ]
     },
     "execution_count": 18,
     "metadata": {},
     "output_type": "execute_result"
    }
   ],
   "source": [
    "# title_basic_df Dataframe shape after filtering out movies with missing values for genre or runtime\n",
    "filtered_title_basic_df.shape"
   ]
  },
  {
   "cell_type": "code",
   "execution_count": 19,
   "id": "d38cb928-9991-4b1e-8604-784aadb0789c",
   "metadata": {},
   "outputs": [
    {
     "data": {
      "text/plain": [
       "(10192383, 8)"
      ]
     },
     "execution_count": 19,
     "metadata": {},
     "output_type": "execute_result"
    }
   ],
   "source": [
    "# title_akas_df Dataframe shape after filtering out movies with missing values for genre or runtime\n",
    "filtered_title_akas_df.shape"
   ]
  },
  {
   "cell_type": "code",
   "execution_count": 20,
   "id": "44566bc2-bf55-4195-ba9c-17fd7ee547cc",
   "metadata": {},
   "outputs": [
    {
     "data": {
      "text/plain": [
       "(961733, 3)"
      ]
     },
     "execution_count": 20,
     "metadata": {},
     "output_type": "execute_result"
    }
   ],
   "source": [
    "#title_ratings_df Dataframe shape after filtering out movies with missing values for genre or runtime\n",
    "filtered_title_ratings_df.shape"
   ]
  },
  {
   "cell_type": "markdown",
   "id": "9a0cea4e-f319-4b7a-aea8-32b06626cd1d",
   "metadata": {},
   "source": [
    "- **Include only full-length movies (titleType = \"movie\")**"
   ]
  },
  {
   "cell_type": "code",
   "execution_count": 21,
   "id": "09b0906c-2930-4603-b664-d6bb083990dc",
   "metadata": {},
   "outputs": [],
   "source": [
    "# Include only rows where 'titleType' is 'movie'\n",
    "filtered_title_basic_df = filtered_title_basic_df[filtered_title_basic_df['titleType'] == 'movie']\n",
    "\n",
    "# Collect the IDs of the filtered rows\n",
    "filtered_tconst = filtered_title_basic_df['tconst'].tolist()\n",
    "\n",
    "# Filter corresponding rows in title_akas_df and title_ratings_df based on the collected IDs\n",
    "filtered_title_akas_df = title_akas_df[title_akas_df['titleId'].isin(filtered_tconst)]\n",
    "filtered_title_ratings_df = title_ratings_df[title_ratings_df['tconst'].isin(filtered_tconst)]\n"
   ]
  },
  {
   "cell_type": "code",
   "execution_count": 22,
   "id": "af0b2cf5-8c0b-4dd7-9faa-8b45fe3479aa",
   "metadata": {},
   "outputs": [
    {
     "data": {
      "text/plain": [
       "(392280, 9)"
      ]
     },
     "execution_count": 22,
     "metadata": {},
     "output_type": "execute_result"
    }
   ],
   "source": [
    "# filtered_title_basic_df Dataframe shape after including only rows where 'titleType' is 'movie'\n",
    "filtered_title_basic_df.shape"
   ]
  },
  {
   "cell_type": "code",
   "execution_count": 23,
   "id": "2a59ed9d-3818-41e2-bfc6-1c53400e2c8b",
   "metadata": {},
   "outputs": [
    {
     "data": {
      "text/plain": [
       "(2461799, 8)"
      ]
     },
     "execution_count": 23,
     "metadata": {},
     "output_type": "execute_result"
    }
   ],
   "source": [
    "#filtered_title_akas_df Dataframe shape after including only rows where 'titleType' is 'movie'\n",
    "filtered_title_akas_df.shape"
   ]
  },
  {
   "cell_type": "code",
   "execution_count": 24,
   "id": "8a731fc6-f579-433b-a008-1022d3baf85f",
   "metadata": {},
   "outputs": [
    {
     "data": {
      "text/plain": [
       "(264414, 3)"
      ]
     },
     "execution_count": 24,
     "metadata": {},
     "output_type": "execute_result"
    }
   ],
   "source": [
    "#filtered_title_ratings_df Dataframe shape after including only rows where 'titleType' is 'movie'\n",
    "filtered_title_ratings_df.shape"
   ]
  },
  {
   "cell_type": "markdown",
   "id": "045c9114-930b-4755-bbd1-3086b656f38f",
   "metadata": {},
   "source": [
    "- **Include only fictional movies (not from documentary genre)**"
   ]
  },
  {
   "cell_type": "code",
   "execution_count": 25,
   "id": "bf3791bd-38d6-42cf-9d6d-fa50a390ba47",
   "metadata": {},
   "outputs": [],
   "source": [
    "# Include only rows where 'genres' does not contain 'Documentary'\n",
    "filtered_title_basic_df = filtered_title_basic_df[(~filtered_title_basic_df['genres'].str.contains('Documentary',case=False))]\n",
    "\n",
    "# Collect the IDs of the filtered rows\n",
    "filtered_tconst = filtered_title_basic_df['tconst'].tolist()\n",
    "\n",
    "# Filter corresponding rows in title_akas_df and title_ratings_df based on the collected IDs\n",
    "filtered_title_akas_df = title_akas_df[title_akas_df['titleId'].isin(filtered_tconst)]\n",
    "filtered_title_ratings_df = title_ratings_df[title_ratings_df['tconst'].isin(filtered_tconst)]\n"
   ]
  },
  {
   "cell_type": "code",
   "execution_count": 26,
   "id": "64b852a9-c68f-4d28-9a2d-28421907adea",
   "metadata": {},
   "outputs": [
    {
     "data": {
      "text/plain": [
       "(296857, 9)"
      ]
     },
     "execution_count": 26,
     "metadata": {},
     "output_type": "execute_result"
    }
   ],
   "source": [
    "#filtered_title_basic_df Dataframe shape after including only rows where 'genres' does not contain 'Documentary'\n",
    "filtered_title_basic_df.shape"
   ]
  },
  {
   "cell_type": "code",
   "execution_count": 27,
   "id": "805a91cd-4a82-4eec-ba5c-03d893289d73",
   "metadata": {},
   "outputs": [
    {
     "data": {
      "text/plain": [
       "(2167552, 8)"
      ]
     },
     "execution_count": 27,
     "metadata": {},
     "output_type": "execute_result"
    }
   ],
   "source": [
    "#filtered_title_akas_df Dataframe shape after including only rows where 'genres' does not contain 'Documentary'\n",
    "filtered_title_akas_df.shape"
   ]
  },
  {
   "cell_type": "code",
   "execution_count": 28,
   "id": "b494f6fc-5b00-47dc-a913-95f7b789cae5",
   "metadata": {},
   "outputs": [
    {
     "data": {
      "text/plain": [
       "(221164, 3)"
      ]
     },
     "execution_count": 28,
     "metadata": {},
     "output_type": "execute_result"
    }
   ],
   "source": [
    "#filtered_title_ratings_df Dataframe shape after including only rows where 'genres' does not contain 'Documentary'\n",
    "filtered_title_ratings_df.shape"
   ]
  },
  {
   "cell_type": "markdown",
   "id": "7e766e45-37fc-420f-88b5-1500f0a3ee6d",
   "metadata": {},
   "source": [
    "- **Include only movies that were released 2000 - 2021 (include 2000 and 2021)**"
   ]
  },
  {
   "cell_type": "code",
   "execution_count": 29,
   "id": "afab20f3-898b-4dd4-899a-0d7f6d761653",
   "metadata": {},
   "outputs": [],
   "source": [
    "# Convert 'startYear' to numeric (integers) if it's in object format\n",
    "filtered_title_basic_df['startYear'] = pd.to_numeric(filtered_title_basic_df['startYear'], errors='coerce')\n",
    "\n",
    "# Filter 'startYear' values between 2000 and 2022\n",
    "filtered_title_basic_df = filtered_title_basic_df[(filtered_title_basic_df['startYear'] >= 2000) & (filtered_title_basic_df['startYear'] <= 2022)]\n",
    "\n",
    "\n",
    "# Include only rows where 'startYear' is either 2000 or 2001\n",
    "#filtered_title_basic_df = filtered_title_basic_df[((filtered_title_basic_df['startYear'] == '2000') | (filtered_title_basic_df['startYear'] == '2001'))].copy()\n",
    "\n",
    "# Collect the IDs of the filtered rows\n",
    "filtered_tconst = filtered_title_basic_df['tconst'].tolist()\n",
    "\n",
    "# Filter corresponding rows in title_akas_df and title_ratings_df based on the collected IDs\n",
    "filtered_title_akas_df = title_akas_df[title_akas_df['titleId'].isin(filtered_tconst)]\n",
    "filtered_title_ratings_df = title_ratings_df[title_ratings_df['tconst'].isin(filtered_tconst)]"
   ]
  },
  {
   "cell_type": "code",
   "execution_count": 30,
   "id": "91357302-a63b-419d-be5e-f7b74e7a4c4f",
   "metadata": {},
   "outputs": [
    {
     "data": {
      "text/plain": [
       "(148775, 9)"
      ]
     },
     "execution_count": 30,
     "metadata": {},
     "output_type": "execute_result"
    }
   ],
   "source": [
    "#filtered_title_basic_df Dataframe shape after including only rows where 'startYear' is between 2000 and 2022\n",
    "filtered_title_basic_df.shape"
   ]
  },
  {
   "cell_type": "code",
   "execution_count": 31,
   "id": "50869af9-37d0-46d9-9906-f0b6f16b636b",
   "metadata": {},
   "outputs": [
    {
     "data": {
      "text/plain": [
       "(1025400, 8)"
      ]
     },
     "execution_count": 31,
     "metadata": {},
     "output_type": "execute_result"
    }
   ],
   "source": [
    "#filtered_title_akas_df Dataframe shape after including only rows where 'startYear' is between 2000 and 2022\n",
    "filtered_title_akas_df.shape"
   ]
  },
  {
   "cell_type": "code",
   "execution_count": 32,
   "id": "3072bbaf-287d-48da-88db-04146f5c1223",
   "metadata": {},
   "outputs": [
    {
     "data": {
      "text/plain": [
       "(111942, 3)"
      ]
     },
     "execution_count": 32,
     "metadata": {},
     "output_type": "execute_result"
    }
   ],
   "source": [
    "#filtered_title_ratings_df Dataframe shape after including only rows where 'startYear' is between 2000 and 2022\n",
    "filtered_title_ratings_df.shape"
   ]
  },
  {
   "cell_type": "markdown",
   "id": "f85d6899-0caa-4ac4-85f1-0fc2f72953e6",
   "metadata": {},
   "source": [
    "- **Include only movies that were released in the United States**"
   ]
  },
  {
   "cell_type": "code",
   "execution_count": 33,
   "id": "69ddea96-19d0-4dcc-821b-51684c074047",
   "metadata": {},
   "outputs": [],
   "source": [
    "# Include only rows where 'country' is 'USA'\n",
    "filtered_title_akas_df = filtered_title_akas_df[filtered_title_akas_df['region'] == 'US']\n",
    "\n",
    "# Collect the IDs of the filtered rows\n",
    "filtered_titleId = filtered_title_akas_df['titleId'].tolist()\n",
    "\n",
    "# Filter corresponding rows in filtered_title_basic_df and filtered_title_ratings_df based on the collected IDs\n",
    "filtered_title_basic_df = filtered_title_basic_df[filtered_title_basic_df['tconst'].isin(filtered_titleId)]\n",
    "filtered_title_ratings_df = filtered_title_ratings_df[filtered_title_ratings_df['tconst'].isin(filtered_titleId)]\n"
   ]
  },
  {
   "cell_type": "code",
   "execution_count": 34,
   "id": "a6c8f7fd-fac1-4847-a599-b2e0be2deb31",
   "metadata": {},
   "outputs": [
    {
     "data": {
      "text/plain": [
       "(87493, 9)"
      ]
     },
     "execution_count": 34,
     "metadata": {},
     "output_type": "execute_result"
    }
   ],
   "source": [
    "#filtered_title_basic_df Dataframe shape after filtering out movies that were released in the US\n",
    "filtered_title_basic_df.shape"
   ]
  },
  {
   "cell_type": "code",
   "execution_count": 35,
   "id": "df5bea2a-e958-4dbd-89d9-92d87a3f4a61",
   "metadata": {},
   "outputs": [
    {
     "data": {
      "text/plain": [
       "(97315, 8)"
      ]
     },
     "execution_count": 35,
     "metadata": {},
     "output_type": "execute_result"
    }
   ],
   "source": [
    "#filtered_title_akas_df Dataframe shape after filtering out movies that were released in the US\n",
    "filtered_title_akas_df.shape"
   ]
  },
  {
   "cell_type": "code",
   "execution_count": 36,
   "id": "dd44cc1a-bd65-4deb-9246-5f54b09e7a49",
   "metadata": {},
   "outputs": [
    {
     "data": {
      "text/plain": [
       "(72584, 3)"
      ]
     },
     "execution_count": 36,
     "metadata": {},
     "output_type": "execute_result"
    }
   ],
   "source": [
    "#filtered_title_ratings_df Dataframe shape after filtering out movies that were released in the US\n",
    "filtered_title_ratings_df.shape"
   ]
  },
  {
   "cell_type": "markdown",
   "id": "d70ac7d0-2ac0-4717-b4e7-917916e5f199",
   "metadata": {},
   "source": [
    "#### Dataframes Summaries"
   ]
  },
  {
   "cell_type": "markdown",
   "id": "6cfa58da-8377-4941-aa51-fc8c50a0efbe",
   "metadata": {},
   "source": [
    "**title_basic_df**"
   ]
  },
  {
   "cell_type": "code",
   "execution_count": 37,
   "id": "ffdb5466-3b3b-4712-9dca-e869f365e9b6",
   "metadata": {},
   "outputs": [
    {
     "name": "stdout",
     "output_type": "stream",
     "text": [
      "<class 'pandas.core.frame.DataFrame'>\n",
      "Int64Index: 87493 entries, 34800 to 10314103\n",
      "Data columns (total 9 columns):\n",
      " #   Column          Non-Null Count  Dtype  \n",
      "---  ------          --------------  -----  \n",
      " 0   tconst          87493 non-null  object \n",
      " 1   titleType       87493 non-null  object \n",
      " 2   primaryTitle    87493 non-null  object \n",
      " 3   originalTitle   87493 non-null  object \n",
      " 4   isAdult         87493 non-null  object \n",
      " 5   startYear       87493 non-null  float64\n",
      " 6   endYear         0 non-null      object \n",
      " 7   runtimeMinutes  87493 non-null  object \n",
      " 8   genres          87493 non-null  object \n",
      "dtypes: float64(1), object(8)\n",
      "memory usage: 6.7+ MB\n"
     ]
    }
   ],
   "source": [
    "filtered_title_basic_df.info()"
   ]
  },
  {
   "cell_type": "markdown",
   "id": "08671bed-8168-4617-9f9e-3662c97ac58d",
   "metadata": {},
   "source": [
    "**title_akas_df**"
   ]
  },
  {
   "cell_type": "code",
   "execution_count": 38,
   "id": "f9551662-1b7c-4fb2-aece-23366bf17655",
   "metadata": {},
   "outputs": [
    {
     "name": "stdout",
     "output_type": "stream",
     "text": [
      "<class 'pandas.core.frame.DataFrame'>\n",
      "Int64Index: 97315 entries, 203969 to 37767570\n",
      "Data columns (total 8 columns):\n",
      " #   Column           Non-Null Count  Dtype \n",
      "---  ------           --------------  ----- \n",
      " 0   titleId          97315 non-null  object\n",
      " 1   ordering         97315 non-null  int64 \n",
      " 2   title            97315 non-null  object\n",
      " 3   region           97315 non-null  object\n",
      " 4   language         962 non-null    object\n",
      " 5   types            89568 non-null  object\n",
      " 6   attributes       4369 non-null   object\n",
      " 7   isOriginalTitle  97315 non-null  object\n",
      "dtypes: int64(1), object(7)\n",
      "memory usage: 6.7+ MB\n"
     ]
    }
   ],
   "source": [
    "filtered_title_akas_df.info()"
   ]
  },
  {
   "cell_type": "markdown",
   "id": "f5e806b0-00a3-4aa2-b6a5-e98c79beda40",
   "metadata": {},
   "source": [
    "**title_ratings_df**"
   ]
  },
  {
   "cell_type": "code",
   "execution_count": 39,
   "id": "8d4cda1c-ac8c-4c61-b0a8-47f8b5460618",
   "metadata": {},
   "outputs": [
    {
     "name": "stdout",
     "output_type": "stream",
     "text": [
      "<class 'pandas.core.frame.DataFrame'>\n",
      "Int64Index: 72584 entries, 17967 to 1368544\n",
      "Data columns (total 3 columns):\n",
      " #   Column         Non-Null Count  Dtype  \n",
      "---  ------         --------------  -----  \n",
      " 0   tconst         72584 non-null  object \n",
      " 1   averageRating  72584 non-null  float64\n",
      " 2   numVotes       72584 non-null  int64  \n",
      "dtypes: float64(1), int64(1), object(1)\n",
      "memory usage: 2.2+ MB\n"
     ]
    }
   ],
   "source": [
    "filtered_title_ratings_df.info()"
   ]
  },
  {
   "cell_type": "markdown",
   "id": "78a43e0b-1b17-4c22-bba2-571973f5c9de",
   "metadata": {},
   "source": [
    "#### Save Dataframes"
   ]
  },
  {
   "cell_type": "code",
   "execution_count": 40,
   "id": "4f0606b0-b21b-4e82-9499-ebafa926ef18",
   "metadata": {},
   "outputs": [
    {
     "data": {
      "text/plain": [
       "['filtered_title_akas.csv.gz',\n",
       " 'combined_tmdb_data.csv.gz',\n",
       " 'filtered_title_ratings.csv.gz',\n",
       " '.ipynb_checkpoints',\n",
       " 'filtered_title_basic.csv.gz']"
      ]
     },
     "execution_count": 40,
     "metadata": {},
     "output_type": "execute_result"
    }
   ],
   "source": [
    "#Create Data folder\n",
    "os.makedirs('Data/',exist_ok=True) \n",
    "\n",
    "# Confirm folder created\n",
    "os.listdir(\"Data/\")"
   ]
  },
  {
   "cell_type": "code",
   "execution_count": 41,
   "id": "dcd9e80c-ae54-49c6-b5e8-962743fd8534",
   "metadata": {},
   "outputs": [],
   "source": [
    "# Save filtered_title_basic_df DataFrame to a compressed CSV file in the \"Data/\" folder\n",
    "filtered_title_basic_df.to_csv('Data/filtered_title_basic.csv.gz', index=False, compression='gzip')"
   ]
  },
  {
   "cell_type": "code",
   "execution_count": 42,
   "id": "11c9de64-9607-4197-8209-687170a5e95d",
   "metadata": {},
   "outputs": [],
   "source": [
    "# Save filtered_title_akas_df DataFrame to a compressed CSV file in the \"Data/\" folder\n",
    "filtered_title_akas_df.to_csv('Data/filtered_title_akas.csv.gz', index=False, compression='gzip')"
   ]
  },
  {
   "cell_type": "code",
   "execution_count": 43,
   "id": "8474b565-6278-4442-b3d4-e7f9a5c77168",
   "metadata": {},
   "outputs": [],
   "source": [
    "# Save filtered_title_ratings_df DataFrame to a compressed CSV file in the \"Data/\" folder\n",
    "filtered_title_ratings_df.to_csv('Data/filtered_title_ratings.csv.gz', index=False, compression='gzip')"
   ]
  },
  {
   "cell_type": "markdown",
   "id": "b6edcc51-bbf1-4af5-af66-332a9e900e37",
   "metadata": {},
   "source": [
    "## Part 2: Extract from TMDB"
   ]
  },
  {
   "cell_type": "markdown",
   "id": "f8a90c4f-eeb3-402b-842c-b01478874d8f",
   "metadata": {},
   "source": [
    "### Import Libraries"
   ]
  },
  {
   "cell_type": "code",
   "execution_count": 44,
   "id": "8304074b-2cfa-4b11-81fc-ad0ee53dcfde",
   "metadata": {},
   "outputs": [],
   "source": [
    "#Import Libraries\n",
    "import os, time,json\n",
    "import tmdbsimple as tmdb \n",
    "from tqdm.notebook import tqdm_notebook\n",
    "import pandas as pd\n",
    "import glob\n",
    "import locale"
   ]
  },
  {
   "cell_type": "code",
   "execution_count": 45,
   "id": "fc1118ae-8bfa-4566-9c33-755ac7d5a4a8",
   "metadata": {},
   "outputs": [],
   "source": [
    "#Loading TMDB API Key from JSON File and Setting it for TMDb API Access\n",
    "with open('/Users/leratomatlala/.secret/tmdb_api.json', 'r') as f:\n",
    "    login = json.load(f)\n",
    "## Display the keys of the loaded dict\n",
    "login.keys()\n",
    "\n",
    "tmdb.API_KEY =  login['api-key']"
   ]
  },
  {
   "cell_type": "code",
   "execution_count": 46,
   "id": "e45b3945-c820-4f6c-9f99-1e0f1b1dc66b",
   "metadata": {},
   "outputs": [],
   "source": [
    "def write_json(new_data, filename): \n",
    "    \"\"\"Appends a list of records (new_data) to a json file (filename). \n",
    "    Adapted from: https://www.geeksforgeeks.org/append-to-json-file-using-python/\"\"\"  \n",
    "    \n",
    "    with open(filename,'r+') as file:\n",
    "        # First we load existing data into a dict.\n",
    "        file_data = json.load(file)\n",
    "        ## Choose extend or append\n",
    "        if (type(new_data) == list) & (type(file_data) == list):\n",
    "            file_data.extend(new_data)\n",
    "        else:\n",
    "             file_data.append(new_data)\n",
    "        # Sets file's current position at offset.\n",
    "        file.seek(0)\n",
    "        # convert back to json.\n",
    "        json.dump(file_data, file)\n"
   ]
  },
  {
   "cell_type": "markdown",
   "id": "717df181-fdff-48e2-8a84-15b7d4cfe708",
   "metadata": {},
   "source": [
    "### TMDB API Calls"
   ]
  },
  {
   "cell_type": "code",
   "execution_count": 47,
   "id": "f95264f4-26d4-4d21-8590-ab65481f0524",
   "metadata": {},
   "outputs": [],
   "source": [
    "#Function to Retrieve Movie Information with Certification Rating for a Given Movie ID\n",
    "def get_movie_with_rating(movie_id):\n",
    "    \"\"\"Adapted from source = https://github.com/celiao/tmdbsimple\"\"\"\n",
    "    movie  = tmdb.Movies(movie_id)\n",
    "    info = movie.info()\n",
    "    releases = movie.releases()\n",
    "    for c in releases['countries']:\n",
    "        if c['iso_3166_1'] == 'US':\n",
    "            info['certification'] = c['certification']\n",
    "            \n",
    "            return info"
   ]
  },
  {
   "cell_type": "code",
   "execution_count": 51,
   "id": "502d7d4d-9188-42bd-b790-20fb5d71422f",
   "metadata": {
    "scrolled": true
   },
   "outputs": [
    {
     "data": {
      "application/vnd.jupyter.widget-view+json": {
       "model_id": "22670b1ff6ae469e92adaf1878c8999a",
       "version_major": 2,
       "version_minor": 0
      },
      "text/plain": [
       "YEARS:   0%|          | 0/2 [00:00<?, ?it/s]"
      ]
     },
     "metadata": {},
     "output_type": "display_data"
    },
    {
     "data": {
      "application/vnd.jupyter.widget-view+json": {
       "model_id": "1afdcfb36d7642d58a9664086ee60140",
       "version_major": 2,
       "version_minor": 0
      },
      "text/plain": [
       "Movies from 2000:   0%|          | 0/1468 [00:00<?, ?it/s]"
      ]
     },
     "metadata": {},
     "output_type": "display_data"
    },
    {
     "name": "stdout",
     "output_type": "stream",
     "text": [
      "Contents of Data/tmdb_api_results_2000.json:\n",
      "[{\"imdb_id\": 0}, {\"imdb_id\": \"tt0113026\", \"revenue\": 0, \"budget\": 10000000, \"certification\": \"\"}, {\"imdb_id\": \"tt0113092\", \"revenue\": 0, \"budget\": 0, \"certification\": \"\"}, {\"imdb_id\": \"tt0118694\", \"revenue\": 14204632, \"budget\": 150000, \"certification\": \"PG\"}, {\"imdb_id\": \"tt0118852\", \"revenue\": 0, \"budget\": 0, \"certification\": \"R\"}, {\"imdb_id\": \"tt0119273\", \"revenue\": 0, \"budget\": 15000000, \"certification\": \"R\"}, {\"imdb_id\": \"tt0119495\", \"revenue\": 0, \"budget\": 0, \"certification\": \"R\"}, {\"imdb_id\": \"tt0120202\", \"revenue\": 9206279, \"budget\": 0, \"certification\": \"\"}, {\"imdb_id\": \"tt0120263\", \"revenue\": 80334, \"budget\": 0, \"certification\": \"\"}, {\"imdb_id\": \"tt0120467\", \"revenue\": 14904, \"budget\": 120000, \"certification\": \"R\"}, {\"imdb_id\": \"tt0120630\", \"revenue\": 224834564, \"budget\": 45000000, \"certification\": \"G\"}, {\"imdb_id\": \"tt0120698\", \"revenue\": 0, \"budget\": 0, \"certification\": \"\"}, {\"imdb_id\": \"tt0120733\", \"revenue\": 0, \"budget\": 0, \"certification\": \"NR\"}, {\"imdb_id\": \"tt0120753\", \"revenue\": 105983, \"budget\": 8000000, \"certification\": \"R\"}, {\"imdb_id\": \"tt0120755\", \"revenue\": 546388105, \"budget\": 125000000, \"certification\": \"\"}, {\"imdb_id\": \"tt0120903\", \"revenue\": 296339527, \"budget\": 75000000, \"certification\": \"PG-13\"}, {\"imdb_id\": \"tt0120913\", \"revenue\": 36754634, \"budget\": 75000000, \"certification\": \"PG\"}, {\"imdb_id\": \"tt0120917\", \"revenue\": 169327687, \"budget\": 100000000, \"certification\": \"G\"}, {\"imdb_id\": \"tt0122161\", \"revenue\": 0, \"budget\": 0, \"certification\": \"R\"}, {\"imdb_id\": \"tt0122459\", \"revenue\": 36609995, \"budget\": 24000000, \"certification\": \"PG\"}, {\"imdb_id\": \"tt0123003\", \"revenue\": 0, \"budget\": 10000000, \"certification\": \"\"}, {\"imdb_id\": \"tt0123055\", \"revenue\": 0, \"budget\": 0, \"certification\": \"G\"}, {\"imdb_id\": \"tt0127349\", \"revenue\": 327418, \"budget\": 8500000, \"certification\": \"\"}, {\"imdb_id\": \"tt0130623\", \"revenue\": 354248063, \"budget\": 127500000, \"certification\": \"PG\"}, {\"imdb_id\": \"tt0131704\", \"revenue\": 35134820, \"budget\": 76000000, \"certification\": \"PG\"}, {\"imdb_id\": \"tt0132910\", \"revenue\": 0, \"budget\": 10000000, \"certification\": \"R\"}, {\"imdb_id\": \"tt0133752\", \"revenue\": 0, \"budget\": 0, \"certification\": \"\"}, {\"imdb_id\": \"tt0134084\", \"revenue\": 161834276, \"budget\": 40000000, \"certification\": \"R\"}, {\"imdb_id\": \"tt0134630\", \"revenue\": 0, \"budget\": 0, \"certification\": \"R\"}, {\"imdb_id\": \"tt0134847\", \"revenue\": 53187659, \"budget\": 23000000, \"certification\": \"R\"}, {\"imdb_id\": \"tt0134983\", \"revenue\": 14828081, \"budget\": 90000000, \"certification\": \"PG-13\"}, {\"imdb_id\": \"tt0138288\", \"revenue\": 0, \"budget\": 0, \"certification\": \"\"}, {\"imdb_id\": \"tt0138353\", \"revenue\": 0, \"budget\": 1700000, \"certification\": \"R\"}, {\"imdb_id\": \"tt0138749\", \"revenue\": 76432727, \"budget\": 95000000, \"certification\": \"PG\"}, {\"imdb_id\": \"tt0138818\", \"revenue\": 0, \"budget\": 0, \"certification\": \"PG-13\"}, {\"imdb_id\": \"tt0138927\", \"revenue\": 0, \"budget\": 0, \"certification\": \"PG-13\"}, {\"imdb_id\": \"tt0138946\", \"revenue\": 0, \"budget\": 0, \"certification\": \"\"}, {\"imdb_id\": \"tt0139388\", \"revenue\": 0, \"budget\": 0, \"certification\": \"PG\"}, {\"imdb_id\": \"tt0139500\", \"revenue\": 0, \"budget\": 0, \"certification\": \"\"}, {\"imdb_id\": \"tt0141926\", \"revenue\": 127666415, \"budget\": 62000000, \"certification\": \"PG-13\"}, {\"imdb_id\": \"tt0142650\", \"revenue\": 0, \"budget\": 0, \"certification\": \"R\"}, {\"imdb_id\": \"tt0143344\", \"revenue\": 0, \"budget\": 0, \"certification\": \"\"}, {\"imdb_id\": \"tt0144084\", \"revenue\": 34266564, \"budget\": 7000000, \"certification\": \"R\"}, {\"imdb_id\": \"tt0144142\", \"revenue\": 0, \"budget\": 3000000, \"certification\": \"R\"}, {\"imdb_id\": \"tt0144189\", \"revenue\": 0, \"budget\": 0, \"certification\": \"\"}, {\"imdb_id\": \"tt0144528\", \"revenue\": 123307945, \"budget\": 84000000, \"certification\": \"PG-13\"}, {\"imdb_id\": \"tt0144574\", \"revenue\": 0, \"budget\": 0, \"certification\": \"\"}, {\"imdb_id\": \"tt0144608\", \"revenue\": 0, \"budget\": 0, \"certification\": \"PG\"}, {\"imdb_id\": \"tt0144964\", \"revenue\": 15843608, \"budget\": 25000000, \"certification\": \"R\"}, {\"imdb_id\": \"tt0146309\", \"revenue\": 34566746, \"budget\": 80000000, \"certification\": \"PG-13\"}, {\"imdb_id\": \"tt0146882\", \"revenue\": 47126295, \"budget\": 30000000, \"certification\": \"R\"}, {\"imdb_id\": \"tt0146984\", \"revenue\": 39459427, \"budget\": 80000000, \"certification\": \"PG-13\"}, {\"imdb_id\": \"tt0147486\", \"revenue\": 0, \"budget\": 0, \"certification\": \"\"}, {\"imdb_id\": \"tt0148421\", \"revenue\": 0, \"budget\": 0, \"certification\": \"\"}, {\"imdb_id\": \"tt0149367\", \"revenue\": 0, \"budget\": 0, \"certification\": \"PG-13\"}, {\"imdb_id\": \"tt0149624\", \"revenue\": 0, \"budget\": 57000000, \"certification\": \"PG-13\"}, {\"imdb_id\": \"tt0151309\", \"revenue\": 0, \"budget\": 0, \"certification\": \"\"}, {\"imdb_id\": \"tt0153012\", \"revenue\": 0, \"budget\": 0, \"certification\": \"\"}, {\"imdb_id\": \"tt0153464\", \"revenue\": 0, \"budget\": 0, \"certification\": \"\"}, {\"imdb_id\": \"tt0155150\", \"revenue\": 0, \"budget\": 0, \"certification\": \"R\"}, {\"imdb_id\": \"tt0156020\", \"revenue\": 0, \"budget\": 0, \"certification\": \"\"}, {\"imdb_id\": \"tt0156323\", \"revenue\": 7201701, \"budget\": 10000000, \"certification\": \"R\"}, {\"imdb_id\": \"tt0156741\", \"revenue\": 0, \"budget\": 0, \"certification\": \"R\"}, {\"imdb_id\": \"tt0156757\", \"revenue\": 0, \"budget\": 0, \"certification\": \"PG-13\"}, {\"imdb_id\": \"tt0156807\", \"revenue\": 0, \"budget\": 0, \"certification\": \"PG-13\"}, {\"imdb_id\": \"tt0156812\", \"revenue\": 35547761, \"budget\": 6000000, \"certification\": \"PG\"}, {\"imdb_id\": \"tt0156841\", \"revenue\": 24362772, \"budget\": 25000000, \"certification\": \"PG-13\"}, {\"imdb_id\": \"tt0156942\", \"revenue\": 0, \"budget\": 1200000, \"certification\": \"\"}, {\"imdb_id\": \"tt0157122\", \"revenue\": 0, \"budget\": 0, \"certification\": \"R\"}, {\"imdb_id\": \"tt0157202\", \"revenue\": 0, \"budget\": 0, \"certification\": \"\"}, {\"imdb_id\": \"tt0157262\", \"revenue\": 270813, \"budget\": 26000000, \"certification\": \"R\"}, {\"imdb_id\": \"tt0157836\", \"revenue\": 0, \"budget\": 0, \"certification\": \"\"}, {\"imdb_id\": \"tt0158622\", \"revenue\": 59468275, \"budget\": 83000000, \"certification\": \"PG\"}, {\"imdb_id\": \"tt0159371\", \"revenue\": 0, \"budget\": 0, \"certification\": \"\"}, {\"imdb_id\": \"tt0159396\", \"revenue\": 0, \"budget\": 0, \"certification\": \"R\"}, {\"imdb_id\": \"tt0159784\", \"revenue\": 0, \"budget\": 0, \"certification\": \"R\"}, {\"imdb_id\": \"tt0160009\", \"revenue\": 30199105, \"budget\": 40000000, \"certification\": \"R\"}, {\"imdb_id\": \"tt0160127\", \"revenue\": 264105545, \"budget\": 92000000, \"certification\": \"PG-13\"}, {\"imdb_id\": \"tt0160289\", \"revenue\": 0, \"budget\": 0, \"certification\": \"\"}, {\"imdb_id\": \"tt0160403\", \"revenue\": 0, \"budget\": 0, \"certification\": \"R\"}, {\"imdb_id\": \"tt0160434\", \"revenue\": 0, \"budget\": 0, \"certification\": \"R\"}, {\"imdb_id\": \"tt0160447\", \"revenue\": 0, \"budget\": 0, \"certification\": \"\"}, {\"imdb_id\": \"tt0160484\", \"revenue\": 31355910, \"budget\": 50000000, \"certification\": \"R\"}, {\"imdb_id\": \"tt0160495\", \"revenue\": 0, \"budget\": 12000000, \"certification\": \"R\"}, {\"imdb_id\": \"tt0160616\", \"revenue\": 0, \"budget\": 800000, \"certification\": \"\"}, {\"imdb_id\": \"tt0160644\", \"revenue\": 0, \"budget\": 0, \"certification\": \"\"}, {\"imdb_id\": \"tt0160652\", \"revenue\": 0, \"budget\": 0, \"certification\": \"R\"}, {\"imdb_id\": \"tt0160710\", \"revenue\": 0, \"budget\": 0, \"certification\": \"PG-13\"}, {\"imdb_id\": \"tt0160749\", \"revenue\": 0, \"budget\": 0, \"certification\": \"PG\"}, {\"imdb_id\": \"tt0160751\", \"revenue\": 0, \"budget\": 0, \"certification\": \"\"}, {\"imdb_id\": \"tt0160797\", \"revenue\": 71000000, \"budget\": 60000000, \"certification\": \"R\"}, {\"imdb_id\": \"tt0160859\", \"revenue\": 0, \"budget\": 0, \"certification\": \"\"}, {\"imdb_id\": \"tt0161003\", \"revenue\": 0, \"budget\": 0, \"certification\": \"\"}, {\"imdb_id\": \"tt0161081\", \"revenue\": 291420351, \"budget\": 100000000, \"certification\": \"PG-13\"}, {\"imdb_id\": \"tt0161216\", \"revenue\": 0, \"budget\": 0, \"certification\": \"\"}, {\"imdb_id\": \"tt0162222\", \"revenue\": 429632142, \"budget\": 90000000, \"certification\": \"\"}, {\"imdb_id\": \"tt0162650\", \"revenue\": 107626125, \"budget\": 46000000, \"certification\": \"R\"}, {\"imdb_id\": \"tt0162711\", \"revenue\": 0, \"budget\": 0, \"certification\": \"R\"}, {\"imdb_id\": \"tt0162983\", \"revenue\": 51880044, \"budget\": 60000000, \"certification\": \"PG-13\"}, {\"imdb_id\": \"tt0163125\", \"revenue\": 0, \"budget\": 0, \"certification\": \"\"}, {\"imdb_id\": \"tt0163566\", \"revenue\": 0, \"budget\": 0, \"certification\": \"\"}, {\"imdb_id\": \"tt0163676\", \"revenue\": 5217498, \"budget\": 15000000, \"certification\": \"PG-13\"}, {\"imdb_id\": \"tt0163745\", \"revenue\": 0, \"budget\": 1000000, \"certification\": \"R\"}, {\"imdb_id\": \"tt0163978\", \"revenue\": 144056873, \"budget\": 40000000, \"certification\": \"R\"}, {\"imdb_id\": \"tt0163983\", \"revenue\": 0, \"budget\": 40000000, \"certification\": \"R\"}, {\"imdb_id\": \"tt0164052\", \"revenue\": 190213455, \"budget\": 95000000, \"certification\": \"\"}, {\"imdb_id\": \"tt0164192\", \"revenue\": 0, \"budget\": 0, \"certification\": \"\"}, {\"imdb_id\": \"tt0164212\", \"revenue\": 1308242, \"budget\": 25000000, \"certification\": \"R\"}, {\"imdb_id\": \"tt0164318\", \"revenue\": 0, \"budget\": 0, \"certification\": \"\"}, {\"imdb_id\": \"tt0164953\", \"revenue\": 0, \"budget\": 0, \"certification\": \"\"}, {\"imdb_id\": \"tt0165400\", \"revenue\": 0, \"budget\": 0, \"certification\": \"\"}, {\"imdb_id\": \"tt0165642\", \"revenue\": 0, \"budget\": 0, \"certification\": \"\"}, {\"imdb_id\": \"tt0165800\", \"revenue\": 0, \"budget\": 0, \"certification\": \"\"}, {\"imdb_id\": \"tt0165928\", \"revenue\": 0, \"budget\": 0, \"certification\": \"R\"}, {\"imdb_id\": \"tt0165929\", \"revenue\": 91036760, \"budget\": 25000000, \"certification\": \"R\"}, {\"imdb_id\": \"tt0166192\", \"revenue\": 0, \"budget\": 0, \"certification\": \"\"}, {\"imdb_id\": \"tt0167183\", \"revenue\": 0, \"budget\": 0, \"certification\": \"\"}, {\"imdb_id\": \"tt0167203\", \"revenue\": 14400327, \"budget\": 34000000, \"certification\": \"PG-13\"}, {\"imdb_id\": \"tt0168446\", \"revenue\": 0, \"budget\": 0, \"certification\": \"\"}, {\"imdb_id\": \"tt0168504\", \"revenue\": 0, \"budget\": 0, \"certification\": \"R\"}, {\"imdb_id\": \"tt0168612\", \"revenue\": 10000, \"budget\": 10000, \"certification\": \"R\"}, {\"imdb_id\": \"tt0168629\", \"revenue\": 40031879, \"budget\": 12800000, \"certification\": \"R\"}, {\"imdb_id\": \"tt0168631\", \"revenue\": 0, \"budget\": 0, \"certification\": \"\"}, {\"imdb_id\": \"tt0168714\", \"revenue\": 0, \"budget\": 0, \"certification\": \"\"}, {\"imdb_id\": \"tt0168856\", \"revenue\": 5595327, \"budget\": 18000000, \"certification\": \"\"}, {\"imdb_id\": \"tt0169324\", \"revenue\": 0, \"budget\": 0, \"certification\": \"R\"}, {\"imdb_id\": \"tt0170016\", \"revenue\": 345823040, \"budget\": 123000000, \"certification\": \"PG\"}, {\"imdb_id\": \"tt0170452\", \"revenue\": 0, \"budget\": 0, \"certification\": \"\"}, {\"imdb_id\": \"tt0170691\", \"revenue\": 148701, \"budget\": 10000000, \"certification\": \"R\"}, {\"imdb_id\": \"tt0171356\", \"revenue\": 1631839, \"budget\": 10000000, \"certification\": \"R\"}, {\"imdb_id\": \"tt0171359\", \"revenue\": 1568749, \"budget\": 2000000, \"certification\": \"R\"}, {\"imdb_id\": \"tt0171433\", \"revenue\": 59945183, \"budget\": 30000000, \"certification\": \"PG-13\"}, {\"imdb_id\": \"tt0171580\", \"revenue\": 0, \"budget\": 24000000, \"certification\": \"R\"}, {\"imdb_id\": \"tt0172464\", \"revenue\": 0, \"budget\": 0, \"certification\": \"\"}, {\"imdb_id\": \"tt0172495\", \"revenue\": 465361176, \"budget\": 103000000, \"certification\": \"\"}, {\"imdb_id\": \"tt0172632\", \"revenue\": 0, \"budget\": 0, \"certification\": \"\"}, {\"imdb_id\": \"tt0172699\", \"revenue\": 0, \"budget\": 0, \"certification\": \"\"}, {\"imdb_id\": \"tt0172794\", \"revenue\": 0, \"budget\": 0, \"certification\": \"R\"}, {\"imdb_id\": \"tt0172949\", \"revenue\": 0, \"budget\": 100000, \"certification\": \"R\"}, {\"imdb_id\": \"tt0173716\", \"revenue\": 0, \"budget\": 10000000, \"certification\": \"R\"}, {\"imdb_id\": \"tt0174336\", \"revenue\": 0, \"budget\": 3000000, \"certification\": \"R\"}, {\"imdb_id\": \"tt0174480\", \"revenue\": 0, \"budget\": 65000000, \"certification\": \"PG-13\"}, {\"imdb_id\": \"tt0174646\", \"revenue\": 0, \"budget\": 0, \"certification\": \"\"}, {\"imdb_id\": \"tt0175114\", \"revenue\": 0, \"budget\": 0, \"certification\": \"\"}, {\"imdb_id\": \"tt0175142\", \"revenue\": 278019771, \"budget\": 19000000, \"certification\": \"R\"}, {\"imdb_id\": \"tt0176244\", \"revenue\": 0, \"budget\": 0, \"certification\": \"\"}, {\"imdb_id\": \"tt0176579\", \"revenue\": 0, \"budget\": 0, \"certification\": \"R\"}, {\"imdb_id\": \"tt0176783\", \"revenue\": 5108820, \"budget\": 14000000, \"certification\": \"R\"}, {\"imdb_id\": \"tt0176883\", \"revenue\": 0, \"budget\": 0, \"certification\": \"PG\"}, {\"imdb_id\": \"tt0177068\", \"revenue\": 0, \"budget\": 0, \"certification\": \"R\"}, {\"imdb_id\": \"tt0177185\", \"revenue\": 0, \"budget\": 0, \"certification\": \"\"}, {\"imdb_id\": \"tt0177213\", \"revenue\": 0, \"budget\": 0, \"certification\": \"\"}, {\"imdb_id\": \"tt0177513\", \"revenue\": 0, \"budget\": 0, \"certification\": \"\"}, {\"imdb_id\": \"tt0177650\", \"revenue\": 146193, \"budget\": 16000000, \"certification\": \"PG-13\"}, {\"imdb_id\": \"tt0177858\", \"revenue\": 0, \"budget\": 0, \"certification\": \"\"}, {\"imdb_id\": \"tt0177888\", \"revenue\": 27, \"budget\": 0, \"certification\": \"R\"}, {\"imdb_id\": \"tt0177971\", \"revenue\": 325756637, \"budget\": 120000000, \"certification\": \"PG-13\"}, {\"imdb_id\": \"tt0178043\", \"revenue\": 0, \"budget\": 0, \"certification\": \"R\"}, {\"imdb_id\": \"tt0178050\", \"revenue\": 0, \"budget\": 0, \"certification\": \"R\"}, {\"imdb_id\": \"tt0179183\", \"revenue\": 0, \"budget\": 11000000, \"certification\": \"R\"}, {\"imdb_id\": \"tt0179400\", \"revenue\": 0, \"budget\": 0, \"certification\": \"\"}, {\"imdb_id\": \"tt0179473\", \"revenue\": 0, \"budget\": 4000000, \"certification\": \"\"}, {\"imdb_id\": \"tt0179653\", \"revenue\": 0, \"budget\": 0, \"certification\": \"\"}, {\"imdb_id\": \"tt0179861\", \"revenue\": 0, \"budget\": 0, \"certification\": \"\"}, {\"imdb_id\": \"tt0180073\", \"revenue\": 7060876, \"budget\": 13500000, \"certification\": \"R\"}, {\"imdb_id\": \"tt0180093\", \"revenue\": 7400000, \"budget\": 4500000, \"certification\": \"R\"}, {\"imdb_id\": \"tt0180683\", \"revenue\": 0, \"budget\": 0, \"certification\": \"\"}, {\"imdb_id\": \"tt0181151\", \"revenue\": 0, \"budget\": 60000000, \"certification\": \"R\"}, {\"imdb_id\": \"tt0181536\", \"revenue\": 80049764, \"budget\": 43000000, \"certification\": \"\"}, {\"imdb_id\": \"tt0181836\", \"revenue\": 0, \"budget\": 0, \"certification\": \"R\"}, {\"imdb_id\": \"tt0181865\", \"revenue\": 207515725, \"budget\": 48000000, \"certification\": \"R\"}, {\"imdb_id\": \"tt0181875\", \"revenue\": 47386287, \"budget\": 60000000, \"certification\": \"R\"}, {\"imdb_id\": \"tt0181945\", \"revenue\": 0, \"budget\": 0, \"certification\": \"\"}, {\"imdb_id\": \"tt0181984\", \"revenue\": 28780255, \"budget\": 7000000, \"certification\": \"R\"}, {\"imdb_id\": \"tt0182508\", \"revenue\": 0, \"budget\": 0, \"certification\": \"R\"}, {\"imdb_id\": \"tt0183056\", \"revenue\": 0, \"budget\": 0, \"certification\": \"\"}, {\"imdb_id\": \"tt0183280\", \"revenue\": 0, \"budget\": 0, \"certification\": \"R\"}, {\"imdb_id\": \"tt0183423\", \"revenue\": 0, \"budget\": 0, \"certification\": \"R\"}, {\"imdb_id\": \"tt0183488\", \"revenue\": 0, \"budget\": 0, \"certification\": \"\"}, {\"imdb_id\": \"tt0183505\", \"revenue\": 149270999, \"budget\": 51000000, \"certification\": \"R\"}, {\"imdb_id\": \"tt0183523\", \"revenue\": 60874615, \"budget\": 90000000, \"certification\": \"\"}, {\"imdb_id\": \"tt0183639\", \"revenue\": 0, \"budget\": 0, \"certification\": \"\"}, {\"imdb_id\": \"tt0183659\", \"revenue\": 10994533, \"budget\": 6000000, \"certification\": \"R\"}, {\"imdb_id\": \"tt0183808\", \"revenue\": 0, \"budget\": 3500000, \"certification\": \"\"}, {\"imdb_id\": \"tt0183869\", \"revenue\": 64400000, \"budget\": 10500000, \"certification\": \"\"}, {\"imdb_id\": \"tt0184457\", \"revenue\": 0, \"budget\": 0, \"certification\": \"\"}, {\"imdb_id\": \"tt0184858\", \"revenue\": 32168970, \"budget\": 42000000, \"certification\": \"R\"}, {\"imdb_id\": \"tt0184894\", \"revenue\": 99274467, \"budget\": 55000000, \"certification\": \"PG-13\"}, {\"imdb_id\": \"tt0184907\", \"revenue\": 62464731, \"budget\": 13000000, \"certification\": \"PG\"}, {\"imdb_id\": \"tt0185007\", \"revenue\": 537, \"budget\": 0, \"certification\": \"\"}, {\"imdb_id\": \"tt0185014\", \"revenue\": 0, \"budget\": 35000000, \"certification\": \"R\"}, {\"imdb_id\": \"tt0185183\", \"revenue\": 29000000, \"budget\": 73000000, \"certification\": \"PG-13\"}, {\"imdb_id\": \"tt0185431\", \"revenue\": 58292295, \"budget\": 85000000, \"certification\": \"\"}, {\"imdb_id\": \"tt0186029\", \"revenue\": 0, \"budget\": 0, \"certification\": \"\"}, {\"imdb_id\": \"tt0186045\", \"revenue\": 15427192, \"budget\": 6000000, \"certification\": \"PG-13\"}, {\"imdb_id\": \"tt0186151\", \"revenue\": 68106245, \"budget\": 31000000, \"certification\": \"PG-13\"}, {\"imdb_id\": \"tt0186454\", \"revenue\": 0, \"budget\": 0, \"certification\": \"\"}, {\"imdb_id\": \"tt0186549\", \"revenue\": 0, \"budget\": 0, \"certification\": \"R\"}, {\"imdb_id\": \"tt0186566\", \"revenue\": 128884132, \"budget\": 65000000, \"certification\": \"PG-13\"}, {\"imdb_id\": \"tt0186719\", \"revenue\": 0, \"budget\": 0, \"certification\": \"\"}, {\"imdb_id\": \"tt0186894\", \"revenue\": 36779296, \"budget\": 35000000, \"certification\": \"PG-13\"}, {\"imdb_id\": \"tt0186975\", \"revenue\": 0, \"budget\": 9000000, \"certification\": \"PG-13\"}, {\"imdb_id\": \"tt0187078\", \"revenue\": 237202299, \"budget\": 90000000, \"certification\": \"PG-13\"}, {\"imdb_id\": \"tt0187251\", \"revenue\": 0, \"budget\": 0, \"certification\": \"\"}, {\"imdb_id\": \"tt0187387\", \"revenue\": 0, \"budget\": 0, \"certification\": \"PG-13\"}, {\"imdb_id\": \"tt0187393\", \"revenue\": 215294342, \"budget\": 110000000, \"certification\": \"R\"}, {\"imdb_id\": \"tt0187559\", \"revenue\": 0, \"budget\": 3000000, \"certification\": \"R\"}, {\"imdb_id\": \"tt0187696\", \"revenue\": 0, \"budget\": 0, \"certification\": \"R\"}, {\"imdb_id\": \"tt0187750\", \"revenue\": 0, \"budget\": 0, \"certification\": \"R\"}, {\"imdb_id\": \"tt0187761\", \"revenue\": 0, \"budget\": 0, \"certification\": \"\"}, {\"imdb_id\": \"tt0187847\", \"revenue\": 0, \"budget\": 0, \"certification\": \"\"}, {\"imdb_id\": \"tt0188045\", \"revenue\": 0, \"budget\": 10000000, \"certification\": \"\"}, {\"imdb_id\": \"tt0188055\", \"revenue\": 0, \"budget\": 0, \"certification\": \"R\"}, {\"imdb_id\": \"tt0188160\", \"revenue\": 0, \"budget\": 10000000, \"certification\": \"\"}, {\"imdb_id\": \"tt0188490\", \"revenue\": 0, \"budget\": 0, \"certification\": \"\"}, {\"imdb_id\": \"tt0188688\", \"revenue\": 0, \"budget\": 0, \"certification\": \"\"}, {\"imdb_id\": \"tt0189456\", \"revenue\": 0, \"budget\": 0, \"certification\": \"\"}, {\"imdb_id\": \"tt0189998\", \"revenue\": 8279017, \"budget\": 8000000, \"certification\": \"R\"}, {\"imdb_id\": \"tt0190052\", \"revenue\": 0, \"budget\": 0, \"certification\": \"\"}, {\"imdb_id\": \"tt0190138\", \"revenue\": 106371651, \"budget\": 41300000, \"certification\": \"R\"}, {\"imdb_id\": \"tt0190332\", \"revenue\": 213525736, \"budget\": 17000000, \"certification\": \"PG-13\"}, {\"imdb_id\": \"tt0190374\", \"revenue\": 15185241, \"budget\": 35000000, \"certification\": \"PG-13\"}, {\"imdb_id\": \"tt0190398\", \"revenue\": 0, \"budget\": 0, \"certification\": \"PG\"}, {\"imdb_id\": \"tt0190524\", \"revenue\": 0, \"budget\": 0, \"certification\": \"PG-13\"}, {\"imdb_id\": \"tt0190590\", \"revenue\": 71870729, \"budget\": 26000000, \"certification\": \"PG-13\"}, {\"imdb_id\": \"tt0190736\", \"revenue\": 0, \"budget\": 0, \"certification\": \"R\"}, {\"imdb_id\": \"tt0190861\", \"revenue\": 0, \"budget\": 0, \"certification\": \"\"}, {\"imdb_id\": \"tt0190865\", \"revenue\": 215663859, \"budget\": 75000000, \"certification\": \"PG-13\"}, {\"imdb_id\": \"tt0191037\", \"revenue\": 14693, \"budget\": 0, \"certification\": \"R\"}, {\"imdb_id\": \"tt0191242\", \"revenue\": 0, \"budget\": 3500000, \"certification\": \"\"}, {\"imdb_id\": \"tt0191397\", \"revenue\": 50054511, \"budget\": 50000000, \"certification\": \"PG-13\"}, {\"imdb_id\": \"tt0191636\", \"revenue\": 0, \"budget\": 0, \"certification\": \"\"}, {\"imdb_id\": \"tt0191754\", \"revenue\": 62198945, \"budget\": 43000000, \"certification\": \"PG-13\"}, {\"imdb_id\": \"tt0191787\", \"revenue\": 0, \"budget\": 0, \"certification\": \"\"}, {\"imdb_id\": \"tt0191996\", \"revenue\": 0, \"budget\": 0, \"certification\": \"R\"}, {\"imdb_id\": \"tt0192255\", \"revenue\": 27965865, \"budget\": 35000000, \"certification\": \"G\"}, {\"imdb_id\": \"tt0192295\", \"revenue\": 2061924, \"budget\": 0, \"certification\": \"\"}, {\"imdb_id\": \"tt0192455\", \"revenue\": 0, \"budget\": 0, \"certification\": \"R\"}, {\"imdb_id\": \"tt0192614\", \"revenue\": 50802120, \"budget\": 15000000, \"certification\": \"PG-13\"}, {\"imdb_id\": \"tt0192719\", \"revenue\": 0, \"budget\": 0, \"certification\": \"\"}, {\"imdb_id\": \"tt0192731\", \"revenue\": 38574362, \"budget\": 14000000, \"certification\": \"R\"}, {\"imdb_id\": \"tt0192912\", \"revenue\": 0, \"budget\": 0, \"certification\": \"NR\"}, {\"imdb_id\": \"tt0192949\", \"revenue\": 0, \"budget\": 0, \"certification\": \"\"}, {\"imdb_id\": \"tt0193135\", \"revenue\": 0, \"budget\": 0, \"certification\": \"\"}, {\"imdb_id\": \"tt0193854\", \"revenue\": 0, \"budget\": 0, \"certification\": \"R\"}, {\"imdb_id\": \"tt0193859\", \"revenue\": 0, \"budget\": 0, \"certification\": \"R\"}, {\"imdb_id\": \"tt0194218\", \"revenue\": 779137, \"budget\": 1000000, \"certification\": \"R\"}, {\"imdb_id\": \"tt0194368\", \"revenue\": 0, \"budget\": 20000000, \"certification\": \"R\"}, {\"imdb_id\": \"tt0194410\", \"revenue\": 0, \"budget\": 0, \"certification\": \"\"}, {\"imdb_id\": \"tt0194519\", \"revenue\": 0, \"budget\": 0, \"certification\": \"NR\"}, {\"imdb_id\": \"tt0195234\", \"revenue\": 26330482, \"budget\": 10000000, \"certification\": \"R\"}, {\"imdb_id\": \"tt0195308\", \"revenue\": 0, \"budget\": 1250000, \"certification\": \"PG\"}, {\"imdb_id\": \"tt0195631\", \"revenue\": 0, \"budget\": 0, \"certification\": \"\"}, {\"imdb_id\": \"tt0195685\", \"revenue\": 256271286, \"budget\": 52000000, \"certification\": \"R\"}, {\"imdb_id\": \"tt0195714\", \"revenue\": 112880294, \"budget\": 23000000, \"certification\": \"R\"}, {\"imdb_id\": \"tt0195778\", \"revenue\": 10873148, \"budget\": 15000000, \"certification\": \"PG-13\"}, {\"imdb_id\": \"tt0195944\", \"revenue\": 0, \"budget\": 0, \"certification\": \"\"}, {\"imdb_id\": \"tt0195945\", \"revenue\": 59827328, \"budget\": 11000000, \"certification\": \"R\"}, {\"imdb_id\": \"tt0196106\", \"revenue\": 1, \"budget\": 4, \"certification\": \"PG\"}, {\"imdb_id\": \"tt0196216\", \"revenue\": 0, \"budget\": 0, \"certification\": \"PG\"}, {\"imdb_id\": \"tt0196219\", \"revenue\": 0, \"budget\": 0, \"certification\": \"R\"}, {\"imdb_id\": \"tt0196223\", \"revenue\": 0, \"budget\": 0, \"certification\": \"NR\"}, {\"imdb_id\": \"tt0196708\", \"revenue\": 0, \"budget\": 0, \"certification\": \"R\"}, {\"imdb_id\": \"tt0196723\", \"revenue\": 0, \"budget\": 20000000, \"certification\": \"\"}, {\"imdb_id\": \"tt0197096\", \"revenue\": 0, \"budget\": 0, \"certification\": \"PG-13\"}, {\"imdb_id\": \"tt0197299\", \"revenue\": 0, \"budget\": 0, \"certification\": \"\"}, {\"imdb_id\": \"tt0197384\", \"revenue\": 26394, \"budget\": 0, \"certification\": \"R\"}, {\"imdb_id\": \"tt0197644\", \"revenue\": 0, \"budget\": 0, \"certification\": \"R\"}, {\"imdb_id\": \"tt0197646\", \"revenue\": 0, \"budget\": 0, \"certification\": \"\"}, {\"imdb_id\": \"tt0197750\", \"revenue\": 0, \"budget\": 4000000, \"certification\": \"R\"}, {\"imdb_id\": \"tt0197753\", \"revenue\": 0, \"budget\": 0, \"certification\": \"R\"}, {\"imdb_id\": \"tt0198021\", \"revenue\": 33771174, \"budget\": 15000000, \"certification\": \"PG-13\"}, {\"imdb_id\": \"tt0198284\", \"revenue\": 0, \"budget\": 0, \"certification\": \"R\"}, {\"imdb_id\": \"tt0198386\", \"revenue\": 0, \"budget\": 0, \"certification\": \"PG-13\"}, {\"imdb_id\": \"tt0198893\", \"revenue\": 0, \"budget\": 0, \"certification\": \"R\"}, {\"imdb_id\": \"tt0198903\", \"revenue\": 0, \"budget\": 0, \"certification\": \"\"}, {\"imdb_id\": \"tt0199129\", \"revenue\": 0, \"budget\": 0, \"certification\": \"R\"}, {\"imdb_id\": \"tt0199290\", \"revenue\": 9000000, \"budget\": 6000000, \"certification\": \"R\"}, {\"imdb_id\": \"tt0199314\", \"revenue\": 802951, \"budget\": 0, \"certification\": \"\"}, {\"imdb_id\": \"tt0199504\", \"revenue\": 0, \"budget\": 0, \"certification\": \"\"}, {\"imdb_id\": \"tt0199650\", \"revenue\": 0, \"budget\": 2000000, \"certification\": \"R\"}, {\"imdb_id\": \"tt0199725\", \"revenue\": 27728118, \"budget\": 20000000, \"certification\": \"PG-13\"}, {\"imdb_id\": \"tt0199727\", \"revenue\": 0, \"budget\": 0, \"certification\": \"\"}, {\"imdb_id\": \"tt0199753\", \"revenue\": 33463969, \"budget\": 80000000, \"certification\": \"PG-13\"}, {\"imdb_id\": \"tt0199974\", \"revenue\": 0, \"budget\": 0, \"certification\": \"R\"}, {\"imdb_id\": \"tt0200171\", \"revenue\": 0, \"budget\": 0, \"certification\": \"\"}, {\"imdb_id\": \"tt0200427\", \"revenue\": 0, \"budget\": 0, \"certification\": \"R\"}, {\"imdb_id\": \"tt0200472\", \"revenue\": 0, \"budget\": 0, \"certification\": \"\"}, {\"imdb_id\": \"tt0200530\", \"revenue\": 0, \"budget\": 0, \"certification\": \"R\"}, {\"imdb_id\": \"tt0200550\", \"revenue\": 113916474, \"budget\": 45000000, \"certification\": \"PG-13\"}, {\"imdb_id\": \"tt0200669\", \"revenue\": 5753678, \"budget\": 15000000, \"certification\": \"R\"}, {\"imdb_id\": \"tt0200720\", \"revenue\": 5164404, \"budget\": 10000000, \"certification\": \"\"}, {\"imdb_id\": \"tt0201726\", \"revenue\": 0, \"budget\": 0, \"certification\": \"R\"}, {\"imdb_id\": \"tt0201737\", \"revenue\": 0, \"budget\": 0, \"certification\": \"\"}, {\"imdb_id\": \"tt0201888\", \"revenue\": 0, \"budget\": 0, \"certification\": \"\"}, {\"imdb_id\": \"tt0201899\", \"revenue\": 0, \"budget\": 0, \"certification\": \"PG-13\"}, {\"imdb_id\": \"tt0201901\", \"revenue\": 0, \"budget\": 0, \"certification\": \"\"}, {\"imdb_id\": \"tt0202236\", \"revenue\": 0, \"budget\": 0, \"certification\": \"\"}, {\"imdb_id\": \"tt0202402\", \"revenue\": 9902115, \"budget\": 15000000, \"certification\": \"PG-13\"}, {\"imdb_id\": \"tt0202560\", \"revenue\": 0, \"budget\": 0, \"certification\": \"\"}, {\"imdb_id\": \"tt0202641\", \"revenue\": 0, \"budget\": 0, \"certification\": \"\"}, {\"imdb_id\": \"tt0202677\", \"revenue\": 19125401, \"budget\": 8500000, \"certification\": \"R\"}, {\"imdb_id\": \"tt0202711\", \"revenue\": 0, \"budget\": 0, \"certification\": \"\"}, {\"imdb_id\": \"tt0202856\", \"revenue\": 0, \"budget\": 0, \"certification\": \"\"}, {\"imdb_id\": \"tt0202989\", \"revenue\": 0, \"budget\": 0, \"certification\": \"R\"}, {\"imdb_id\": \"tt0203019\", \"revenue\": 82343495, \"budget\": 32000000, \"certification\": \"\"}, {\"imdb_id\": \"tt0203047\", \"revenue\": 0, \"budget\": 0, \"certification\": \"\"}, {\"imdb_id\": \"tt0203053\", \"revenue\": 0, \"budget\": 0, \"certification\": \"\"}, {\"imdb_id\": \"tt0203119\", \"revenue\": 0, \"budget\": 5000000, \"certification\": \"R\"}, {\"imdb_id\": \"tt0203166\", \"revenue\": 0, \"budget\": 0, \"certification\": \"R\"}, {\"imdb_id\": \"tt0203230\", \"revenue\": 0, \"budget\": 0, \"certification\": \"R\"}, {\"imdb_id\": \"tt0203297\", \"revenue\": 0, \"budget\": 0, \"certification\": \"\"}, {\"imdb_id\": \"tt0203540\", \"revenue\": 1443067, \"budget\": 0, \"certification\": \"\"}, {\"imdb_id\": \"tt0203580\", \"revenue\": 0, \"budget\": 0, \"certification\": \"\"}, {\"imdb_id\": \"tt0203632\", \"revenue\": 0, \"budget\": 0, \"certification\": \"\"}, {\"imdb_id\": \"tt0203830\", \"revenue\": 0, \"budget\": 0, \"certification\": \"R\"}, {\"imdb_id\": \"tt0203835\", \"revenue\": 0, \"budget\": 0, \"certification\": \"\"}, {\"imdb_id\": \"tt0204137\", \"revenue\": 43805, \"budget\": 3600000, \"certification\": \"R\"}, {\"imdb_id\": \"tt0204175\", \"revenue\": 20627372, \"budget\": 16000000, \"certification\": \"PG-13\"}, {\"imdb_id\": \"tt0204350\", \"revenue\": 1404, \"budget\": 1200000, \"certification\": \"R\"}, {\"imdb_id\": \"tt0204382\", \"revenue\": 0, \"budget\": 0, \"certification\": \"\"}, {\"imdb_id\": \"tt0204626\", \"revenue\": 0, \"budget\": 33000000, \"certification\": \"R\"}, {\"imdb_id\": \"tt0204640\", \"revenue\": 1079726, \"budget\": 0, \"certification\": \"R\"}, {\"imdb_id\": \"tt0204933\", \"revenue\": 0, \"budget\": 0, \"certification\": \"\"}, {\"imdb_id\": \"tt0204946\", \"revenue\": 90449929, \"budget\": 28000000, \"certification\": \"PG-13\"}, {\"imdb_id\": \"tt0205177\", \"revenue\": 0, \"budget\": 0, \"certification\": \"\"}, {\"imdb_id\": \"tt0205271\", \"revenue\": 22844291, \"budget\": 23000000, \"certification\": \"R\"}, {\"imdb_id\": \"tt0205418\", \"revenue\": 0, \"budget\": 0, \"certification\": \"R\"}, {\"imdb_id\": \"tt0205461\", \"revenue\": 19748009, \"budget\": 19000000, \"certification\": \"G\"}, {\"imdb_id\": \"tt0205778\", \"revenue\": 0, \"budget\": 0, \"certification\": \"\"}, {\"imdb_id\": \"tt0205873\", \"revenue\": 0, \"budget\": 0, \"certification\": \"PG-13\"}, {\"imdb_id\": \"tt0206075\", \"revenue\": 0, \"budget\": 0, \"certification\": \"PG-13\"}, {\"imdb_id\": \"tt0206223\", \"revenue\": 0, \"budget\": 0, \"certification\": \"\"}, {\"imdb_id\": \"tt0206226\", \"revenue\": 268117, \"budget\": 1500000, \"certification\": \"NR\"}, {\"imdb_id\": \"tt0206420\", \"revenue\": 10194274, \"budget\": 8000000, \"certification\": \"R\"}, {\"imdb_id\": \"tt0206545\", \"revenue\": 0, \"budget\": 0, \"certification\": \"\"}, {\"imdb_id\": \"tt0206917\", \"revenue\": 1800000, \"budget\": 20170000, \"certification\": \"\"}, {\"imdb_id\": \"tt0206926\", \"revenue\": 0, \"budget\": 0, \"certification\": \"R\"}, {\"imdb_id\": \"tt0207036\", \"revenue\": 0, \"budget\": 0, \"certification\": \"R\"}, {\"imdb_id\": \"tt0207161\", \"revenue\": 0, \"budget\": 0, \"certification\": \"PG\"}, {\"imdb_id\": \"tt0207201\", \"revenue\": 374111707, \"budget\": 70000000, \"certification\": \"\"}, {\"imdb_id\": \"tt0207333\", \"revenue\": 0, \"budget\": 1500000, \"certification\": \"PG\"}, {\"imdb_id\": \"tt0207377\", \"revenue\": 0, \"budget\": 0, \"certification\": \"\"}, {\"imdb_id\": \"tt0207524\", \"revenue\": 0, \"budget\": 7300000, \"certification\": \"R\"}, {\"imdb_id\": \"tt0207631\", \"revenue\": 0, \"budget\": 0, \"certification\": \"\"}, {\"imdb_id\": \"tt0207745\", \"revenue\": 0, \"budget\": 0, \"certification\": \"\"}, {\"imdb_id\": \"tt0208003\", \"revenue\": 173959438, \"budget\": 30000000, \"certification\": \"PG-13\"}, {\"imdb_id\": \"tt0208017\", \"revenue\": 0, \"budget\": 0, \"certification\": \"\"}, {\"imdb_id\": \"tt0208037\", \"revenue\": 0, \"budget\": 0, \"certification\": \"R\"}, {\"imdb_id\": \"tt0208050\", \"revenue\": 0, \"budget\": 0, \"certification\": \"\"}, {\"imdb_id\": \"tt0208092\", \"revenue\": 83557872, \"budget\": 10000000, \"certification\": \"R\"}, {\"imdb_id\": \"tt0208196\", \"revenue\": 688510, \"budget\": 0, \"certification\": \"R\"}, {\"imdb_id\": \"tt0208204\", \"revenue\": 0, \"budget\": 0, \"certification\": \"\"}, {\"imdb_id\": \"tt0208874\", \"revenue\": 22428990, \"budget\": 20000000, \"certification\": \"R\"}, {\"imdb_id\": \"tt0208911\", \"revenue\": 0, \"budget\": 0, \"certification\": \"R\"}, {\"imdb_id\": \"tt0208942\", \"revenue\": 0, \"budget\": 0, \"certification\": \"\"}, {\"imdb_id\": \"tt0208988\", \"revenue\": 19412993, \"budget\": 63600000, \"certification\": \"R\"}, {\"imdb_id\": \"tt0208993\", \"revenue\": 0, \"budget\": 0, \"certification\": \"\"}, {\"imdb_id\": \"tt0209037\", \"revenue\": 0, \"budget\": 0, \"certification\": \"R\"}, {\"imdb_id\": \"tt0209144\", \"revenue\": 39723096, \"budget\": 9000000, \"certification\": \"\"}, {\"imdb_id\": \"tt0209322\", \"revenue\": 0, \"budget\": 0, \"certification\": \"R\"}, {\"imdb_id\": \"tt0209958\", \"revenue\": 104155843, \"budget\": 33000000, \"certification\": \"R\"}, {\"imdb_id\": \"tt0210065\", \"revenue\": 30915, \"budget\": 0, \"certification\": \"\"}, {\"imdb_id\": \"tt0210070\", \"revenue\": 0, \"budget\": 5000000, \"certification\": \"R\"}, {\"imdb_id\": \"tt0210075\", \"revenue\": 0, \"budget\": 0, \"certification\": \"R\"}, {\"imdb_id\": \"tt0210149\", \"revenue\": 0, \"budget\": 0, \"certification\": \"\"}, {\"imdb_id\": \"tt0210299\", \"revenue\": 0, \"budget\": 0, \"certification\": \"\"}, {\"imdb_id\": \"tt0210357\", \"revenue\": 0, \"budget\": 0, \"certification\": \"PG\"}, {\"imdb_id\": \"tt0210358\", \"revenue\": 1433668, \"budget\": 0, \"certification\": \"PG-13\"}, {\"imdb_id\": \"tt0210382\", \"revenue\": 109130, \"budget\": 16000000, \"certification\": \"R\"}, {\"imdb_id\": \"tt0210567\", \"revenue\": 0, \"budget\": 0, \"certification\": \"PG-13\"}, {\"imdb_id\": \"tt0210584\", \"revenue\": 0, \"budget\": 0, \"certification\": \"PG-13\"}, {\"imdb_id\": \"tt0210616\", \"revenue\": 26385941, \"budget\": 29000000, \"certification\": \"PG-13\"}, {\"imdb_id\": \"tt0210756\", \"revenue\": 0, \"budget\": 0, \"certification\": \"\"}, {\"imdb_id\": \"tt0210945\", \"revenue\": 136706683, \"budget\": 30000000, \"certification\": \"PG\"}, {\"imdb_id\": \"tt0210952\", \"revenue\": 0, \"budget\": 0, \"certification\": \"\"}, {\"imdb_id\": \"tt0211181\", \"revenue\": 183611771, \"budget\": 85000000, \"certification\": \"G\"}, {\"imdb_id\": \"tt0211387\", \"revenue\": 0, \"budget\": 0, \"certification\": \"\"}, {\"imdb_id\": \"tt0211492\", \"revenue\": 0, \"budget\": 1864747, \"certification\": \"\"}, {\"imdb_id\": \"tt0211661\", \"revenue\": 0, \"budget\": 0, \"certification\": \"R\"}, {\"imdb_id\": \"tt0211938\", \"revenue\": 15500000, \"budget\": 35000000, \"certification\": \"R\"}, {\"imdb_id\": \"tt0211941\", \"revenue\": 0, \"budget\": 0, \"certification\": \"R\"}, {\"imdb_id\": \"tt0212059\", \"revenue\": 0, \"budget\": 2500000, \"certification\": \"R\"}, {\"imdb_id\": \"tt0212338\", \"revenue\": 330444045, \"budget\": 55000000, \"certification\": \"PG-13\"}, {\"imdb_id\": \"tt0212346\", \"revenue\": 212000000, \"budget\": 45000000, \"certification\": \"PG-13\"}, {\"imdb_id\": \"tt0212604\", \"revenue\": 466664, \"budget\": 0, \"certification\": \"\"}, {\"imdb_id\": \"tt0212667\", \"revenue\": 0, \"budget\": 0, \"certification\": \"\"}, {\"imdb_id\": \"tt0212719\", \"revenue\": 0, \"budget\": 0, \"certification\": \"\"}, {\"imdb_id\": \"tt0212742\", \"revenue\": 0, \"budget\": 0, \"certification\": \"R\"}, {\"imdb_id\": \"tt0212815\", \"revenue\": 512451, \"budget\": 0, \"certification\": \"\"}, {\"imdb_id\": \"tt0212826\", \"revenue\": 706876, \"budget\": 5500000, \"certification\": \"\"}, {\"imdb_id\": \"tt0212830\", \"revenue\": 0, \"budget\": 5000000, \"certification\": \"R\"}, {\"imdb_id\": \"tt0212879\", \"revenue\": 0, \"budget\": 500000, \"certification\": \"R\"}, {\"imdb_id\": \"tt0212974\", \"revenue\": 0, \"budget\": 0, \"certification\": \"R\"}, {\"imdb_id\": \"tt0213127\", \"revenue\": 0, \"budget\": 0, \"certification\": \"R\"}, {\"imdb_id\": \"tt0213203\", \"revenue\": 103291131, \"budget\": 30000000, \"certification\": \"G\"}, {\"imdb_id\": \"tt0213231\", \"revenue\": 0, \"budget\": 0, \"certification\": \"NR\"}, {\"imdb_id\": \"tt0213446\", \"revenue\": 0, \"budget\": 0, \"certification\": \"\"}, {\"imdb_id\": \"tt0213790\", \"revenue\": 13700000, \"budget\": 24000000, \"certification\": \"R\"}, {\"imdb_id\": \"tt0213847\", \"revenue\": 14493284, \"budget\": 0, \"certification\": \"R\"}, {\"imdb_id\": \"tt0213890\", \"revenue\": 0, \"budget\": 4000000, \"certification\": \"PG\"}, {\"imdb_id\": \"tt0214140\", \"revenue\": 0, \"budget\": 0, \"certification\": \"\"}, {\"imdb_id\": \"tt0214277\", \"revenue\": 0, \"budget\": 4500000, \"certification\": \"\"}, {\"imdb_id\": \"tt0214388\", \"revenue\": 0, \"budget\": 0, \"certification\": \"R\"}, {\"imdb_id\": \"tt0214548\", \"revenue\": 0, \"budget\": 0, \"certification\": \"\"}, {\"imdb_id\": \"tt0214638\", \"revenue\": 0, \"budget\": 0, \"certification\": \"NC-17\"}, {\"imdb_id\": \"tt0214646\", \"revenue\": 0, \"budget\": 0, \"certification\": \"\"}, {\"imdb_id\": \"tt0214757\", \"revenue\": 0, \"budget\": 0, \"certification\": \"Unrated\"}, {\"imdb_id\": \"tt0214871\", \"revenue\": 0, \"budget\": 3000000, \"certification\": \"\"}, {\"imdb_id\": \"tt0215129\", \"revenue\": 119754278, \"budget\": 16000000, \"certification\": \"R\"}, {\"imdb_id\": \"tt0215232\", \"revenue\": 0, \"budget\": 0, \"certification\": \"R\"}, {\"imdb_id\": \"tt0215458\", \"revenue\": 0, \"budget\": 0, \"certification\": \"\"}, {\"imdb_id\": \"tt0215545\", \"revenue\": 0, \"budget\": 0, \"certification\": \"R\"}, {\"imdb_id\": \"tt0215679\", \"revenue\": 0, \"budget\": 0, \"certification\": \"\"}, {\"imdb_id\": \"tt0215941\", \"revenue\": 0, \"budget\": 0, \"certification\": \"\"}, {\"imdb_id\": \"tt0216105\", \"revenue\": 0, \"budget\": 0, \"certification\": \"R\"}, {\"imdb_id\": \"tt0216216\", \"revenue\": 96085477, \"budget\": 82000000, \"certification\": \"PG-13\"}, {\"imdb_id\": \"tt0216417\", \"revenue\": 0, \"budget\": 0, \"certification\": \"\"}, {\"imdb_id\": \"tt0216578\", \"revenue\": 0, \"budget\": 0, \"certification\": \"\"}, {\"imdb_id\": \"tt0216605\", \"revenue\": 0, \"budget\": 0, \"certification\": \"\"}, {\"imdb_id\": \"tt0216620\", \"revenue\": 0, \"budget\": 2500000, \"certification\": \"R\"}, {\"imdb_id\": \"tt0216625\", \"revenue\": 95242, \"budget\": 0, \"certification\": \"\"}, {\"imdb_id\": \"tt0216651\", \"revenue\": 151086, \"budget\": 0, \"certification\": \"R\"}, {\"imdb_id\": \"tt0216689\", \"revenue\": 0, \"budget\": 0, \"certification\": \"\"}, {\"imdb_id\": \"tt0216772\", \"revenue\": 0, \"budget\": 0, \"certification\": \"R\"}, {\"imdb_id\": \"tt0216799\", \"revenue\": 0, \"budget\": 0, \"certification\": \"\"}, {\"imdb_id\": \"tt0216890\", \"revenue\": 0, \"budget\": 0, \"certification\": \"\"}, {\"imdb_id\": \"tt0216930\", \"revenue\": 0, \"budget\": 0, \"certification\": \"R\"}, {\"imdb_id\": \"tt0217019\", \"revenue\": 0, \"budget\": 0, \"certification\": \"\"}, {\"imdb_id\": \"tt0217086\", \"revenue\": 0, \"budget\": 0, \"certification\": \"R\"}, {\"imdb_id\": \"tt0217107\", \"revenue\": 1160268, \"budget\": 200000, \"certification\": \"R\"}, {\"imdb_id\": \"tt0217287\", \"revenue\": 0, \"budget\": 0, \"certification\": \"\"}, {\"imdb_id\": \"tt0217331\", \"revenue\": 0, \"budget\": 0, \"certification\": \"R\"}, {\"imdb_id\": \"tt0217355\", \"revenue\": 0, \"budget\": 0, \"certification\": \"\"}, {\"imdb_id\": \"tt0217621\", \"revenue\": 0, \"budget\": 0, \"certification\": \"R\"}, {\"imdb_id\": \"tt0217630\", \"revenue\": 0, \"budget\": 0, \"certification\": \"PG-13\"}, {\"imdb_id\": \"tt0217654\", \"revenue\": 0, \"budget\": 0, \"certification\": \"\"}, {\"imdb_id\": \"tt0217756\", \"revenue\": 12372410, \"budget\": 24000000, \"certification\": \"PG-13\"}, {\"imdb_id\": \"tt0217758\", \"revenue\": 0, \"budget\": 0, \"certification\": \"\"}, {\"imdb_id\": \"tt0217780\", \"revenue\": 0, \"budget\": 0, \"certification\": \"\"}, {\"imdb_id\": \"tt0217788\", \"revenue\": 4275, \"budget\": 0, \"certification\": \"\"}, {\"imdb_id\": \"tt0217869\", \"revenue\": 248118121, \"budget\": 75000000, \"certification\": \"PG-13\"}, {\"imdb_id\": \"tt0218067\", \"revenue\": 0, \"budget\": 0, \"certification\": \"\"}, {\"imdb_id\": \"tt0218080\", \"revenue\": 0, \"budget\": 0, \"certification\": \"R\"}, {\"imdb_id\": \"tt0218141\", \"revenue\": 0, \"budget\": 0, \"certification\": \"\"}, {\"imdb_id\": \"tt0218182\", \"revenue\": 0, \"budget\": 0, \"certification\": \"R\"}, {\"imdb_id\": \"tt0218298\", \"revenue\": 0, \"budget\": 0, \"certification\": \"NR\"}, {\"imdb_id\": \"tt0218378\", \"revenue\": 0, \"budget\": 0, \"certification\": \"R\"}, {\"imdb_id\": \"tt0218379\", \"revenue\": 0, \"budget\": 0, \"certification\": \"\"}, {\"imdb_id\": \"tt0218475\", \"revenue\": 0, \"budget\": 0, \"certification\": \"\"}, {\"imdb_id\": \"tt0218581\", \"revenue\": 0, \"budget\": 0, \"certification\": \"\"}, {\"imdb_id\": \"tt0218625\", \"revenue\": 0, \"budget\": 250000, \"certification\": \"PG-13\"}, {\"imdb_id\": \"tt0218641\", \"revenue\": 0, \"budget\": 0, \"certification\": \"\"}, {\"imdb_id\": \"tt0218800\", \"revenue\": 0, \"budget\": 4800000, \"certification\": \"\"}, {\"imdb_id\": \"tt0218839\", \"revenue\": 0, \"budget\": 0, \"certification\": \"PG-13\"}, {\"imdb_id\": \"tt0218967\", \"revenue\": 124700000, \"budget\": 60000000, \"certification\": \"PG-13\"}, {\"imdb_id\": \"tt0219210\", \"revenue\": 0, \"budget\": 0, \"certification\": \"\"}, {\"imdb_id\": \"tt0219338\", \"revenue\": 0, \"budget\": 0, \"certification\": \"\"}, {\"imdb_id\": \"tt0219519\", \"revenue\": 0, \"budget\": 0, \"certification\": \"\"}, {\"imdb_id\": \"tt0219636\", \"revenue\": 0, \"budget\": 850000, \"certification\": \"R\"}, {\"imdb_id\": \"tt0219640\", \"revenue\": 0, \"budget\": 0, \"certification\": \"R\"}, {\"imdb_id\": \"tt0219643\", \"revenue\": 0, \"budget\": 0, \"certification\": \"\"}, {\"imdb_id\": \"tt0219653\", \"revenue\": 47053625, \"budget\": 28000000, \"certification\": \"R\"}, {\"imdb_id\": \"tt0219699\", \"revenue\": 12008642, \"budget\": 10000000, \"certification\": \"R\"}, {\"imdb_id\": \"tt0219854\", \"revenue\": 110317580, \"budget\": 65000000, \"certification\": \"\"}, {\"imdb_id\": \"tt0219952\", \"revenue\": 0, \"budget\": 65000000, \"certification\": \"R\"}, {\"imdb_id\": \"tt0220099\", \"revenue\": 45554533, \"budget\": 30000000, \"certification\": \"G\"}, {\"imdb_id\": \"tt0220100\", \"revenue\": 0, \"budget\": 4000000, \"certification\": \"R\"}, {\"imdb_id\": \"tt0220157\", \"revenue\": 0, \"budget\": 0, \"certification\": \"\"}, {\"imdb_id\": \"tt0220332\", \"revenue\": 0, \"budget\": 0, \"certification\": \"\"}, {\"imdb_id\": \"tt0220399\", \"revenue\": 0, \"budget\": 0, \"certification\": \"\"}, {\"imdb_id\": \"tt0220627\", \"revenue\": 0, \"budget\": 0, \"certification\": \"\"}, {\"imdb_id\": \"tt0221069\", \"revenue\": 0, \"budget\": 0, \"certification\": \"R\"}, {\"imdb_id\": \"tt0221073\", \"revenue\": 236185, \"budget\": 0, \"certification\": \"\"}, {\"imdb_id\": \"tt0221197\", \"revenue\": 0, \"budget\": 0, \"certification\": \"\"}, {\"imdb_id\": \"tt0221431\", \"revenue\": 0, \"budget\": 0, \"certification\": \"\"}, {\"imdb_id\": \"tt0221563\", \"revenue\": 0, \"budget\": 0, \"certification\": \"\"}, {\"imdb_id\": \"tt0221823\", \"revenue\": 0, \"budget\": 0, \"certification\": \"\"}, {\"imdb_id\": \"tt0221885\", \"revenue\": 0, \"budget\": 0, \"certification\": \"\"}, {\"imdb_id\": \"tt0221889\", \"revenue\": 313768, \"budget\": 0, \"certification\": \"R\"}, {\"imdb_id\": \"tt0221928\", \"revenue\": 676805, \"budget\": 0, \"certification\": \"\"}, {\"imdb_id\": \"tt0222012\", \"revenue\": 4900000, \"budget\": 3900000, \"certification\": \"PG-13\"}, {\"imdb_id\": \"tt0222020\", \"revenue\": 0, \"budget\": 0, \"certification\": \"\"}, {\"imdb_id\": \"tt0222270\", \"revenue\": 0, \"budget\": 0, \"certification\": \"\"}, {\"imdb_id\": \"tt0222375\", \"revenue\": 0, \"budget\": 6000000, \"certification\": \"\"}, {\"imdb_id\": \"tt0222666\", \"revenue\": 0, \"budget\": 0, \"certification\": \"\"}, {\"imdb_id\": \"tt0222717\", \"revenue\": 0, \"budget\": 0, \"certification\": \"NC-17\"}, {\"imdb_id\": \"tt0222719\", \"revenue\": 0, \"budget\": 0, \"certification\": \"R\"}, {\"imdb_id\": \"tt0222850\", \"revenue\": 1744858, \"budget\": 1000000, \"certification\": \"R\"}, {\"imdb_id\": \"tt0222851\", \"revenue\": 15250000, \"budget\": 12000000, \"certification\": \"\"}, {\"imdb_id\": \"tt0223744\", \"revenue\": 0, \"budget\": 0, \"certification\": \"R\"}, {\"imdb_id\": \"tt0223889\", \"revenue\": 0, \"budget\": 0, \"certification\": \"R\"}, {\"imdb_id\": \"tt0223897\", \"revenue\": 55707411, \"budget\": 40000000, \"certification\": \"PG-13\"}, {\"imdb_id\": \"tt0223911\", \"revenue\": 0, \"budget\": 0, \"certification\": \"\"}, {\"imdb_id\": \"tt0223954\", \"revenue\": 0, \"budget\": 0, \"certification\": \"R\"}, {\"imdb_id\": \"tt0224086\", \"revenue\": 0, \"budget\": 0, \"certification\": \"R\"}, {\"imdb_id\": \"tt0224578\", \"revenue\": 0, \"budget\": 0, \"certification\": \"PG-13\"}, {\"imdb_id\": \"tt0225196\", \"revenue\": 0, \"budget\": 0, \"certification\": \"\"}, {\"imdb_id\": \"tt0226094\", \"revenue\": 0, \"budget\": 0, \"certification\": \"R\"}, {\"imdb_id\": \"tt0226225\", \"revenue\": 0, \"budget\": 0, \"certification\": \"\"}, {\"imdb_id\": \"tt0226430\", \"revenue\": 0, \"budget\": 0, \"certification\": \"\"}, {\"imdb_id\": \"tt0226498\", \"revenue\": 0, \"budget\": 0, \"certification\": \"NR\"}, {\"imdb_id\": \"tt0227277\", \"revenue\": 0, \"budget\": 0, \"certification\": \"R\"}, {\"imdb_id\": \"tt0228054\", \"revenue\": 0, \"budget\": 0, \"certification\": \"\"}, {\"imdb_id\": \"tt0228121\", \"revenue\": 0, \"budget\": 0, \"certification\": \"\"}, {\"imdb_id\": \"tt0228242\", \"revenue\": 0, \"budget\": 0, \"certification\": \"\"}, {\"imdb_id\": \"tt0228277\", \"revenue\": 0, \"budget\": 500000, \"certification\": \"\"}, {\"imdb_id\": \"tt0228525\", \"revenue\": 0, \"budget\": 0, \"certification\": \"\"}, {\"imdb_id\": \"tt0228687\", \"revenue\": 0, \"budget\": 0, \"certification\": \"\"}, {\"imdb_id\": \"tt0228720\", \"revenue\": 0, \"budget\": 0, \"certification\": \"PG\"}, {\"imdb_id\": \"tt0228750\", \"revenue\": 0, \"budget\": 65000000, \"certification\": \"R\"}, {\"imdb_id\": \"tt0228786\", \"revenue\": 0, \"budget\": 2365000, \"certification\": \"R\"}, {\"imdb_id\": \"tt0228891\", \"revenue\": 0, \"budget\": 0, \"certification\": \"\"}, {\"imdb_id\": \"tt0229260\", \"revenue\": 47737094, \"budget\": 15000000, \"certification\": \"R\"}, {\"imdb_id\": \"tt0229340\", \"revenue\": 1075504, \"budget\": 2000000, \"certification\": \"R\"}, {\"imdb_id\": \"tt0229362\", \"revenue\": 0, \"budget\": 0, \"certification\": \"R\"}, {\"imdb_id\": \"tt0229752\", \"revenue\": 0, \"budget\": 0, \"certification\": \"\"}, {\"imdb_id\": \"tt0229942\", \"revenue\": 0, \"budget\": 0, \"certification\": \"\"}, {\"imdb_id\": \"tt0230030\", \"revenue\": 90383208, \"budget\": 48000000, \"certification\": \"PG-13\"}, {\"imdb_id\": \"tt0230189\", \"revenue\": 0, \"budget\": 0, \"certification\": \"\"}, {\"imdb_id\": \"tt0230308\", \"revenue\": 0, \"budget\": 0, \"certification\": \"\"}, {\"imdb_id\": \"tt0230783\", \"revenue\": 0, \"budget\": 0, \"certification\": \"\"}, {\"imdb_id\": \"tt0231138\", \"revenue\": 0, \"budget\": 0, \"certification\": \"\"}, {\"imdb_id\": \"tt0231496\", \"revenue\": 0, \"budget\": 0, \"certification\": \"\"}, {\"imdb_id\": \"tt0231781\", \"revenue\": 0, \"budget\": 0, \"certification\": \"NR\"}, {\"imdb_id\": \"tt0231956\", \"revenue\": 0, \"budget\": 0, \"certification\": \"\"}, {\"imdb_id\": \"tt0232083\", \"revenue\": 0, \"budget\": 0, \"certification\": \"NR\"}, {\"imdb_id\": \"tt0232657\", \"revenue\": 0, \"budget\": 0, \"certification\": \"R\"}, {\"imdb_id\": \"tt0232957\", \"revenue\": 0, \"budget\": 0, \"certification\": \"NR\"}, {\"imdb_id\": \"tt0233289\", \"revenue\": 0, \"budget\": 0, \"certification\": \"\"}, {\"imdb_id\": \"tt0233402\", \"revenue\": 0, \"budget\": 0, \"certification\": \"\"}, {\"imdb_id\": \"tt0233569\", \"revenue\": 0, \"budget\": 0, \"certification\": \"R\"}, {\"imdb_id\": \"tt0233656\", \"revenue\": 0, \"budget\": 0, \"certification\": \"\"}, {\"imdb_id\": \"tt0233699\", \"revenue\": 112521, \"budget\": 0, \"certification\": \"PG-13\"}, {\"imdb_id\": \"tt0233764\", \"revenue\": 0, \"budget\": 0, \"certification\": \"\"}, {\"imdb_id\": \"tt0234137\", \"revenue\": 580372, \"budget\": 0, \"certification\": \"\"}, {\"imdb_id\": \"tt0234288\", \"revenue\": 0, \"budget\": 0, \"certification\": \"\"}, {\"imdb_id\": \"tt0234407\", \"revenue\": 0, \"budget\": 0, \"certification\": \"\"}, {\"imdb_id\": \"tt0234570\", \"revenue\": 0, \"budget\": 0, \"certification\": \"PG\"}, {\"imdb_id\": \"tt0234663\", \"revenue\": 0, \"budget\": 0, \"certification\": \"\"}, {\"imdb_id\": \"tt0234811\", \"revenue\": 0, \"budget\": 0, \"certification\": \"\"}, {\"imdb_id\": \"tt0234837\", \"revenue\": 0, \"budget\": 0, \"certification\": \"\"}, {\"imdb_id\": \"tt0234853\", \"revenue\": 4, \"budget\": 0, \"certification\": \"R\"}, {\"imdb_id\": \"tt0235252\", \"revenue\": 0, \"budget\": 0, \"certification\": \"R\"}, {\"imdb_id\": \"tt0235353\", \"revenue\": 0, \"budget\": 0, \"certification\": \"R\"}, {\"imdb_id\": \"tt0235618\", \"revenue\": 0, \"budget\": 0, \"certification\": \"\"}, {\"imdb_id\": \"tt0235679\", \"revenue\": 68411275, \"budget\": 16000000, \"certification\": \"G\"}, {\"imdb_id\": \"tt0235712\", \"revenue\": 11918069, \"budget\": 6000000, \"certification\": \"NR\"}, {\"imdb_id\": \"tt0235953\", \"revenue\": 0, \"budget\": 0, \"certification\": \"\"}, {\"imdb_id\": \"tt0236019\", \"revenue\": 0, \"budget\": 0, \"certification\": \"\"}, {\"imdb_id\": \"tt0236027\", \"revenue\": 0, \"budget\": 0, \"certification\": \"\"}, {\"imdb_id\": \"tt0236034\", \"revenue\": 0, \"budget\": 0, \"certification\": \"\"}, {\"imdb_id\": \"tt0236167\", \"revenue\": 0, \"budget\": 0, \"certification\": \"\"}, {\"imdb_id\": \"tt0237121\", \"revenue\": 0, \"budget\": 0, \"certification\": \"\"}, {\"imdb_id\": \"tt0237539\", \"revenue\": 8478434, \"budget\": 0, \"certification\": \"\"}, {\"imdb_id\": \"tt0237706\", \"revenue\": 0, \"budget\": 0, \"certification\": \"R\"}, {\"imdb_id\": \"tt0237865\", \"revenue\": 0, \"budget\": 0, \"certification\": \"\"}, {\"imdb_id\": \"tt0238119\", \"revenue\": 0, \"budget\": 0, \"certification\": \"\"}, {\"imdb_id\": \"tt0238247\", \"revenue\": 0, \"budget\": 0, \"certification\": \"PG\"}, {\"imdb_id\": \"tt0238274\", \"revenue\": 0, \"budget\": 0, \"certification\": \"\"}, {\"imdb_id\": \"tt0238276\", \"revenue\": 0, \"budget\": 0, \"certification\": \"\"}, {\"imdb_id\": \"tt0238321\", \"revenue\": 47027, \"budget\": 0, \"certification\": \"R\"}, {\"imdb_id\": \"tt0238463\", \"revenue\": 0, \"budget\": 0, \"certification\": \"R\"}, {\"imdb_id\": \"tt0238474\", \"revenue\": 0, \"budget\": 0, \"certification\": \"\"}, {\"imdb_id\": \"tt0238588\", \"revenue\": 0, \"budget\": 0, \"certification\": \"PG\"}, {\"imdb_id\": \"tt0238627\", \"revenue\": 0, \"budget\": 0, \"certification\": \"R\"}, {\"imdb_id\": \"tt0238660\", \"revenue\": 0, \"budget\": 0, \"certification\": \"PG\"}, {\"imdb_id\": \"tt0238743\", \"revenue\": 0, \"budget\": 0, \"certification\": \"R\"}, {\"imdb_id\": \"tt0239267\", \"revenue\": 0, \"budget\": 0, \"certification\": \"\"}, {\"imdb_id\": \"tt0239381\", \"revenue\": 126783, \"budget\": 0, \"certification\": \"NR\"}, {\"imdb_id\": \"tt0239450\", \"revenue\": 0, \"budget\": 0, \"certification\": \"\"}, {\"imdb_id\": \"tt0239522\", \"revenue\": 0, \"budget\": 0, \"certification\": \"\"}, {\"imdb_id\": \"tt0240156\", \"revenue\": 0, \"budget\": 0, \"certification\": \"\"}, {\"imdb_id\": \"tt0240400\", \"revenue\": 0, \"budget\": 0, \"certification\": \"\"}, {\"imdb_id\": \"tt0240500\", \"revenue\": 0, \"budget\": 0, \"certification\": \"R\"}, {\"imdb_id\": \"tt0240509\", \"revenue\": 0, \"budget\": 0, \"certification\": \"\"}, {\"imdb_id\": \"tt0240585\", \"revenue\": 0, \"budget\": 0, \"certification\": \"R\"}, {\"imdb_id\": \"tt0240802\", \"revenue\": 0, \"budget\": 0, \"certification\": \"R\"}, {\"imdb_id\": \"tt0240913\", \"revenue\": 0, \"budget\": 0, \"certification\": \"NR\"}, {\"imdb_id\": \"tt0241079\", \"revenue\": 0, \"budget\": 0, \"certification\": \"\"}, {\"imdb_id\": \"tt0241142\", \"revenue\": 0, \"budget\": 0, \"certification\": \"\"}, {\"imdb_id\": \"tt0241272\", \"revenue\": 0, \"budget\": 0, \"certification\": \"\"}, {\"imdb_id\": \"tt0241303\", \"revenue\": 152500343, \"budget\": 25000000, \"certification\": \"\"}, {\"imdb_id\": \"tt0241526\", \"revenue\": 0, \"budget\": 0, \"certification\": \"\"}, {\"imdb_id\": \"tt0242337\", \"revenue\": 0, \"budget\": 0, \"certification\": \"\"}, {\"imdb_id\": \"tt0242380\", \"revenue\": 0, \"budget\": 0, \"certification\": \"\"}, {\"imdb_id\": \"tt0242423\", \"revenue\": 73180723, \"budget\": 13000000, \"certification\": \"PG-13\"}, {\"imdb_id\": \"tt0242460\", \"revenue\": 0, \"budget\": 0, \"certification\": \"\"}, {\"imdb_id\": \"tt0242716\", \"revenue\": 0, \"budget\": 0, \"certification\": \"R\"}, {\"imdb_id\": \"tt0242795\", \"revenue\": 326484, \"budget\": 0, \"certification\": \"NR\"}, {\"imdb_id\": \"tt0243196\", \"revenue\": 0, \"budget\": 0, \"certification\": \"\"}, {\"imdb_id\": \"tt0243327\", \"revenue\": 0, \"budget\": 0, \"certification\": \"\"}, {\"imdb_id\": \"tt0243415\", \"revenue\": 173599, \"budget\": 600000, \"certification\": \"PG-13\"}, {\"imdb_id\": \"tt0243441\", \"revenue\": 0, \"budget\": 0, \"certification\": \"\"}, {\"imdb_id\": \"tt0243465\", \"revenue\": 0, \"budget\": 0, \"certification\": \"\"}, {\"imdb_id\": \"tt0243650\", \"revenue\": 0, \"budget\": 0, \"certification\": \"R\"}, {\"imdb_id\": \"tt0243794\", \"revenue\": 100957, \"budget\": 0, \"certification\": \"\"}, {\"imdb_id\": \"tt0243889\", \"revenue\": 0, \"budget\": 0, \"certification\": \"\"}, {\"imdb_id\": \"tt0243927\", \"revenue\": 0, \"budget\": 0, \"certification\": \"\"}, {\"imdb_id\": \"tt0244095\", \"revenue\": 0, \"budget\": 0, \"certification\": \"\"}, {\"imdb_id\": \"tt0244196\", \"revenue\": 0, \"budget\": 0, \"certification\": \"R\"}, {\"imdb_id\": \"tt0244437\", \"revenue\": 0, \"budget\": 0, \"certification\": \"\"}, {\"imdb_id\": \"tt0244684\", \"revenue\": 0, \"budget\": 0, \"certification\": \"R\"}, {\"imdb_id\": \"tt0245036\", \"revenue\": 0, \"budget\": 0, \"certification\": \"\"}, {\"imdb_id\": \"tt0245062\", \"revenue\": 0, \"budget\": 0, \"certification\": \"\"}, {\"imdb_id\": \"tt0245712\", \"revenue\": 20908467, \"budget\": 2000000, \"certification\": \"R\"}, {\"imdb_id\": \"tt0245724\", \"revenue\": 0, \"budget\": 0, \"certification\": \"\"}, {\"imdb_id\": \"tt0245759\", \"revenue\": 0, \"budget\": 0, \"certification\": \"\"}, {\"imdb_id\": \"tt0245837\", \"revenue\": 0, \"budget\": 0, \"certification\": \"\"}, {\"imdb_id\": \"tt0245929\", \"revenue\": 0, \"budget\": 0, \"certification\": \"\"}, {\"imdb_id\": \"tt0246072\", \"revenue\": 0, \"budget\": 0, \"certification\": \"\"}, {\"imdb_id\": \"tt0246124\", \"revenue\": 0, \"budget\": 0, \"certification\": \"NR\"}, {\"imdb_id\": \"tt0246266\", \"revenue\": 0, \"budget\": 0, \"certification\": \"\"}, {\"imdb_id\": \"tt0246323\", \"revenue\": 0, \"budget\": 600000, \"certification\": \"\"}, {\"imdb_id\": \"tt0246332\", \"revenue\": 0, \"budget\": 0, \"certification\": \"R\"}, {\"imdb_id\": \"tt0246405\", \"revenue\": 0, \"budget\": 0, \"certification\": \"\"}, {\"imdb_id\": \"tt0246411\", \"revenue\": 0, \"budget\": 0, \"certification\": \"\"}, {\"imdb_id\": \"tt0246593\", \"revenue\": 0, \"budget\": 0, \"certification\": \"\"}, {\"imdb_id\": \"tt0246870\", \"revenue\": 0, \"budget\": 0, \"certification\": \"\"}, {\"imdb_id\": \"tt0246906\", \"revenue\": 0, \"budget\": 0, \"certification\": \"\"}, {\"imdb_id\": \"tt0247153\", \"revenue\": 0, \"budget\": 0, \"certification\": \"\"}, {\"imdb_id\": \"tt0247196\", \"revenue\": 8524534, \"budget\": 0, \"certification\": \"R\"}, {\"imdb_id\": \"tt0247586\", \"revenue\": 12413888, \"budget\": 1300000, \"certification\": \"R\"}, {\"imdb_id\": \"tt0248103\", \"revenue\": 0, \"budget\": 3000000, \"certification\": \"\"}, {\"imdb_id\": \"tt0248180\", \"revenue\": 0, \"budget\": 0, \"certification\": \"\"}, {\"imdb_id\": \"tt0248925\", \"revenue\": 0, \"budget\": 0, \"certification\": \"\"}, {\"imdb_id\": \"tt0249172\", \"revenue\": 0, \"budget\": 0, \"certification\": \"\"}, {\"imdb_id\": \"tt0249238\", \"revenue\": 0, \"budget\": 0, \"certification\": \"\"}, {\"imdb_id\": \"tt0249241\", \"revenue\": 64974, \"budget\": 0, \"certification\": \"\"}, {\"imdb_id\": \"tt0249380\", \"revenue\": 940944, \"budget\": 0, \"certification\": \"\"}, {\"imdb_id\": \"tt0249443\", \"revenue\": 0, \"budget\": 0, \"certification\": \"\"}, {\"imdb_id\": \"tt0249462\", \"revenue\": 109280263, \"budget\": 5000000, \"certification\": \"\"}, {\"imdb_id\": \"tt0249538\", \"revenue\": 0, \"budget\": 0, \"certification\": \"NR\"}, {\"imdb_id\": \"tt0249757\", \"revenue\": 0, \"budget\": 0, \"certification\": \"\"}, {\"imdb_id\": \"tt0249868\", \"revenue\": 0, \"budget\": 0, \"certification\": \"\"}, {\"imdb_id\": \"tt0249892\", \"revenue\": 0, \"budget\": 0, \"certification\": \"R\"}, {\"imdb_id\": \"tt0249893\", \"revenue\": 0, \"budget\": 0, \"certification\": \"PG-13\"}, {\"imdb_id\": \"tt0250343\", \"revenue\": 0, \"budget\": 0, \"certification\": \"\"}, {\"imdb_id\": \"tt0250451\", \"revenue\": 0, \"budget\": 0, \"certification\": \"\"}, {\"imdb_id\": \"tt0250478\", \"revenue\": 0, \"budget\": 0, \"certification\": \"NR\"}, {\"imdb_id\": \"tt0250809\", \"revenue\": 0, \"budget\": 0, \"certification\": \"R\"}, {\"imdb_id\": \"tt0251004\", \"revenue\": 0, \"budget\": 0, \"certification\": \"\"}, {\"imdb_id\": \"tt0251005\", \"revenue\": 0, \"budget\": 0, \"certification\": \"\"}, {\"imdb_id\": \"tt0251046\", \"revenue\": 0, \"budget\": 0, \"certification\": \"\"}, {\"imdb_id\": \"tt0251091\", \"revenue\": 0, \"budget\": 0, \"certification\": \"\"}, {\"imdb_id\": \"tt0251412\", \"revenue\": 0, \"budget\": 0, \"certification\": \"R\"}, {\"imdb_id\": \"tt0251422\", \"revenue\": 0, \"budget\": 0, \"certification\": \"\"}, {\"imdb_id\": \"tt0251433\", \"revenue\": 0, \"budget\": 0, \"certification\": \"\"}, {\"imdb_id\": \"tt0252445\", \"revenue\": 0, \"budget\": 0, \"certification\": \"R\"}, {\"imdb_id\": \"tt0252884\", \"revenue\": 0, \"budget\": 0, \"certification\": \"\"}, {\"imdb_id\": \"tt0253056\", \"revenue\": 0, \"budget\": 0, \"certification\": \"\"}, {\"imdb_id\": \"tt0253063\", \"revenue\": 0, \"budget\": 0, \"certification\": \"\"}, {\"imdb_id\": \"tt0253104\", \"revenue\": 0, \"budget\": 0, \"certification\": \"\"}, {\"imdb_id\": \"tt0253110\", \"revenue\": 0, \"budget\": 0, \"certification\": \"R\"}, {\"imdb_id\": \"tt0253486\", \"revenue\": 0, \"budget\": 0, \"certification\": \"\"}, {\"imdb_id\": \"tt0253700\", \"revenue\": 0, \"budget\": 120000, \"certification\": \"\"}, {\"imdb_id\": \"tt0254325\", \"revenue\": 0, \"budget\": 0, \"certification\": \"\"}, {\"imdb_id\": \"tt0255094\", \"revenue\": 0, \"budget\": 0, \"certification\": \"\"}, {\"imdb_id\": \"tt0255198\", \"revenue\": 11068800, \"budget\": 8300000, \"certification\": \"NR\"}, {\"imdb_id\": \"tt0255321\", \"revenue\": 0, \"budget\": 0, \"certification\": \"\"}, {\"imdb_id\": \"tt0255325\", \"revenue\": 0, \"budget\": 0, \"certification\": \"\"}, {\"imdb_id\": \"tt0255476\", \"revenue\": 0, \"budget\": 0, \"certification\": \"\"}, {\"imdb_id\": \"tt0256375\", \"revenue\": 0, \"budget\": 0, \"certification\": \"R\"}, {\"imdb_id\": \"tt0256378\", \"revenue\": 0, \"budget\": 0, \"certification\": \"\"}, {\"imdb_id\": \"tt0256757\", \"revenue\": 0, \"budget\": 0, \"certification\": \"\"}, {\"imdb_id\": \"tt0257497\", \"revenue\": 0, \"budget\": 0, \"certification\": \"\"}, {\"imdb_id\": \"tt0257939\", \"revenue\": 42250, \"budget\": 0, \"certification\": \"\"}, {\"imdb_id\": \"tt0258210\", \"revenue\": 0, \"budget\": 0, \"certification\": \"\"}, {\"imdb_id\": \"tt0258247\", \"revenue\": 0, \"budget\": 0, \"certification\": \"NR\"}, {\"imdb_id\": \"tt0258501\", \"revenue\": 0, \"budget\": 0, \"certification\": \"\"}, {\"imdb_id\": \"tt0258562\", \"revenue\": 0, \"budget\": 0, \"certification\": \"\"}, {\"imdb_id\": \"tt0258761\", \"revenue\": 0, \"budget\": 0, \"certification\": \"\"}, {\"imdb_id\": \"tt0258854\", \"revenue\": 190441, \"budget\": 77575, \"certification\": \"\"}, {\"imdb_id\": \"tt0258862\", \"revenue\": 0, \"budget\": 0, \"certification\": \"\"}, {\"imdb_id\": \"tt0259072\", \"revenue\": 0, \"budget\": 0, \"certification\": \"\"}, {\"imdb_id\": \"tt0259216\", \"revenue\": 0, \"budget\": 0, \"certification\": \"NR\"}, {\"imdb_id\": \"tt0259221\", \"revenue\": 0, \"budget\": 0, \"certification\": \"\"}, {\"imdb_id\": \"tt0259255\", \"revenue\": 0, \"budget\": 0, \"certification\": \"NR\"}, {\"imdb_id\": \"tt0259265\", \"revenue\": 0, \"budget\": 0, \"certification\": \"\"}, {\"imdb_id\": \"tt0259333\", \"revenue\": 0, \"budget\": 0, \"certification\": \"\"}, {\"imdb_id\": \"tt0259516\", \"revenue\": 0, \"budget\": 0, \"certification\": \"\"}, {\"imdb_id\": \"tt0259974\", \"revenue\": 16600000, \"budget\": 5500000, \"certification\": \"PG\"}, {\"imdb_id\": \"tt0260481\", \"revenue\": 0, \"budget\": 0, \"certification\": \"\"}, {\"imdb_id\": \"tt0260594\", \"revenue\": 0, \"budget\": 0, \"certification\": \"\"}, {\"imdb_id\": \"tt0260688\", \"revenue\": 0, \"budget\": 0, \"certification\": \"\"}, {\"imdb_id\": \"tt0261199\", \"revenue\": 0, \"budget\": 0, \"certification\": \"\"}, {\"imdb_id\": \"tt0261326\", \"revenue\": 0, \"budget\": 0, \"certification\": \"\"}, {\"imdb_id\": \"tt0261375\", \"revenue\": 0, \"budget\": 0, \"certification\": \"\"}, {\"imdb_id\": \"tt0261552\", \"revenue\": 0, \"budget\": 0, \"certification\": \"\"}, {\"imdb_id\": \"tt0262196\", \"revenue\": 0, \"budget\": 300000, \"certification\": \"\"}, {\"imdb_id\": \"tt0262221\", \"revenue\": 0, \"budget\": 0, \"certification\": \"R\"}, {\"imdb_id\": \"tt0262222\", \"revenue\": 0, \"budget\": 0, \"certification\": \"\"}, {\"imdb_id\": \"tt0262432\", \"revenue\": 241816, \"budget\": 42000, \"certification\": \"\"}, {\"imdb_id\": \"tt0263971\", \"revenue\": 0, \"budget\": 0, \"certification\": \"\"}, {\"imdb_id\": \"tt0264335\", \"revenue\": 0, \"budget\": 0, \"certification\": \"\"}, {\"imdb_id\": \"tt0264581\", \"revenue\": 0, \"budget\": 0, \"certification\": \"\"}, {\"imdb_id\": \"tt0264675\", \"revenue\": 0, \"budget\": 0, \"certification\": \"R\"}, {\"imdb_id\": \"tt0264916\", \"revenue\": 0, \"budget\": 0, \"certification\": \"\"}, {\"imdb_id\": \"tt0265018\", \"revenue\": 0, \"budget\": 0, \"certification\": \"PG-13\"}, {\"imdb_id\": \"tt0265101\", \"revenue\": 0, \"budget\": 0, \"certification\": \"\"}, {\"imdb_id\": \"tt0265180\", \"revenue\": 0, \"budget\": 0, \"certification\": \"R\"}, {\"imdb_id\": \"tt0265221\", \"revenue\": 0, \"budget\": 0, \"certification\": \"\"}, {\"imdb_id\": \"tt0265357\", \"revenue\": 0, \"budget\": 0, \"certification\": \"R\"}, {\"imdb_id\": \"tt0265496\", \"revenue\": 0, \"budget\": 0, \"certification\": \"\"}, {\"imdb_id\": \"tt0265828\", \"revenue\": 0, \"budget\": 0, \"certification\": \"\"}, {\"imdb_id\": \"tt0266308\", \"revenue\": 30600000, \"budget\": 4500000, \"certification\": \"NR\"}, {\"imdb_id\": \"tt0266408\", \"revenue\": 145969, \"budget\": 13500000, \"certification\": \"R\"}, {\"imdb_id\": \"tt0266634\", \"revenue\": 0, \"budget\": 0, \"certification\": \"\"}, {\"imdb_id\": \"tt0266719\", \"revenue\": 0, \"budget\": 0, \"certification\": \"\"}, {\"imdb_id\": \"tt0267601\", \"revenue\": 0, \"budget\": 500000, \"certification\": \"\"}, {\"imdb_id\": \"tt0267784\", \"revenue\": 0, \"budget\": 0, \"certification\": \"\"}, {\"imdb_id\": \"tt0267929\", \"revenue\": 0, \"budget\": 0, \"certification\": \"\"}, {\"imdb_id\": \"tt0267959\", \"revenue\": 0, \"budget\": 0, \"certification\": \"\"}, {\"imdb_id\": \"tt0268696\", \"revenue\": 0, \"budget\": 0, \"certification\": \"\"}, {\"imdb_id\": \"tt0269135\", \"revenue\": 0, \"budget\": 0, \"certification\": \"\"}, {\"imdb_id\": \"tt0269182\", \"revenue\": 0, \"budget\": 0, \"certification\": \"\"}, {\"imdb_id\": \"tt0269217\", \"revenue\": 0, \"budget\": 0, \"certification\": \"NR\"}, {\"imdb_id\": \"tt0269411\", \"revenue\": 0, \"budget\": 0, \"certification\": \"\"}, {\"imdb_id\": \"tt0269763\", \"revenue\": 0, \"budget\": 2000000, \"certification\": \"\"}, {\"imdb_id\": \"tt0270059\", \"revenue\": 0, \"budget\": 0, \"certification\": \"\"}, {\"imdb_id\": \"tt0270500\", \"revenue\": 0, \"budget\": 0, \"certification\": \"\"}, {\"imdb_id\": \"tt0270560\", \"revenue\": 0, \"budget\": 0, \"certification\": \"G\"}, {\"imdb_id\": \"tt0270933\", \"revenue\": 0, \"budget\": 0, \"certification\": \"PG-13\"}, {\"imdb_id\": \"tt0270989\", \"revenue\": 0, \"budget\": 0, \"certification\": \"\"}, {\"imdb_id\": \"tt0271193\", \"revenue\": 0, \"budget\": 0, \"certification\": \"\"}, {\"imdb_id\": \"tt0273259\", \"revenue\": 0, \"budget\": 0, \"certification\": \"\"}, {\"imdb_id\": \"tt0273567\", \"revenue\": 0, \"budget\": 0, \"certification\": \"\"}, {\"imdb_id\": \"tt0274748\", \"revenue\": 0, \"budget\": 0, \"certification\": \"\"}, {\"imdb_id\": \"tt0275230\", \"revenue\": 0, \"budget\": 0, \"certification\": \"PG-13\"}, {\"imdb_id\": \"tt0275615\", \"revenue\": 0, \"budget\": 0, \"certification\": \"\"}, {\"imdb_id\": \"tt0275773\", \"revenue\": 0, \"budget\": 400000, \"certification\": \"\"}, {\"imdb_id\": \"tt0275969\", \"revenue\": 0, \"budget\": 0, \"certification\": \"\"}, {\"imdb_id\": \"tt0278380\", \"revenue\": 0, \"budget\": 0, \"certification\": \"\"}, {\"imdb_id\": \"tt0279809\", \"revenue\": 0, \"budget\": 0, \"certification\": \"R\"}, {\"imdb_id\": \"tt0280697\", \"revenue\": 0, \"budget\": 0, \"certification\": \"\"}, {\"imdb_id\": \"tt0280791\", \"revenue\": 0, \"budget\": 30, \"certification\": \"\"}, {\"imdb_id\": \"tt0282599\", \"revenue\": 0, \"budget\": 0, \"certification\": \"\"}, {\"imdb_id\": \"tt0284451\", \"revenue\": 0, \"budget\": 0, \"certification\": \"\"}, {\"imdb_id\": \"tt0284880\", \"revenue\": 0, \"budget\": 0, \"certification\": \"R\"}, {\"imdb_id\": \"tt0285005\", \"revenue\": 0, \"budget\": 0, \"certification\": \"\"}, {\"imdb_id\": \"tt0285242\", \"revenue\": 0, \"budget\": 0, \"certification\": \"PG-13\"}, {\"imdb_id\": \"tt0285896\", \"revenue\": 0, \"budget\": 0, \"certification\": \"\"}, {\"imdb_id\": \"tt0285999\", \"revenue\": 0, \"budget\": 0, \"certification\": \"\"}, {\"imdb_id\": \"tt0289074\", \"revenue\": 0, \"budget\": 0, \"certification\": \"\"}, {\"imdb_id\": \"tt0292997\", \"revenue\": 0, \"budget\": 0, \"certification\": \"\"}, {\"imdb_id\": \"tt0293854\", \"revenue\": 0, \"budget\": 0, \"certification\": \"G\"}, {\"imdb_id\": \"tt0293865\", \"revenue\": 0, \"budget\": 0, \"certification\": \"\"}, {\"imdb_id\": \"tt0294897\", \"revenue\": 0, \"budget\": 0, \"certification\": \"NC-17\"}, {\"imdb_id\": \"tt0295362\", \"revenue\": 0, \"budget\": 0, \"certification\": \"\"}, {\"imdb_id\": \"tt0301479\", \"revenue\": 0, \"budget\": 0, \"certification\": \"\"}, {\"imdb_id\": \"tt0305211\", \"revenue\": 0, \"budget\": 0, \"certification\": \"\"}, {\"imdb_id\": \"tt0305793\", \"revenue\": 0, \"budget\": 12, \"certification\": \"\"}, {\"imdb_id\": \"tt0306874\", \"revenue\": 0, \"budget\": 0, \"certification\": \"\"}, {\"imdb_id\": \"tt0309059\", \"revenue\": 0, \"budget\": 0, \"certification\": \"\"}, {\"imdb_id\": \"tt0311582\", \"revenue\": 0, \"budget\": 0, \"certification\": \"\"}, {\"imdb_id\": \"tt0312408\", \"revenue\": 0, \"budget\": 0, \"certification\": \"\"}, {\"imdb_id\": \"tt0314079\", \"revenue\": 0, \"budget\": 0, \"certification\": \"\"}, {\"imdb_id\": \"tt0315253\", \"revenue\": 0, \"budget\": 0, \"certification\": \"\"}, {\"imdb_id\": \"tt0317079\", \"revenue\": 0, \"budget\": 0, \"certification\": \"\"}, {\"imdb_id\": \"tt0320187\", \"revenue\": 0, \"budget\": 40000, \"certification\": \"NR\"}, {\"imdb_id\": \"tt0322852\", \"revenue\": 0, \"budget\": 0, \"certification\": \"\"}, {\"imdb_id\": \"tt0325758\", \"revenue\": 0, \"budget\": 0, \"certification\": \"NR\"}, {\"imdb_id\": \"tt0326756\", \"revenue\": 0, \"budget\": 0, \"certification\": \"\"}, {\"imdb_id\": \"tt0331441\", \"revenue\": 0, \"budget\": 0, \"certification\": \"\"}, {\"imdb_id\": \"tt0331997\", \"revenue\": 0, \"budget\": 0, \"certification\": \"\"}, {\"imdb_id\": \"tt0359190\", \"revenue\": 0, \"budget\": 0, \"certification\": \"\"}, {\"imdb_id\": \"tt0361277\", \"revenue\": 0, \"budget\": 0, \"certification\": \"\"}, {\"imdb_id\": \"tt0365581\", \"revenue\": 0, \"budget\": 0, \"certification\": \"NR\"}, {\"imdb_id\": \"tt0368561\", \"revenue\": 0, \"budget\": 0, \"certification\": \"\"}, {\"imdb_id\": \"tt0379955\", \"revenue\": 0, \"budget\": 0, \"certification\": \"\"}, {\"imdb_id\": \"tt0434857\", \"revenue\": 0, \"budget\": 400, \"certification\": \"\"}, {\"imdb_id\": \"tt0446464\", \"revenue\": 0, \"budget\": 0, \"certification\": \"\"}, {\"imdb_id\": \"tt0447604\", \"revenue\": 0, \"budget\": 0, \"certification\": \"\"}, {\"imdb_id\": \"tt0451229\", \"revenue\": 0, \"budget\": 0, \"certification\": \"\"}, {\"imdb_id\": \"tt0461021\", \"revenue\": 0, \"budget\": 0, \"certification\": \"\"}, {\"imdb_id\": \"tt0477475\", \"revenue\": 0, \"budget\": 0, \"certification\": \"NR\"}, {\"imdb_id\": \"tt0487130\", \"revenue\": 0, \"budget\": 0, \"certification\": \"\"}, {\"imdb_id\": \"tt0814243\", \"revenue\": 0, \"budget\": 0, \"certification\": \"PG-13\"}, {\"imdb_id\": \"tt1016145\", \"revenue\": 0, \"budget\": 0, \"certification\": \"\"}, {\"imdb_id\": \"tt1020940\", \"revenue\": 0, \"budget\": 94, \"certification\": \"NR\"}, {\"imdb_id\": \"tt1068773\", \"revenue\": 0, \"budget\": 0, \"certification\": \"PG-13\"}, {\"imdb_id\": \"tt1080035\", \"revenue\": 0, \"budget\": 0, \"certification\": \"\"}, {\"imdb_id\": \"tt10875196\", \"revenue\": 0, \"budget\": 0, \"certification\": \"\"}, {\"imdb_id\": \"tt1147513\", \"revenue\": 0, \"budget\": 0, \"certification\": \"\"}, {\"imdb_id\": \"tt12695338\", \"revenue\": 0, \"budget\": 0, \"certification\": \"NR\"}, {\"imdb_id\": \"tt1291055\", \"revenue\": 0, \"budget\": 0, \"certification\": \"G\"}, {\"imdb_id\": \"tt12940124\", \"revenue\": 0, \"budget\": 0, \"certification\": \"NR\"}, {\"imdb_id\": \"tt1315895\", \"revenue\": 0, \"budget\": 0, \"certification\": \"\"}, {\"imdb_id\": \"tt1601221\", \"revenue\": 0, \"budget\": 0, \"certification\": \"\"}, {\"imdb_id\": \"tt16034784\", \"revenue\": 0, \"budget\": 0, \"certification\": \"NR\"}, {\"imdb_id\": \"tt2014238\", \"revenue\": 0, \"budget\": 0, \"certification\": \"\"}, {\"imdb_id\": \"tt20852180\", \"revenue\": 0, \"budget\": 0, \"certification\": \"\"}, {\"imdb_id\": \"tt2199776\", \"revenue\": 0, \"budget\": 0, \"certification\": \"\"}, {\"imdb_id\": \"tt2385237\", \"revenue\": 0, \"budget\": 0, \"certification\": \"\"}, {\"imdb_id\": \"tt2402945\", \"revenue\": 0, \"budget\": 0, \"certification\": \"\"}, {\"imdb_id\": \"tt3034558\", \"revenue\": 0, \"budget\": 0, \"certification\": \"\"}, {\"imdb_id\": \"tt3067204\", \"revenue\": 0, \"budget\": 0, \"certification\": \"NR\"}, {\"imdb_id\": \"tt3204902\", \"revenue\": 0, \"budget\": 0, \"certification\": \"\"}, {\"imdb_id\": \"tt4472100\", \"revenue\": 0, \"budget\": 0, \"certification\": \"\"}, {\"imdb_id\": \"tt4518384\", \"revenue\": 0, \"budget\": 0, \"certification\": \"\"}, {\"imdb_id\": \"tt4794734\", \"revenue\": 0, \"budget\": 0, \"certification\": \"\"}, {\"imdb_id\": \"tt5493684\", \"revenue\": 0, \"budget\": 0, \"certification\": \"\"}, {\"imdb_id\": \"tt7029820\", \"revenue\": 0, \"budget\": 7000, \"certification\": \"\"}, {\"imdb_id\": \"tt7197642\", \"revenue\": 0, \"budget\": 0, \"certification\": \"\"}]\n"
     ]
    },
    {
     "data": {
      "application/vnd.jupyter.widget-view+json": {
       "model_id": "0624717630ee4ab3b1fd1bb703488a1b",
       "version_major": 2,
       "version_minor": 0
      },
      "text/plain": [
       "Movies from 2001:   0%|          | 0/1584 [00:00<?, ?it/s]"
      ]
     },
     "metadata": {},
     "output_type": "display_data"
    },
    {
     "name": "stdout",
     "output_type": "stream",
     "text": [
      "Contents of Data/tmdb_api_results_2001.json:\n",
      "[{\"imdb_id\": 0}, {\"imdb_id\": \"tt0035423\", \"revenue\": 76019048, \"budget\": 48000000, \"certification\": \"PG-13\"}, {\"imdb_id\": \"tt0118589\", \"revenue\": 5271666, \"budget\": 22000000, \"certification\": \"PG-13\"}, {\"imdb_id\": \"tt0118652\", \"revenue\": 0, \"budget\": 1000000, \"certification\": \"R\"}, {\"imdb_id\": \"tt0120166\", \"revenue\": 0, \"budget\": 0, \"certification\": \"NR\"}, {\"imdb_id\": \"tt0120681\", \"revenue\": 74558115, \"budget\": 35000000, \"certification\": \"R\"}, {\"imdb_id\": \"tt0120737\", \"revenue\": 871368364, \"budget\": 93000000, \"certification\": \"PG-13\"}, {\"imdb_id\": \"tt0120807\", \"revenue\": 0, \"budget\": 0, \"certification\": \"\"}, {\"imdb_id\": \"tt0120824\", \"revenue\": 24690441, \"budget\": 38000000, \"certification\": \"R\"}, {\"imdb_id\": \"tt0123581\", \"revenue\": 0, \"budget\": 0, \"certification\": \"\"}, {\"imdb_id\": \"tt0124889\", \"revenue\": 0, \"budget\": 0, \"certification\": \"\"}, {\"imdb_id\": \"tt0125022\", \"revenue\": 57756408, \"budget\": 35000000, \"certification\": \"PG-13\"}, {\"imdb_id\": \"tt0126029\", \"revenue\": 487853320, \"budget\": 60000000, \"certification\": \"PG\"}, {\"imdb_id\": \"tt0126899\", \"revenue\": 0, \"budget\": 150000, \"certification\": \"\"}, {\"imdb_id\": \"tt0128165\", \"revenue\": 0, \"budget\": 0, \"certification\": \"\"}, {\"imdb_id\": \"tt0132078\", \"revenue\": 0, \"budget\": 0, \"certification\": \"PG-13\"}, {\"imdb_id\": \"tt0132245\", \"revenue\": 54744738, \"budget\": 94000000, \"certification\": \"\"}, {\"imdb_id\": \"tt0133152\", \"revenue\": 362211740, \"budget\": 100000000, \"certification\": \"PG-13\"}, {\"imdb_id\": \"tt0139654\", \"revenue\": 104900000, \"budget\": 45000000, \"certification\": \"R\"}, {\"imdb_id\": \"tt0141120\", \"revenue\": 0, \"budget\": 0, \"certification\": \"\"}, {\"imdb_id\": \"tt0141907\", \"revenue\": 10372291, \"budget\": 90000000, \"certification\": \"R\"}, {\"imdb_id\": \"tt0146316\", \"revenue\": 274703340, \"budget\": 115000000, \"certification\": \"PG-13\"}, {\"imdb_id\": \"tt0148415\", \"revenue\": 0, \"budget\": 0, \"certification\": \"\"}, {\"imdb_id\": \"tt0150021\", \"revenue\": 0, \"budget\": 10000000, \"certification\": \"R\"}, {\"imdb_id\": \"tt0153533\", \"revenue\": 0, \"budget\": 0, \"certification\": \"\"}, {\"imdb_id\": \"tt0157007\", \"revenue\": 0, \"budget\": 1400000, \"certification\": \"\"}, {\"imdb_id\": \"tt0157583\", \"revenue\": 15705007, \"budget\": 0, \"certification\": \"R\"}, {\"imdb_id\": \"tt0159273\", \"revenue\": 91753202, \"budget\": 40000000, \"certification\": \"PG-13\"}, {\"imdb_id\": \"tt0159378\", \"revenue\": 0, \"budget\": 0, \"certification\": \"\"}, {\"imdb_id\": \"tt0160399\", \"revenue\": 8694320, \"budget\": 40000000, \"certification\": \"PG-13\"}, {\"imdb_id\": \"tt0160905\", \"revenue\": 0, \"budget\": 0, \"certification\": \"\"}, {\"imdb_id\": \"tt0161083\", \"revenue\": 38400000, \"budget\": 60000000, \"certification\": \"PG-13\"}, {\"imdb_id\": \"tt0161860\", \"revenue\": 0, \"budget\": 0, \"certification\": \"R\"}, {\"imdb_id\": \"tt0162030\", \"revenue\": 0, \"budget\": 0, \"certification\": \"R\"}, {\"imdb_id\": \"tt0162203\", \"revenue\": 0, \"budget\": 0, \"certification\": \"\"}, {\"imdb_id\": \"tt0162346\", \"revenue\": 8800000, \"budget\": 7000000, \"certification\": \"\"}, {\"imdb_id\": \"tt0163025\", \"revenue\": 368780809, \"budget\": 93000000, \"certification\": \"PG-13\"}, {\"imdb_id\": \"tt0163764\", \"revenue\": 0, \"budget\": 0, \"certification\": \"\"}, {\"imdb_id\": \"tt0164334\", \"revenue\": 105178561, \"budget\": 60000000, \"certification\": \"R\"}, {\"imdb_id\": \"tt0164961\", \"revenue\": 13240767, \"budget\": 0, \"certification\": \"R\"}, {\"imdb_id\": \"tt0165452\", \"revenue\": 0, \"budget\": 0, \"certification\": \"R\"}, {\"imdb_id\": \"tt0165713\", \"revenue\": 0, \"budget\": 0, \"certification\": \"\"}, {\"imdb_id\": \"tt0166110\", \"revenue\": 7316658, \"budget\": 10000000, \"certification\": \"R\"}, {\"imdb_id\": \"tt0166158\", \"revenue\": 6718, \"budget\": 4000000, \"certification\": \"\"}, {\"imdb_id\": \"tt0166186\", \"revenue\": 0, \"budget\": 100, \"certification\": \"\"}, {\"imdb_id\": \"tt0166276\", \"revenue\": 5409517, \"budget\": 75000000, \"certification\": \"PG-13\"}, {\"imdb_id\": \"tt0166924\", \"revenue\": 20271129, \"budget\": 15000000, \"certification\": \"\"}, {\"imdb_id\": \"tt0167360\", \"revenue\": 0, \"budget\": 0, \"certification\": \"PG\"}, {\"imdb_id\": \"tt0169102\", \"revenue\": 8100000, \"budget\": 5200000, \"certification\": \"PG\"}, {\"imdb_id\": \"tt0170008\", \"revenue\": 0, \"budget\": 0, \"certification\": \"NR\"}, {\"imdb_id\": \"tt0170367\", \"revenue\": 0, \"budget\": 380000, \"certification\": \"\"}, {\"imdb_id\": \"tt0171339\", \"revenue\": 0, \"budget\": 0, \"certification\": \"\"}, {\"imdb_id\": \"tt0172995\", \"revenue\": 0, \"budget\": 0, \"certification\": \"\"}, {\"imdb_id\": \"tt0173498\", \"revenue\": 0, \"budget\": 0, \"certification\": \"R\"}, {\"imdb_id\": \"tt0173840\", \"revenue\": 85131830, \"budget\": 137000000, \"certification\": \"PG-13\"}, {\"imdb_id\": \"tt0174732\", \"revenue\": 0, \"budget\": 0, \"certification\": \"\"}, {\"imdb_id\": \"tt0177885\", \"revenue\": 0, \"budget\": 3000000, \"certification\": \"\"}, {\"imdb_id\": \"tt0177997\", \"revenue\": 0, \"budget\": 0, \"certification\": \"\"}, {\"imdb_id\": \"tt0178642\", \"revenue\": 0, \"budget\": 0, \"certification\": \"R\"}, {\"imdb_id\": \"tt0179344\", \"revenue\": 0, \"budget\": 0, \"certification\": \"R\"}, {\"imdb_id\": \"tt0179435\", \"revenue\": 0, \"budget\": 0, \"certification\": \"R\"}, {\"imdb_id\": \"tt0179626\", \"revenue\": 56359980, \"budget\": 60000000, \"certification\": \"R\"}, {\"imdb_id\": \"tt0180679\", \"revenue\": 0, \"budget\": 0, \"certification\": \"PG-13\"}, {\"imdb_id\": \"tt0180734\", \"revenue\": 40222729, \"budget\": 32000000, \"certification\": \"PG-13\"}, {\"imdb_id\": \"tt0181739\", \"revenue\": 13596911, \"budget\": 75000000, \"certification\": \"PG\"}, {\"imdb_id\": \"tt0181912\", \"revenue\": 0, \"budget\": 0, \"certification\": \"\"}, {\"imdb_id\": \"tt0182000\", \"revenue\": 794481, \"budget\": 13500000, \"certification\": \"\"}, {\"imdb_id\": \"tt0182027\", \"revenue\": 0, \"budget\": 0, \"certification\": \"\"}, {\"imdb_id\": \"tt0183790\", \"revenue\": 117487473, \"budget\": 65000000, \"certification\": \"\"}, {\"imdb_id\": \"tt0184791\", \"revenue\": 16017403, \"budget\": 0, \"certification\": \"R\"}, {\"imdb_id\": \"tt0186202\", \"revenue\": 0, \"budget\": 0, \"certification\": \"PG-13\"}, {\"imdb_id\": \"tt0186589\", \"revenue\": 13276953, \"budget\": 11000000, \"certification\": \"PG-13\"}, {\"imdb_id\": \"tt0188128\", \"revenue\": 46352, \"budget\": 0, \"certification\": \"NR\"}, {\"imdb_id\": \"tt0188453\", \"revenue\": 0, \"budget\": 13000000, \"certification\": \"R\"}, {\"imdb_id\": \"tt0188575\", \"revenue\": 0, \"budget\": 0, \"certification\": \"\"}, {\"imdb_id\": \"tt0189192\", \"revenue\": 16176732, \"budget\": 35000000, \"certification\": \"PG\"}, {\"imdb_id\": \"tt0189541\", \"revenue\": 0, \"budget\": 0, \"certification\": \"\"}, {\"imdb_id\": \"tt0191177\", \"revenue\": 0, \"budget\": 0, \"certification\": \"\"}, {\"imdb_id\": \"tt0192023\", \"revenue\": 0, \"budget\": 0, \"certification\": \"R\"}, {\"imdb_id\": \"tt0192071\", \"revenue\": 19900366, \"budget\": 22000000, \"certification\": \"PG-13\"}, {\"imdb_id\": \"tt0192111\", \"revenue\": 13127022, \"budget\": 14000000, \"certification\": \"PG-13\"}, {\"imdb_id\": \"tt0193364\", \"revenue\": 0, \"budget\": 25000000, \"certification\": \"R\"}, {\"imdb_id\": \"tt0193560\", \"revenue\": 0, \"budget\": 0, \"certification\": \"\"}, {\"imdb_id\": \"tt0196068\", \"revenue\": 0, \"budget\": 0, \"certification\": \"\"}, {\"imdb_id\": \"tt0196069\", \"revenue\": 0, \"budget\": 3000000, \"certification\": \"\"}, {\"imdb_id\": \"tt0196158\", \"revenue\": 0, \"budget\": 7000000, \"certification\": \"R\"}, {\"imdb_id\": \"tt0196229\", \"revenue\": 60780981, \"budget\": 28000000, \"certification\": \"PG-13\"}, {\"imdb_id\": \"tt0197862\", \"revenue\": 0, \"budget\": 0, \"certification\": \"\"}, {\"imdb_id\": \"tt0198781\", \"revenue\": 579707738, \"budget\": 115000000, \"certification\": \"G\"}, {\"imdb_id\": \"tt0199481\", \"revenue\": 0, \"budget\": 15000000, \"certification\": \"\"}, {\"imdb_id\": \"tt0200027\", \"revenue\": 35743308, \"budget\": 48000000, \"certification\": \"PG-13\"}, {\"imdb_id\": \"tt0200954\", \"revenue\": 0, \"budget\": 0, \"certification\": \"\"}, {\"imdb_id\": \"tt0201020\", \"revenue\": 0, \"budget\": 0, \"certification\": \"PG-13\"}, {\"imdb_id\": \"tt0201394\", \"revenue\": 0, \"budget\": 6000000, \"certification\": \"R\"}, {\"imdb_id\": \"tt0201479\", \"revenue\": 0, \"budget\": 0, \"certification\": \"\"}, {\"imdb_id\": \"tt0201485\", \"revenue\": 0, \"budget\": 0, \"certification\": \"PG-13\"}, {\"imdb_id\": \"tt0202470\", \"revenue\": 19334145, \"budget\": 57000000, \"certification\": \"R\"}, {\"imdb_id\": \"tt0203009\", \"revenue\": 179213434, \"budget\": 52500000, \"certification\": \"PG-13\"}, {\"imdb_id\": \"tt0203078\", \"revenue\": 0, \"budget\": 0, \"certification\": \"\"}, {\"imdb_id\": \"tt0203289\", \"revenue\": 0, \"budget\": 250000, \"certification\": \"\"}, {\"imdb_id\": \"tt0203755\", \"revenue\": 13500000, \"budget\": 18000000, \"certification\": \"R\"}, {\"imdb_id\": \"tt0203975\", \"revenue\": 0, \"budget\": 3300000, \"certification\": \"R\"}, {\"imdb_id\": \"tt0204619\", \"revenue\": 0, \"budget\": 0, \"certification\": \"\"}, {\"imdb_id\": \"tt0204700\", \"revenue\": 9200, \"budget\": 0, \"certification\": \"NR\"}, {\"imdb_id\": \"tt0205498\", \"revenue\": 0, \"budget\": 0, \"certification\": \"\"}, {\"imdb_id\": \"tt0206113\", \"revenue\": 517262, \"budget\": 13500000, \"certification\": \"\"}, {\"imdb_id\": \"tt0206184\", \"revenue\": 0, \"budget\": 0, \"certification\": \"\"}, {\"imdb_id\": \"tt0206275\", \"revenue\": 131706809, \"budget\": 13000000, \"certification\": \"PG-13\"}, {\"imdb_id\": \"tt0206314\", \"revenue\": 36642838, \"budget\": 23000000, \"certification\": \"R\"}, {\"imdb_id\": \"tt0206367\", \"revenue\": 628387, \"budget\": 0, \"certification\": \"G\"}, {\"imdb_id\": \"tt0206762\", \"revenue\": 0, \"budget\": 0, \"certification\": \"\"}, {\"imdb_id\": \"tt0206963\", \"revenue\": 595005, \"budget\": 5250000, \"certification\": \"R\"}, {\"imdb_id\": \"tt0207198\", \"revenue\": 0, \"budget\": 0, \"certification\": \"\"}, {\"imdb_id\": \"tt0207585\", \"revenue\": 0, \"budget\": 0, \"certification\": \"PG\"}, {\"imdb_id\": \"tt0207988\", \"revenue\": 0, \"budget\": 0, \"certification\": \"\"}, {\"imdb_id\": \"tt0208899\", \"revenue\": 0, \"budget\": 0, \"certification\": \"PG-13\"}, {\"imdb_id\": \"tt0208990\", \"revenue\": 0, \"budget\": 0, \"certification\": \"R\"}, {\"imdb_id\": \"tt0209020\", \"revenue\": 0, \"budget\": 0, \"certification\": \"\"}, {\"imdb_id\": \"tt0209163\", \"revenue\": 443280904, \"budget\": 98000000, \"certification\": \"PG-13\"}, {\"imdb_id\": \"tt0209253\", \"revenue\": 0, \"budget\": 0, \"certification\": \"\"}, {\"imdb_id\": \"tt0209475\", \"revenue\": 94728529, \"budget\": 35000000, \"certification\": \"PG-13\"}, {\"imdb_id\": \"tt0209486\", \"revenue\": 0, \"budget\": 0, \"certification\": \"\"}, {\"imdb_id\": \"tt0210094\", \"revenue\": 0, \"budget\": 15000000, \"certification\": \"\"}, {\"imdb_id\": \"tt0211443\", \"revenue\": 16951798, \"budget\": 11000000, \"certification\": \"R\"}, {\"imdb_id\": \"tt0211465\", \"revenue\": 12000000, \"budget\": 15000000, \"certification\": \"R\"}, {\"imdb_id\": \"tt0211915\", \"revenue\": 173921954, \"budget\": 10000000, \"certification\": \"R\"}, {\"imdb_id\": \"tt0212271\", \"revenue\": 0, \"budget\": 0, \"certification\": \"R\"}, {\"imdb_id\": \"tt0212292\", \"revenue\": 0, \"budget\": 0, \"certification\": \"\"}, {\"imdb_id\": \"tt0212294\", \"revenue\": 0, \"budget\": 0, \"certification\": \"\"}, {\"imdb_id\": \"tt0212380\", \"revenue\": 637769, \"budget\": 0, \"certification\": \"R\"}, {\"imdb_id\": \"tt0212720\", \"revenue\": 235926552, \"budget\": 100000000, \"certification\": \"PG-13\"}, {\"imdb_id\": \"tt0212827\", \"revenue\": 0, \"budget\": 0, \"certification\": \"\"}, {\"imdb_id\": \"tt0212867\", \"revenue\": 0, \"budget\": 0, \"certification\": \"\"}, {\"imdb_id\": \"tt0212910\", \"revenue\": 0, \"budget\": 0, \"certification\": \"PG\"}, {\"imdb_id\": \"tt0212985\", \"revenue\": 351692268, \"budget\": 87000000, \"certification\": \"R\"}, {\"imdb_id\": \"tt0213113\", \"revenue\": 0, \"budget\": 0, \"certification\": \"\"}, {\"imdb_id\": \"tt0213149\", \"revenue\": 449220945, \"budget\": 140000000, \"certification\": \"PG-13\"}, {\"imdb_id\": \"tt0213205\", \"revenue\": 0, \"budget\": 0, \"certification\": \"\"}, {\"imdb_id\": \"tt0213642\", \"revenue\": 0, \"budget\": 2000000, \"certification\": \"\"}, {\"imdb_id\": \"tt0213802\", \"revenue\": 0, \"budget\": 0, \"certification\": \"R\"}, {\"imdb_id\": \"tt0214032\", \"revenue\": 0, \"budget\": 0, \"certification\": \"\"}, {\"imdb_id\": \"tt0214106\", \"revenue\": 0, \"budget\": 0, \"certification\": \"R\"}, {\"imdb_id\": \"tt0214619\", \"revenue\": 0, \"budget\": 0, \"certification\": \"R\"}, {\"imdb_id\": \"tt0214723\", \"revenue\": 0, \"budget\": 0, \"certification\": \"\"}, {\"imdb_id\": \"tt0215135\", \"revenue\": 0, \"budget\": 2300000, \"certification\": \"R\"}, {\"imdb_id\": \"tt0215516\", \"revenue\": 0, \"budget\": 0, \"certification\": \"R\"}, {\"imdb_id\": \"tt0215727\", \"revenue\": 0, \"budget\": 0, \"certification\": \"\"}, {\"imdb_id\": \"tt0215750\", \"revenue\": 96976270, \"budget\": 68000000, \"certification\": \"R\"}, {\"imdb_id\": \"tt0216196\", \"revenue\": 0, \"budget\": 0, \"certification\": \"R\"}, {\"imdb_id\": \"tt0216982\", \"revenue\": 0, \"budget\": 0, \"certification\": \"\"}, {\"imdb_id\": \"tt0217686\", \"revenue\": 0, \"budget\": 0, \"certification\": \"\"}, {\"imdb_id\": \"tt0217978\", \"revenue\": 0, \"budget\": 0, \"certification\": \"R\"}, {\"imdb_id\": \"tt0217979\", \"revenue\": 0, \"budget\": 0, \"certification\": \"R\"}, {\"imdb_id\": \"tt0218032\", \"revenue\": 0, \"budget\": 0, \"certification\": \"PG\"}, {\"imdb_id\": \"tt0218053\", \"revenue\": 0, \"budget\": 0, \"certification\": \"R\"}, {\"imdb_id\": \"tt0218107\", \"revenue\": 0, \"budget\": 0, \"certification\": \"NR\"}, {\"imdb_id\": \"tt0218323\", \"revenue\": 0, \"budget\": 0, \"certification\": \"\"}, {\"imdb_id\": \"tt0218619\", \"revenue\": 4299141, \"budget\": 17000000, \"certification\": \"PG-13\"}, {\"imdb_id\": \"tt0218727\", \"revenue\": 0, \"budget\": 0, \"certification\": \"R\"}, {\"imdb_id\": \"tt0218817\", \"revenue\": 18195610, \"budget\": 30000000, \"certification\": \"PG-13\"}, {\"imdb_id\": \"tt0218922\", \"revenue\": 35402320, \"budget\": 42000000, \"certification\": \"R\"}, {\"imdb_id\": \"tt0218978\", \"revenue\": 0, \"budget\": 0, \"certification\": \"R\"}, {\"imdb_id\": \"tt0219336\", \"revenue\": 0, \"budget\": 0, \"certification\": \"\"}, {\"imdb_id\": \"tt0219408\", \"revenue\": 0, \"budget\": 0, \"certification\": \"PG-13\"}, {\"imdb_id\": \"tt0219687\", \"revenue\": 86000, \"budget\": 0, \"certification\": \"PG-13\"}, {\"imdb_id\": \"tt0219822\", \"revenue\": 1600000, \"budget\": 6000000, \"certification\": \"R\"}, {\"imdb_id\": \"tt0219957\", \"revenue\": 0, \"budget\": 0, \"certification\": \"R\"}, {\"imdb_id\": \"tt0219965\", \"revenue\": 67631903, \"budget\": 75000000, \"certification\": \"PG-13\"}, {\"imdb_id\": \"tt0220005\", \"revenue\": 0, \"budget\": 0, \"certification\": \"NR\"}, {\"imdb_id\": \"tt0220034\", \"revenue\": 0, \"budget\": 0, \"certification\": \"\"}, {\"imdb_id\": \"tt0220122\", \"revenue\": 0, \"budget\": 0, \"certification\": \"NR\"}, {\"imdb_id\": \"tt0220331\", \"revenue\": 0, \"budget\": 0, \"certification\": \"\"}, {\"imdb_id\": \"tt0220580\", \"revenue\": 1864185, \"budget\": 0, \"certification\": \"R\"}, {\"imdb_id\": \"tt0220827\", \"revenue\": 0, \"budget\": 4000000, \"certification\": \"R\"}, {\"imdb_id\": \"tt0220864\", \"revenue\": 0, \"budget\": 0, \"certification\": \"\"}, {\"imdb_id\": \"tt0221027\", \"revenue\": 83282296, \"budget\": 53000000, \"certification\": \"\"}, {\"imdb_id\": \"tt0221074\", \"revenue\": 0, \"budget\": 3000000, \"certification\": \"PG\"}, {\"imdb_id\": \"tt0221218\", \"revenue\": 23619609, \"budget\": 30000000, \"certification\": \"PG-13\"}, {\"imdb_id\": \"tt0221297\", \"revenue\": 0, \"budget\": 0, \"certification\": \"\"}, {\"imdb_id\": \"tt0221559\", \"revenue\": 0, \"budget\": 7000000, \"certification\": \"R\"}, {\"imdb_id\": \"tt0221799\", \"revenue\": 850225, \"budget\": 0, \"certification\": \"PG-13\"}, {\"imdb_id\": \"tt0222705\", \"revenue\": 0, \"budget\": 0, \"certification\": \"\"}, {\"imdb_id\": \"tt0223284\", \"revenue\": 0, \"budget\": 0, \"certification\": \"R\"}, {\"imdb_id\": \"tt0224084\", \"revenue\": 0, \"budget\": 0, \"certification\": \"\"}, {\"imdb_id\": \"tt0224626\", \"revenue\": 0, \"budget\": 0, \"certification\": \"R\"}, {\"imdb_id\": \"tt0225071\", \"revenue\": 29700000, \"budget\": 53000000, \"certification\": \"R\"}, {\"imdb_id\": \"tt0225828\", \"revenue\": 0, \"budget\": 0, \"certification\": \"R\"}, {\"imdb_id\": \"tt0226935\", \"revenue\": 0, \"budget\": 0, \"certification\": \"R\"}, {\"imdb_id\": \"tt0227005\", \"revenue\": 5476060, \"budget\": 5000000, \"certification\": \"R\"}, {\"imdb_id\": \"tt0227445\", \"revenue\": 113579918, \"budget\": 68000000, \"certification\": \"R\"}, {\"imdb_id\": \"tt0227538\", \"revenue\": 147934180, \"budget\": 35000000, \"certification\": \"PG\"}, {\"imdb_id\": \"tt0227984\", \"revenue\": 12881605, \"budget\": 27000000, \"certification\": \"R\"}, {\"imdb_id\": \"tt0228333\", \"revenue\": 14010832, \"budget\": 28000000, \"certification\": \"R\"}, {\"imdb_id\": \"tt0228488\", \"revenue\": 0, \"budget\": 0, \"certification\": \"\"}, {\"imdb_id\": \"tt0228690\", \"revenue\": 0, \"budget\": 0, \"certification\": \"\"}, {\"imdb_id\": \"tt0228878\", \"revenue\": 0, \"budget\": 0, \"certification\": \"R\"}, {\"imdb_id\": \"tt0228977\", \"revenue\": 0, \"budget\": 0, \"certification\": \"R\"}, {\"imdb_id\": \"tt0229002\", \"revenue\": 0, \"budget\": 0, \"certification\": \"\"}, {\"imdb_id\": \"tt0229003\", \"revenue\": 0, \"budget\": 0, \"certification\": \"\"}, {\"imdb_id\": \"tt0229021\", \"revenue\": 0, \"budget\": 0, \"certification\": \"\"}, {\"imdb_id\": \"tt0229211\", \"revenue\": 0, \"budget\": 0, \"certification\": \"\"}, {\"imdb_id\": \"tt0230011\", \"revenue\": 186053725, \"budget\": 120000000, \"certification\": \"PG\"}, {\"imdb_id\": \"tt0230025\", \"revenue\": 0, \"budget\": 0, \"certification\": \"R\"}, {\"imdb_id\": \"tt0230600\", \"revenue\": 209947037, \"budget\": 17000000, \"certification\": \"PG-13\"}, {\"imdb_id\": \"tt0230838\", \"revenue\": 65754228, \"budget\": 40000000, \"certification\": \"PG-13\"}, {\"imdb_id\": \"tt0231402\", \"revenue\": 39438674, \"budget\": 21150000, \"certification\": \"PG\"}, {\"imdb_id\": \"tt0231775\", \"revenue\": 71186502, \"budget\": 30000000, \"certification\": \"PG-13\"}, {\"imdb_id\": \"tt0232098\", \"revenue\": 0, \"budget\": 0, \"certification\": \"\"}, {\"imdb_id\": \"tt0232231\", \"revenue\": 0, \"budget\": 0, \"certification\": \"\"}, {\"imdb_id\": \"tt0232500\", \"revenue\": 207283925, \"budget\": 38000000, \"certification\": \"PG-13\"}, {\"imdb_id\": \"tt0233142\", \"revenue\": 18720175, \"budget\": 62000000, \"certification\": \"R\"}, {\"imdb_id\": \"tt0233481\", \"revenue\": 0, \"budget\": 0, \"certification\": \"R\"}, {\"imdb_id\": \"tt0233841\", \"revenue\": 0, \"budget\": 0, \"certification\": \"PG\"}, {\"imdb_id\": \"tt0234354\", \"revenue\": 2025238, \"budget\": 6000000, \"certification\": \"R\"}, {\"imdb_id\": \"tt0234829\", \"revenue\": 19693891, \"budget\": 34000000, \"certification\": \"PG-13\"}, {\"imdb_id\": \"tt0235412\", \"revenue\": 0, \"budget\": 0, \"certification\": \"\"}, {\"imdb_id\": \"tt0235606\", \"revenue\": 0, \"budget\": 0, \"certification\": \"\"}, {\"imdb_id\": \"tt0236026\", \"revenue\": 0, \"budget\": 0, \"certification\": \"\"}, {\"imdb_id\": \"tt0236126\", \"revenue\": 0, \"budget\": 0, \"certification\": \"R\"}, {\"imdb_id\": \"tt0236157\", \"revenue\": 0, \"budget\": 0, \"certification\": \"R\"}, {\"imdb_id\": \"tt0236348\", \"revenue\": 0, \"budget\": 22000000, \"certification\": \"PG-13\"}, {\"imdb_id\": \"tt0236474\", \"revenue\": 0, \"budget\": 0, \"certification\": \"\"}, {\"imdb_id\": \"tt0236493\", \"revenue\": 147845033, \"budget\": 57000000, \"certification\": \"R\"}, {\"imdb_id\": \"tt0236551\", \"revenue\": 0, \"budget\": 0, \"certification\": \"\"}, {\"imdb_id\": \"tt0236600\", \"revenue\": 0, \"budget\": 0, \"certification\": \"\"}, {\"imdb_id\": \"tt0236640\", \"revenue\": 0, \"budget\": 0, \"certification\": \"R\"}, {\"imdb_id\": \"tt0236784\", \"revenue\": 28008462, \"budget\": 21000000, \"certification\": \"R\"}, {\"imdb_id\": \"tt0237295\", \"revenue\": 0, \"budget\": 5000, \"certification\": \"\"}, {\"imdb_id\": \"tt0237320\", \"revenue\": 0, \"budget\": 10000, \"certification\": \"\"}, {\"imdb_id\": \"tt0237534\", \"revenue\": 70752904, \"budget\": 29000000, \"certification\": \"\"}, {\"imdb_id\": \"tt0237572\", \"revenue\": 29419291, \"budget\": 35000000, \"certification\": \"R\"}, {\"imdb_id\": \"tt0238112\", \"revenue\": 62112895, \"budget\": 57000000, \"certification\": \"R\"}, {\"imdb_id\": \"tt0238137\", \"revenue\": 0, \"budget\": 0, \"certification\": \"R\"}, {\"imdb_id\": \"tt0238552\", \"revenue\": 894844, \"budget\": 17000000, \"certification\": \"R\"}, {\"imdb_id\": \"tt0238948\", \"revenue\": 31600000, \"budget\": 24000000, \"certification\": \"PG-13\"}, {\"imdb_id\": \"tt0239224\", \"revenue\": 0, \"budget\": 0, \"certification\": \"\"}, {\"imdb_id\": \"tt0239234\", \"revenue\": 0, \"budget\": 0, \"certification\": \"\"}, {\"imdb_id\": \"tt0239238\", \"revenue\": 0, \"budget\": 0, \"certification\": \"\"}, {\"imdb_id\": \"tt0239395\", \"revenue\": 93375151, \"budget\": 60000000, \"certification\": \"PG\"}, {\"imdb_id\": \"tt0239467\", \"revenue\": 0, \"budget\": 0, \"certification\": \"\"}, {\"imdb_id\": \"tt0239509\", \"revenue\": 0, \"budget\": 0, \"certification\": \"\"}, {\"imdb_id\": \"tt0239570\", \"revenue\": 0, \"budget\": 0, \"certification\": \"\"}, {\"imdb_id\": \"tt0239670\", \"revenue\": 0, \"budget\": 0, \"certification\": \"\"}, {\"imdb_id\": \"tt0239948\", \"revenue\": 19351569, \"budget\": 22000000, \"certification\": \"PG-13\"}, {\"imdb_id\": \"tt0239949\", \"revenue\": 12320393, \"budget\": 25000000, \"certification\": \"R\"}, {\"imdb_id\": \"tt0239986\", \"revenue\": 2402459, \"budget\": 1000000, \"certification\": \"R\"}, {\"imdb_id\": \"tt0240122\", \"revenue\": 0, \"budget\": 0, \"certification\": \"PG-13\"}, {\"imdb_id\": \"tt0240149\", \"revenue\": 0, \"budget\": 0, \"certification\": \"\"}, {\"imdb_id\": \"tt0240389\", \"revenue\": 0, \"budget\": 0, \"certification\": \"\"}, {\"imdb_id\": \"tt0240402\", \"revenue\": 0, \"budget\": 0, \"certification\": \"\"}, {\"imdb_id\": \"tt0240419\", \"revenue\": 0, \"budget\": 0, \"certification\": \"R\"}, {\"imdb_id\": \"tt0240462\", \"revenue\": 176104344, \"budget\": 70000000, \"certification\": \"PG\"}, {\"imdb_id\": \"tt0240515\", \"revenue\": 14343028, \"budget\": 14000000, \"certification\": \"R\"}, {\"imdb_id\": \"tt0240772\", \"revenue\": 450717150, \"budget\": 85000000, \"certification\": \"PG-13\"}, {\"imdb_id\": \"tt0240890\", \"revenue\": 77516304, \"budget\": 28000000, \"certification\": \"PG-13\"}, {\"imdb_id\": \"tt0241223\", \"revenue\": 0, \"budget\": 0, \"certification\": \"NR\"}, {\"imdb_id\": \"tt0241254\", \"revenue\": 0, \"budget\": 0, \"certification\": \"\"}, {\"imdb_id\": \"tt0241355\", \"revenue\": 0, \"budget\": 0, \"certification\": \"\"}, {\"imdb_id\": \"tt0241498\", \"revenue\": 0, \"budget\": 0, \"certification\": \"\"}, {\"imdb_id\": \"tt0241527\", \"revenue\": 976475550, \"budget\": 125000000, \"certification\": \"PG\"}, {\"imdb_id\": \"tt0242150\", \"revenue\": 5000000, \"budget\": 100000, \"certification\": \"R\"}, {\"imdb_id\": \"tt0242193\", \"revenue\": 480811, \"budget\": 0, \"certification\": \"R\"}, {\"imdb_id\": \"tt0242252\", \"revenue\": 1198113, \"budget\": 30000000, \"certification\": \"R\"}, {\"imdb_id\": \"tt0242445\", \"revenue\": 79958599, \"budget\": 50000000, \"certification\": \"R\"}, {\"imdb_id\": \"tt0242508\", \"revenue\": 0, \"budget\": 0, \"certification\": \"R\"}, {\"imdb_id\": \"tt0242527\", \"revenue\": 7819851, \"budget\": 0, \"certification\": \"R\"}, {\"imdb_id\": \"tt0242587\", \"revenue\": 1667192, \"budget\": 700000, \"certification\": \"\"}, {\"imdb_id\": \"tt0242592\", \"revenue\": 0, \"budget\": 0, \"certification\": \"\"}, {\"imdb_id\": \"tt0242746\", \"revenue\": 0, \"budget\": 0, \"certification\": \"\"}, {\"imdb_id\": \"tt0242994\", \"revenue\": 0, \"budget\": 0, \"certification\": \"\"}, {\"imdb_id\": \"tt0242998\", \"revenue\": 16300000, \"budget\": 10000000, \"certification\": \"R\"}, {\"imdb_id\": \"tt0243017\", \"revenue\": 3176880, \"budget\": 0, \"certification\": \"\"}, {\"imdb_id\": \"tt0243133\", \"revenue\": 0, \"budget\": 20000000, \"certification\": \"R\"}, {\"imdb_id\": \"tt0243155\", \"revenue\": 281929795, \"budget\": 25000000, \"certification\": \"R\"}, {\"imdb_id\": \"tt0243222\", \"revenue\": 0, \"budget\": 0, \"certification\": \"\"}, {\"imdb_id\": \"tt0243232\", \"revenue\": 0, \"budget\": 0, \"certification\": \"R\"}, {\"imdb_id\": \"tt0243255\", \"revenue\": 0, \"budget\": 0, \"certification\": \"\"}, {\"imdb_id\": \"tt0243278\", \"revenue\": 0, \"budget\": 0, \"certification\": \"\"}, {\"imdb_id\": \"tt0243493\", \"revenue\": 0, \"budget\": 0, \"certification\": \"\"}, {\"imdb_id\": \"tt0243508\", \"revenue\": 0, \"budget\": 0, \"certification\": \"NR\"}, {\"imdb_id\": \"tt0243554\", \"revenue\": 0, \"budget\": 2000000, \"certification\": \"R\"}, {\"imdb_id\": \"tt0243575\", \"revenue\": 0, \"budget\": 0, \"certification\": \"\"}, {\"imdb_id\": \"tt0243595\", \"revenue\": 0, \"budget\": 0, \"certification\": \"R\"}, {\"imdb_id\": \"tt0243609\", \"revenue\": 0, \"budget\": 14000000, \"certification\": \"R\"}, {\"imdb_id\": \"tt0243655\", \"revenue\": 295206, \"budget\": 5000000, \"certification\": \"R\"}, {\"imdb_id\": \"tt0243759\", \"revenue\": 0, \"budget\": 0, \"certification\": \"\"}, {\"imdb_id\": \"tt0243885\", \"revenue\": 0, \"budget\": 0, \"certification\": \"R\"}, {\"imdb_id\": \"tt0243892\", \"revenue\": 0, \"budget\": 0, \"certification\": \"PG-13\"}, {\"imdb_id\": \"tt0243907\", \"revenue\": 0, \"budget\": 0, \"certification\": \"\"}, {\"imdb_id\": \"tt0243931\", \"revenue\": 0, \"budget\": 0, \"certification\": \"R\"}, {\"imdb_id\": \"tt0243991\", \"revenue\": 0, \"budget\": 8000000, \"certification\": \"R\"}, {\"imdb_id\": \"tt0244000\", \"revenue\": 13678913, \"budget\": 35000000, \"certification\": \"PG-13\"}, {\"imdb_id\": \"tt0244094\", \"revenue\": 0, \"budget\": 0, \"certification\": \"\"}, {\"imdb_id\": \"tt0244244\", \"revenue\": 147080413, \"budget\": 102000000, \"certification\": \"R\"}, {\"imdb_id\": \"tt0244452\", \"revenue\": 0, \"budget\": 0, \"certification\": \"\"}, {\"imdb_id\": \"tt0244471\", \"revenue\": 0, \"budget\": 0, \"certification\": \"\"}, {\"imdb_id\": \"tt0244479\", \"revenue\": 0, \"budget\": 5000000, \"certification\": \"R\"}, {\"imdb_id\": \"tt0244709\", \"revenue\": 0, \"budget\": 5000000, \"certification\": \"\"}, {\"imdb_id\": \"tt0244941\", \"revenue\": 0, \"budget\": 0, \"certification\": \"PG-13\"}, {\"imdb_id\": \"tt0244970\", \"revenue\": 38689940, \"budget\": 23000000, \"certification\": \"PG-13\"}, {\"imdb_id\": \"tt0245046\", \"revenue\": 741394, \"budget\": 0, \"certification\": \"PG-13\"}, {\"imdb_id\": \"tt0245095\", \"revenue\": 0, \"budget\": 0, \"certification\": \"R\"}, {\"imdb_id\": \"tt0245115\", \"revenue\": 0, \"budget\": 0, \"certification\": \"R\"}, {\"imdb_id\": \"tt0245120\", \"revenue\": 0, \"budget\": 5000000, \"certification\": \"R\"}, {\"imdb_id\": \"tt0245157\", \"revenue\": 0, \"budget\": 0, \"certification\": \"\"}, {\"imdb_id\": \"tt0245171\", \"revenue\": 0, \"budget\": 0, \"certification\": \"\"}, {\"imdb_id\": \"tt0245238\", \"revenue\": 0, \"budget\": 0, \"certification\": \"R\"}, {\"imdb_id\": \"tt0245317\", \"revenue\": 0, \"budget\": 0, \"certification\": \"R\"}, {\"imdb_id\": \"tt0245356\", \"revenue\": 0, \"budget\": 0, \"certification\": \"R\"}, {\"imdb_id\": \"tt0245407\", \"revenue\": 0, \"budget\": 0, \"certification\": \"\"}, {\"imdb_id\": \"tt0245429\", \"revenue\": 274925095, \"budget\": 19000000, \"certification\": \"\"}, {\"imdb_id\": \"tt0245501\", \"revenue\": 0, \"budget\": 0, \"certification\": \"\"}, {\"imdb_id\": \"tt0245574\", \"revenue\": 33616692, \"budget\": 5000000, \"certification\": \"\"}, {\"imdb_id\": \"tt0245634\", \"revenue\": 0, \"budget\": 0, \"certification\": \"\"}, {\"imdb_id\": \"tt0245674\", \"revenue\": 68467960, \"budget\": 42000000, \"certification\": \"R\"}, {\"imdb_id\": \"tt0245686\", \"revenue\": 30987695, \"budget\": 17700000, \"certification\": \"PG-13\"}, {\"imdb_id\": \"tt0245799\", \"revenue\": 0, \"budget\": 0, \"certification\": \"\"}, {\"imdb_id\": \"tt0245866\", \"revenue\": 0, \"budget\": 0, \"certification\": \"\"}, {\"imdb_id\": \"tt0245891\", \"revenue\": 1, \"budget\": 0, \"certification\": \"PG\"}, {\"imdb_id\": \"tt0245904\", \"revenue\": 0, \"budget\": 0, \"certification\": \"\"}, {\"imdb_id\": \"tt0245905\", \"revenue\": 0, \"budget\": 0, \"certification\": \"\"}, {\"imdb_id\": \"tt0246002\", \"revenue\": 0, \"budget\": 0, \"certification\": \"PG\"}, {\"imdb_id\": \"tt0246037\", \"revenue\": 0, \"budget\": 0, \"certification\": \"R\"}, {\"imdb_id\": \"tt0246108\", \"revenue\": 0, \"budget\": 0, \"certification\": \"\"}, {\"imdb_id\": \"tt0246197\", \"revenue\": 0, \"budget\": 0, \"certification\": \"\"}, {\"imdb_id\": \"tt0246228\", \"revenue\": 0, \"budget\": 0, \"certification\": \"R\"}, {\"imdb_id\": \"tt0246278\", \"revenue\": 0, \"budget\": 0, \"certification\": \"\"}, {\"imdb_id\": \"tt0246500\", \"revenue\": 252706, \"budget\": 9000000, \"certification\": \"R\"}, {\"imdb_id\": \"tt0246514\", \"revenue\": 0, \"budget\": 0, \"certification\": \"\"}, {\"imdb_id\": \"tt0246544\", \"revenue\": 27053815, \"budget\": 40000000, \"certification\": \"PG-13\"}, {\"imdb_id\": \"tt0246578\", \"revenue\": 7500000, \"budget\": 6000000, \"certification\": \"R\"}, {\"imdb_id\": \"tt0246628\", \"revenue\": 0, \"budget\": 0, \"certification\": \"\"}, {\"imdb_id\": \"tt0246730\", \"revenue\": 0, \"budget\": 0, \"certification\": \"\"}, {\"imdb_id\": \"tt0246772\", \"revenue\": 4160475, \"budget\": 0, \"certification\": \"\"}, {\"imdb_id\": \"tt0246965\", \"revenue\": 0, \"budget\": 0, \"certification\": \"PG-13\"}, {\"imdb_id\": \"tt0246989\", \"revenue\": 23430766, \"budget\": 11000000, \"certification\": \"R\"}, {\"imdb_id\": \"tt0247133\", \"revenue\": 0, \"budget\": 0, \"certification\": \"\"}, {\"imdb_id\": \"tt0247199\", \"revenue\": 1309316, \"budget\": 1500000, \"certification\": \"R\"}, {\"imdb_id\": \"tt0247303\", \"revenue\": 163169, \"budget\": 15000000, \"certification\": \"R\"}, {\"imdb_id\": \"tt0247419\", \"revenue\": 0, \"budget\": 0, \"certification\": \"\"}, {\"imdb_id\": \"tt0247425\", \"revenue\": 44763181, \"budget\": 1700000, \"certification\": \"\"}, {\"imdb_id\": \"tt0247427\", \"revenue\": 0, \"budget\": 0, \"certification\": \"\"}, {\"imdb_id\": \"tt0247512\", \"revenue\": 0, \"budget\": 0, \"certification\": \"R\"}, {\"imdb_id\": \"tt0247638\", \"revenue\": 165335153, \"budget\": 37000000, \"certification\": \"G\"}, {\"imdb_id\": \"tt0247745\", \"revenue\": 18492362, \"budget\": 1200000, \"certification\": \"\"}, {\"imdb_id\": \"tt0247823\", \"revenue\": 0, \"budget\": 0, \"certification\": \"\"}, {\"imdb_id\": \"tt0248123\", \"revenue\": 0, \"budget\": 0, \"certification\": \"\"}, {\"imdb_id\": \"tt0248126\", \"revenue\": 0, \"budget\": 0, \"certification\": \"\"}, {\"imdb_id\": \"tt0248190\", \"revenue\": 0, \"budget\": 0, \"certification\": \"\"}, {\"imdb_id\": \"tt0248661\", \"revenue\": 0, \"budget\": 0, \"certification\": \"NR\"}, {\"imdb_id\": \"tt0248667\", \"revenue\": 87713825, \"budget\": 107000000, \"certification\": \"R\"}, {\"imdb_id\": \"tt0248742\", \"revenue\": 0, \"budget\": 0, \"certification\": \"R\"}, {\"imdb_id\": \"tt0248845\", \"revenue\": 0, \"budget\": 0, \"certification\": \"\"}, {\"imdb_id\": \"tt0248966\", \"revenue\": 0, \"budget\": 0, \"certification\": \"\"}, {\"imdb_id\": \"tt0249082\", \"revenue\": 0, \"budget\": 0, \"certification\": \"\"}, {\"imdb_id\": \"tt0249371\", \"revenue\": 19000000, \"budget\": 17000000, \"certification\": \"R\"}, {\"imdb_id\": \"tt0249478\", \"revenue\": 54249294, \"budget\": 75000000, \"certification\": \"PG-13\"}, {\"imdb_id\": \"tt0249511\", \"revenue\": 0, \"budget\": 3000000, \"certification\": \"\"}, {\"imdb_id\": \"tt0250081\", \"revenue\": 0, \"budget\": 0, \"certification\": \"R\"}, {\"imdb_id\": \"tt0250125\", \"revenue\": 0, \"budget\": 0, \"certification\": \"\"}, {\"imdb_id\": \"tt0250202\", \"revenue\": 1051948, \"budget\": 0, \"certification\": \"R\"}, {\"imdb_id\": \"tt0250214\", \"revenue\": 0, \"budget\": 0, \"certification\": \"\"}, {\"imdb_id\": \"tt0250224\", \"revenue\": 16929123, \"budget\": 13000000, \"certification\": \"PG-13\"}, {\"imdb_id\": \"tt0250258\", \"revenue\": 13782896, \"budget\": 0, \"certification\": \"\"}, {\"imdb_id\": \"tt0250274\", \"revenue\": 0, \"budget\": 0, \"certification\": \"R\"}, {\"imdb_id\": \"tt0250282\", \"revenue\": 28149, \"budget\": 0, \"certification\": \"R\"}, {\"imdb_id\": \"tt0250310\", \"revenue\": 23978402, \"budget\": 11000000, \"certification\": \"PG-13\"}, {\"imdb_id\": \"tt0250323\", \"revenue\": 10031529, \"budget\": 3000000, \"certification\": \"R\"}, {\"imdb_id\": \"tt0250347\", \"revenue\": 0, \"budget\": 0, \"certification\": \"\"}, {\"imdb_id\": \"tt0250371\", \"revenue\": 4720371, \"budget\": 7000000, \"certification\": \"PG\"}, {\"imdb_id\": \"tt0250485\", \"revenue\": 0, \"budget\": 0, \"certification\": \"\"}, {\"imdb_id\": \"tt0250494\", \"revenue\": 141774679, \"budget\": 18000000, \"certification\": \"PG-13\"}, {\"imdb_id\": \"tt0250613\", \"revenue\": 0, \"budget\": 0, \"certification\": \"R\"}, {\"imdb_id\": \"tt0250617\", \"revenue\": 0, \"budget\": 0, \"certification\": \"R\"}, {\"imdb_id\": \"tt0250625\", \"revenue\": 0, \"budget\": 0, \"certification\": \"\"}, {\"imdb_id\": \"tt0250636\", \"revenue\": 0, \"budget\": 0, \"certification\": \"\"}, {\"imdb_id\": \"tt0250687\", \"revenue\": 85498534, \"budget\": 48000000, \"certification\": \"PG-13\"}, {\"imdb_id\": \"tt0250716\", \"revenue\": 0, \"budget\": 0, \"certification\": \"\"}, {\"imdb_id\": \"tt0250720\", \"revenue\": 0, \"budget\": 0, \"certification\": \"\"}, {\"imdb_id\": \"tt0251031\", \"revenue\": 0, \"budget\": 0, \"certification\": \"\"}, {\"imdb_id\": \"tt0251052\", \"revenue\": 0, \"budget\": 0, \"certification\": \"\"}, {\"imdb_id\": \"tt0251054\", \"revenue\": 0, \"budget\": 0, \"certification\": \"\"}, {\"imdb_id\": \"tt0251057\", \"revenue\": 0, \"budget\": 0, \"certification\": \"R\"}, {\"imdb_id\": \"tt0251075\", \"revenue\": 98376292, \"budget\": 80000000, \"certification\": \"PG-13\"}, {\"imdb_id\": \"tt0251110\", \"revenue\": 0, \"budget\": 0, \"certification\": \"R\"}, {\"imdb_id\": \"tt0251174\", \"revenue\": 0, \"budget\": 0, \"certification\": \"\"}, {\"imdb_id\": \"tt0251193\", \"revenue\": 0, \"budget\": 0, \"certification\": \"\"}, {\"imdb_id\": \"tt0251294\", \"revenue\": 0, \"budget\": 0, \"certification\": \"\"}, {\"imdb_id\": \"tt0251369\", \"revenue\": 0, \"budget\": 0, \"certification\": \"\"}, {\"imdb_id\": \"tt0251370\", \"revenue\": 0, \"budget\": 0, \"certification\": \"\"}, {\"imdb_id\": \"tt0251415\", \"revenue\": 0, \"budget\": 0, \"certification\": \"R\"}, {\"imdb_id\": \"tt0251661\", \"revenue\": 0, \"budget\": 0, \"certification\": \"\"}, {\"imdb_id\": \"tt0251696\", \"revenue\": 0, \"budget\": 0, \"certification\": \"\"}, {\"imdb_id\": \"tt0252223\", \"revenue\": 23000, \"budget\": 15000000, \"certification\": \"PG-13\"}, {\"imdb_id\": \"tt0252225\", \"revenue\": 0, \"budget\": 0, \"certification\": \"\"}, {\"imdb_id\": \"tt0252253\", \"revenue\": 0, \"budget\": 2, \"certification\": \"\"}, {\"imdb_id\": \"tt0252299\", \"revenue\": 0, \"budget\": 15000000, \"certification\": \"\"}, {\"imdb_id\": \"tt0252480\", \"revenue\": 0, \"budget\": 0, \"certification\": \"\"}, {\"imdb_id\": \"tt0252501\", \"revenue\": 24185781, \"budget\": 31000000, \"certification\": \"PG-13\"}, {\"imdb_id\": \"tt0252503\", \"revenue\": 28500000, \"budget\": 35000000, \"certification\": \"\"}, {\"imdb_id\": \"tt0252684\", \"revenue\": 0, \"budget\": 0, \"certification\": \"\"}, {\"imdb_id\": \"tt0252866\", \"revenue\": 287553595, \"budget\": 30000000, \"certification\": \"R\"}, {\"imdb_id\": \"tt0252963\", \"revenue\": 0, \"budget\": 0, \"certification\": \"\"}, {\"imdb_id\": \"tt0253114\", \"revenue\": 0, \"budget\": 250000, \"certification\": \"R\"}, {\"imdb_id\": \"tt0253126\", \"revenue\": 0, \"budget\": 0, \"certification\": \"R\"}, {\"imdb_id\": \"tt0253200\", \"revenue\": 0, \"budget\": 0, \"certification\": \"PG-13\"}, {\"imdb_id\": \"tt0253314\", \"revenue\": 0, \"budget\": 0, \"certification\": \"\"}, {\"imdb_id\": \"tt0253487\", \"revenue\": 0, \"budget\": 0, \"certification\": \"\"}, {\"imdb_id\": \"tt0253586\", \"revenue\": 0, \"budget\": 0, \"certification\": \"\"}, {\"imdb_id\": \"tt0253798\", \"revenue\": 14782676, \"budget\": 24000000, \"certification\": \"PG-13\"}, {\"imdb_id\": \"tt0253840\", \"revenue\": 0, \"budget\": 0, \"certification\": \"PG-13\"}, {\"imdb_id\": \"tt0254099\", \"revenue\": 0, \"budget\": 0, \"certification\": \"R\"}, {\"imdb_id\": \"tt0254199\", \"revenue\": 0, \"budget\": 0, \"certification\": \"R\"}, {\"imdb_id\": \"tt0254252\", \"revenue\": 0, \"budget\": 0, \"certification\": \"\"}, {\"imdb_id\": \"tt0254334\", \"revenue\": 0, \"budget\": 0, \"certification\": \"R\"}, {\"imdb_id\": \"tt0254455\", \"revenue\": 7640680, \"budget\": 0, \"certification\": \"R\"}, {\"imdb_id\": \"tt0254617\", \"revenue\": 0, \"budget\": 0, \"certification\": \"PG-13\"}, {\"imdb_id\": \"tt0254626\", \"revenue\": 0, \"budget\": 0, \"certification\": \"\"}, {\"imdb_id\": \"tt0254686\", \"revenue\": 9801375, \"budget\": 3000000, \"certification\": \"R\"}, {\"imdb_id\": \"tt0255055\", \"revenue\": 0, \"budget\": 0, \"certification\": \"G\"}, {\"imdb_id\": \"tt0255312\", \"revenue\": 0, \"budget\": 0, \"certification\": \"\"}, {\"imdb_id\": \"tt0255653\", \"revenue\": 4574762, \"budget\": 0, \"certification\": \"\"}, {\"imdb_id\": \"tt0255798\", \"revenue\": 84772742, \"budget\": 22000000, \"certification\": \"\"}, {\"imdb_id\": \"tt0255819\", \"revenue\": 29381649, \"budget\": 16000000, \"certification\": \"R\"}, {\"imdb_id\": \"tt0255909\", \"revenue\": 0, \"budget\": 0, \"certification\": \"\"}, {\"imdb_id\": \"tt0256009\", \"revenue\": 6582065, \"budget\": 4500000, \"certification\": \"\"}, {\"imdb_id\": \"tt0256103\", \"revenue\": 0, \"budget\": 0, \"certification\": \"NR\"}, {\"imdb_id\": \"tt0256341\", \"revenue\": 0, \"budget\": 0, \"certification\": \"\"}, {\"imdb_id\": \"tt0256359\", \"revenue\": 0, \"budget\": 0, \"certification\": \"\"}, {\"imdb_id\": \"tt0256374\", \"revenue\": 0, \"budget\": 0, \"certification\": \"\"}, {\"imdb_id\": \"tt0256380\", \"revenue\": 141069860, \"budget\": 40000000, \"certification\": \"PG-13\"}, {\"imdb_id\": \"tt0256524\", \"revenue\": 0, \"budget\": 0, \"certification\": \"PG-13\"}, {\"imdb_id\": \"tt0256531\", \"revenue\": 0, \"budget\": 0, \"certification\": \"\"}, {\"imdb_id\": \"tt0256856\", \"revenue\": 0, \"budget\": 0, \"certification\": \"\"}, {\"imdb_id\": \"tt0257106\", \"revenue\": 141220678, \"budget\": 45000000, \"certification\": \"R\"}, {\"imdb_id\": \"tt0257408\", \"revenue\": 0, \"budget\": 3000000, \"certification\": \"\"}, {\"imdb_id\": \"tt0257750\", \"revenue\": 0, \"budget\": 0, \"certification\": \"R\"}, {\"imdb_id\": \"tt0258038\", \"revenue\": 0, \"budget\": 0, \"certification\": \"PG-13\"}, {\"imdb_id\": \"tt0258127\", \"revenue\": 0, \"budget\": 0, \"certification\": \"\"}, {\"imdb_id\": \"tt0258273\", \"revenue\": 4186931, \"budget\": 250000, \"certification\": \"\"}, {\"imdb_id\": \"tt0258470\", \"revenue\": 0, \"budget\": 0, \"certification\": \"PG-13\"}, {\"imdb_id\": \"tt0258827\", \"revenue\": 0, \"budget\": 0, \"certification\": \"\"}, {\"imdb_id\": \"tt0258967\", \"revenue\": 0, \"budget\": 0, \"certification\": \"\"}, {\"imdb_id\": \"tt0259054\", \"revenue\": 0, \"budget\": 0, \"certification\": \"\"}, {\"imdb_id\": \"tt0259097\", \"revenue\": 0, \"budget\": 0, \"certification\": \"\"}, {\"imdb_id\": \"tt0259218\", \"revenue\": 0, \"budget\": 0, \"certification\": \"\"}, {\"imdb_id\": \"tt0259386\", \"revenue\": 0, \"budget\": 0, \"certification\": \"\"}, {\"imdb_id\": \"tt0259393\", \"revenue\": 0, \"budget\": 0, \"certification\": \"R\"}, {\"imdb_id\": \"tt0259424\", \"revenue\": 0, \"budget\": 0, \"certification\": \"\"}, {\"imdb_id\": \"tt0259497\", \"revenue\": 0, \"budget\": 0, \"certification\": \"R\"}, {\"imdb_id\": \"tt0259711\", \"revenue\": 203388341, \"budget\": 68000000, \"certification\": \"R\"}, {\"imdb_id\": \"tt0260216\", \"revenue\": 0, \"budget\": 0, \"certification\": \"\"}, {\"imdb_id\": \"tt0260746\", \"revenue\": 100420, \"budget\": 0, \"certification\": \"R\"}, {\"imdb_id\": \"tt0260866\", \"revenue\": 100020092, \"budget\": 50000000, \"certification\": \"R\"}, {\"imdb_id\": \"tt0261311\", \"revenue\": 0, \"budget\": 4000000, \"certification\": \"\"}, {\"imdb_id\": \"tt0261392\", \"revenue\": 33788161, \"budget\": 22000000, \"certification\": \"R\"}, {\"imdb_id\": \"tt0261652\", \"revenue\": 0, \"budget\": 0, \"certification\": \"R\"}, {\"imdb_id\": \"tt0261697\", \"revenue\": 463780, \"budget\": 0, \"certification\": \"\"}, {\"imdb_id\": \"tt0261755\", \"revenue\": 43719, \"budget\": 400000, \"certification\": \"\"}, {\"imdb_id\": \"tt0261800\", \"revenue\": 0, \"budget\": 0, \"certification\": \"\"}, {\"imdb_id\": \"tt0261983\", \"revenue\": 1612259, \"budget\": 1500000, \"certification\": \"R\"}, {\"imdb_id\": \"tt0262462\", \"revenue\": 0, \"budget\": 0, \"certification\": \"\"}, {\"imdb_id\": \"tt0262699\", \"revenue\": 126, \"budget\": 0, \"certification\": \"\"}, {\"imdb_id\": \"tt0262828\", \"revenue\": 0, \"budget\": 0, \"certification\": \"\"}, {\"imdb_id\": \"tt0262911\", \"revenue\": 0, \"budget\": 0, \"certification\": \"\"}, {\"imdb_id\": \"tt0263215\", \"revenue\": 10002, \"budget\": 0, \"certification\": \"R\"}, {\"imdb_id\": \"tt0263386\", \"revenue\": 0, \"budget\": 0, \"certification\": \"\"}, {\"imdb_id\": \"tt0263488\", \"revenue\": 59217789, \"budget\": 10000000, \"certification\": \"R\"}, {\"imdb_id\": \"tt0263657\", \"revenue\": 0, \"budget\": 0, \"certification\": \"NR\"}, {\"imdb_id\": \"tt0263671\", \"revenue\": 0, \"budget\": 0, \"certification\": \"\"}, {\"imdb_id\": \"tt0263725\", \"revenue\": 0, \"budget\": 0, \"certification\": \"R\"}, {\"imdb_id\": \"tt0263728\", \"revenue\": 6000000, \"budget\": 20000000, \"certification\": \"\"}, {\"imdb_id\": \"tt0263746\", \"revenue\": 0, \"budget\": 0, \"certification\": \"R\"}, {\"imdb_id\": \"tt0264319\", \"revenue\": 0, \"budget\": 0, \"certification\": \"\"}, {\"imdb_id\": \"tt0264355\", \"revenue\": 0, \"budget\": 0, \"certification\": \"\"}, {\"imdb_id\": \"tt0264425\", \"revenue\": 0, \"budget\": 0, \"certification\": \"\"}, {\"imdb_id\": \"tt0264508\", \"revenue\": 0, \"budget\": 4800000, \"certification\": \"\"}, {\"imdb_id\": \"tt0264605\", \"revenue\": 0, \"budget\": 0, \"certification\": \"\"}, {\"imdb_id\": \"tt0264606\", \"revenue\": 0, \"budget\": 0, \"certification\": \"\"}, {\"imdb_id\": \"tt0264616\", \"revenue\": 17423030, \"budget\": 11000000, \"certification\": \"R\"}, {\"imdb_id\": \"tt0264761\", \"revenue\": 10013424, \"budget\": 1000000, \"certification\": \"\"}, {\"imdb_id\": \"tt0264796\", \"revenue\": 0, \"budget\": 18000000, \"certification\": \"R\"}, {\"imdb_id\": \"tt0265029\", \"revenue\": 138191428, \"budget\": 64400000, \"certification\": \"PG-13\"}, {\"imdb_id\": \"tt0265086\", \"revenue\": 172989651, \"budget\": 92000000, \"certification\": \"\"}, {\"imdb_id\": \"tt0265087\", \"revenue\": 33422806, \"budget\": 50000000, \"certification\": \"PG-13\"}, {\"imdb_id\": \"tt0265104\", \"revenue\": 0, \"budget\": 0, \"certification\": \"R\"}, {\"imdb_id\": \"tt0265116\", \"revenue\": 0, \"budget\": 0, \"certification\": \"\"}, {\"imdb_id\": \"tt0265118\", \"revenue\": 0, \"budget\": 0, \"certification\": \"R\"}, {\"imdb_id\": \"tt0265171\", \"revenue\": 0, \"budget\": 1500000, \"certification\": \"PG-13\"}, {\"imdb_id\": \"tt0265198\", \"revenue\": 0, \"budget\": 4000000, \"certification\": \"\"}, {\"imdb_id\": \"tt0265226\", \"revenue\": 0, \"budget\": 0, \"certification\": \"\"}, {\"imdb_id\": \"tt0265307\", \"revenue\": 2006391, \"budget\": 6500000, \"certification\": \"\"}, {\"imdb_id\": \"tt0265343\", \"revenue\": 0, \"budget\": 0, \"certification\": \"R\"}, {\"imdb_id\": \"tt0265581\", \"revenue\": 0, \"budget\": 0, \"certification\": \"\"}, {\"imdb_id\": \"tt0265611\", \"revenue\": 0, \"budget\": 0, \"certification\": \"\"}, {\"imdb_id\": \"tt0265632\", \"revenue\": 44460850, \"budget\": 10000000, \"certification\": \"G\"}, {\"imdb_id\": \"tt0265666\", \"revenue\": 71441250, \"budget\": 21000000, \"certification\": \"R\"}, {\"imdb_id\": \"tt0265709\", \"revenue\": 0, \"budget\": 0, \"certification\": \"\"}, {\"imdb_id\": \"tt0265713\", \"revenue\": 0, \"budget\": 0, \"certification\": \"R\"}, {\"imdb_id\": \"tt0265752\", \"revenue\": 0, \"budget\": 0, \"certification\": \"R\"}, {\"imdb_id\": \"tt0265773\", \"revenue\": 0, \"budget\": 0, \"certification\": \"\"}, {\"imdb_id\": \"tt0265787\", \"revenue\": 0, \"budget\": 0, \"certification\": \"R\"}, {\"imdb_id\": \"tt0265859\", \"revenue\": 0, \"budget\": 0, \"certification\": \"\"}, {\"imdb_id\": \"tt0265930\", \"revenue\": 0, \"budget\": 0, \"certification\": \"R\"}, {\"imdb_id\": \"tt0266041\", \"revenue\": 0, \"budget\": 0, \"certification\": \"\"}, {\"imdb_id\": \"tt0266057\", \"revenue\": 0, \"budget\": 0, \"certification\": \"\"}, {\"imdb_id\": \"tt0266102\", \"revenue\": 0, \"budget\": 0, \"certification\": \"\"}, {\"imdb_id\": \"tt0266391\", \"revenue\": 3646994, \"budget\": 7000000, \"certification\": \"PG-13\"}, {\"imdb_id\": \"tt0266449\", \"revenue\": 0, \"budget\": 0, \"certification\": \"R\"}, {\"imdb_id\": \"tt0266629\", \"revenue\": 0, \"budget\": 0, \"certification\": \"R\"}, {\"imdb_id\": \"tt0266824\", \"revenue\": 0, \"budget\": 0, \"certification\": \"\"}, {\"imdb_id\": \"tt0266915\", \"revenue\": 347325802, \"budget\": 90000000, \"certification\": \"PG-13\"}, {\"imdb_id\": \"tt0266987\", \"revenue\": 143049560, \"budget\": 115000000, \"certification\": \"R\"}, {\"imdb_id\": \"tt0267044\", \"revenue\": 0, \"budget\": 9360460, \"certification\": \"\"}, {\"imdb_id\": \"tt0267129\", \"revenue\": 1297401, \"budget\": 15000000, \"certification\": \"\"}, {\"imdb_id\": \"tt0267287\", \"revenue\": 8826094, \"budget\": 8000000, \"certification\": \"R\"}, {\"imdb_id\": \"tt0267440\", \"revenue\": 0, \"budget\": 0, \"certification\": \"\"}, {\"imdb_id\": \"tt0267785\", \"revenue\": 0, \"budget\": 0, \"certification\": \"R\"}, {\"imdb_id\": \"tt0267804\", \"revenue\": 72689126, \"budget\": 49000000, \"certification\": \"PG-13\"}, {\"imdb_id\": \"tt0267989\", \"revenue\": 0, \"budget\": 0, \"certification\": \"R\"}, {\"imdb_id\": \"tt0268040\", \"revenue\": 0, \"budget\": 0, \"certification\": \"\"}, {\"imdb_id\": \"tt0268200\", \"revenue\": 852206, \"budget\": 1000000, \"certification\": \"PG-13\"}, {\"imdb_id\": \"tt0268219\", \"revenue\": 1802142, \"budget\": 29000000, \"certification\": \"\"}, {\"imdb_id\": \"tt0268397\", \"revenue\": 80936232, \"budget\": 25000000, \"certification\": \"G\"}, {\"imdb_id\": \"tt0268548\", \"revenue\": 0, \"budget\": 0, \"certification\": \"PG-13\"}, {\"imdb_id\": \"tt0268579\", \"revenue\": 0, \"budget\": 0, \"certification\": \"\"}, {\"imdb_id\": \"tt0268636\", \"revenue\": 0, \"budget\": 0, \"certification\": \"\"}, {\"imdb_id\": \"tt0268690\", \"revenue\": 0, \"budget\": 0, \"certification\": \"R\"}, {\"imdb_id\": \"tt0268755\", \"revenue\": 0, \"budget\": 0, \"certification\": \"\"}, {\"imdb_id\": \"tt0268762\", \"revenue\": 0, \"budget\": 1500000, \"certification\": \"\"}, {\"imdb_id\": \"tt0268978\", \"revenue\": 316800000, \"budget\": 58000000, \"certification\": \"\"}, {\"imdb_id\": \"tt0268995\", \"revenue\": 37317673, \"budget\": 72000000, \"certification\": \"PG\"}, {\"imdb_id\": \"tt0269341\", \"revenue\": 22390000, \"budget\": 13000000, \"certification\": \"R\"}, {\"imdb_id\": \"tt0269376\", \"revenue\": 0, \"budget\": 0, \"certification\": \"\"}, {\"imdb_id\": \"tt0269408\", \"revenue\": 0, \"budget\": 0, \"certification\": \"R\"}, {\"imdb_id\": \"tt0269499\", \"revenue\": 0, \"budget\": 0, \"certification\": \"\"}, {\"imdb_id\": \"tt0269746\", \"revenue\": 0, \"budget\": 0, \"certification\": \"\"}, {\"imdb_id\": \"tt0270259\", \"revenue\": 0, \"budget\": 0, \"certification\": \"\"}, {\"imdb_id\": \"tt0270270\", \"revenue\": 0, \"budget\": 0, \"certification\": \"R\"}, {\"imdb_id\": \"tt0270487\", \"revenue\": 0, \"budget\": 700000, \"certification\": \"\"}, {\"imdb_id\": \"tt0270515\", \"revenue\": 0, \"budget\": 0, \"certification\": \"\"}, {\"imdb_id\": \"tt0270918\", \"revenue\": 0, \"budget\": 0, \"certification\": \"\"}, {\"imdb_id\": \"tt0271020\", \"revenue\": 0, \"budget\": 0, \"certification\": \"\"}, {\"imdb_id\": \"tt0271027\", \"revenue\": 64437847, \"budget\": 25000000, \"certification\": \"R\"}, {\"imdb_id\": \"tt0271053\", \"revenue\": 0, \"budget\": 0, \"certification\": \"\"}, {\"imdb_id\": \"tt0271200\", \"revenue\": 0, \"budget\": 0, \"certification\": \"R\"}, {\"imdb_id\": \"tt0271543\", \"revenue\": 0, \"budget\": 5000000, \"certification\": \"R\"}, {\"imdb_id\": \"tt0271580\", \"revenue\": 0, \"budget\": 1200000, \"certification\": \"NR\"}, {\"imdb_id\": \"tt0271788\", \"revenue\": 0, \"budget\": 0, \"certification\": \"\"}, {\"imdb_id\": \"tt0271809\", \"revenue\": 0, \"budget\": 1900000, \"certification\": \"\"}, {\"imdb_id\": \"tt0271946\", \"revenue\": 790144, \"budget\": 25697387, \"certification\": \"PG-13\"}, {\"imdb_id\": \"tt0271972\", \"revenue\": 0, \"budget\": 570000, \"certification\": \"\"}, {\"imdb_id\": \"tt0271982\", \"revenue\": 0, \"budget\": 0, \"certification\": \"\"}, {\"imdb_id\": \"tt0271984\", \"revenue\": 0, \"budget\": 0, \"certification\": \"\"}, {\"imdb_id\": \"tt0272020\", \"revenue\": 27642707, \"budget\": 72000000, \"certification\": \"R\"}, {\"imdb_id\": \"tt0272036\", \"revenue\": 0, \"budget\": 0, \"certification\": \"R\"}, {\"imdb_id\": \"tt0272068\", \"revenue\": 0, \"budget\": 0, \"certification\": \"\"}, {\"imdb_id\": \"tt0272069\", \"revenue\": 0, \"budget\": 40000, \"certification\": \"\"}, {\"imdb_id\": \"tt0272152\", \"revenue\": 50315140, \"budget\": 48000000, \"certification\": \"PG-13\"}, {\"imdb_id\": \"tt0272362\", \"revenue\": 0, \"budget\": 0, \"certification\": \"\"}, {\"imdb_id\": \"tt0272440\", \"revenue\": 0, \"budget\": 0, \"certification\": \"\"}, {\"imdb_id\": \"tt0272590\", \"revenue\": 0, \"budget\": 0, \"certification\": \"R\"}, {\"imdb_id\": \"tt0273048\", \"revenue\": 0, \"budget\": 0, \"certification\": \"R\"}, {\"imdb_id\": \"tt0273057\", \"revenue\": 0, \"budget\": 0, \"certification\": \"R\"}, {\"imdb_id\": \"tt0273226\", \"revenue\": 0, \"budget\": 0, \"certification\": \"\"}, {\"imdb_id\": \"tt0273228\", \"revenue\": 0, \"budget\": 0, \"certification\": \"\"}, {\"imdb_id\": \"tt0273253\", \"revenue\": 251058, \"budget\": 0, \"certification\": \"\"}, {\"imdb_id\": \"tt0273300\", \"revenue\": 0, \"budget\": 0, \"certification\": \"PG\"}, {\"imdb_id\": \"tt0273311\", \"revenue\": 0, \"budget\": 0, \"certification\": \"\"}, {\"imdb_id\": \"tt0273498\", \"revenue\": 0, \"budget\": 2500000, \"certification\": \"\"}, {\"imdb_id\": \"tt0273607\", \"revenue\": 299171, \"budget\": 0, \"certification\": \"\"}, {\"imdb_id\": \"tt0273650\", \"revenue\": 0, \"budget\": 0, \"certification\": \"NR\"}, {\"imdb_id\": \"tt0273726\", \"revenue\": 0, \"budget\": 0, \"certification\": \"\"}, {\"imdb_id\": \"tt0273799\", \"revenue\": 18634654, \"budget\": 25000000, \"certification\": \"G\"}, {\"imdb_id\": \"tt0273822\", \"revenue\": 0, \"budget\": 0, \"certification\": \"\"}, {\"imdb_id\": \"tt0273850\", \"revenue\": 0, \"budget\": 0, \"certification\": \"R\"}, {\"imdb_id\": \"tt0273851\", \"revenue\": 0, \"budget\": 0, \"certification\": \"\"}, {\"imdb_id\": \"tt0274057\", \"revenue\": 0, \"budget\": 1000000, \"certification\": \"\"}, {\"imdb_id\": \"tt0274117\", \"revenue\": 0, \"budget\": 0, \"certification\": \"\"}, {\"imdb_id\": \"tt0274189\", \"revenue\": 0, \"budget\": 0, \"certification\": \"\"}, {\"imdb_id\": \"tt0274472\", \"revenue\": 0, \"budget\": 0, \"certification\": \"R\"}, {\"imdb_id\": \"tt0274497\", \"revenue\": 215339, \"budget\": 0, \"certification\": \"R\"}, {\"imdb_id\": \"tt0274652\", \"revenue\": 0, \"budget\": 0, \"certification\": \"PG-13\"}, {\"imdb_id\": \"tt0274680\", \"revenue\": 0, \"budget\": 0, \"certification\": \"\"}, {\"imdb_id\": \"tt0274861\", \"revenue\": 0, \"budget\": 0, \"certification\": \"\"}, {\"imdb_id\": \"tt0274868\", \"revenue\": 0, \"budget\": 0, \"certification\": \"\"}, {\"imdb_id\": \"tt0275067\", \"revenue\": 0, \"budget\": 0, \"certification\": \"\"}, {\"imdb_id\": \"tt0275182\", \"revenue\": 0, \"budget\": 0, \"certification\": \"\"}, {\"imdb_id\": \"tt0275277\", \"revenue\": 0, \"budget\": 0, \"certification\": \"R\"}, {\"imdb_id\": \"tt0275468\", \"revenue\": 0, \"budget\": 0, \"certification\": \"\"}, {\"imdb_id\": \"tt0275527\", \"revenue\": 0, \"budget\": 0, \"certification\": \"PG-13\"}, {\"imdb_id\": \"tt0275611\", \"revenue\": 0, \"budget\": 4000000, \"certification\": \"\"}, {\"imdb_id\": \"tt0275655\", \"revenue\": 0, \"budget\": 0, \"certification\": \"\"}, {\"imdb_id\": \"tt0275688\", \"revenue\": 70569, \"budget\": 0, \"certification\": \"R\"}, {\"imdb_id\": \"tt0275719\", \"revenue\": 490475, \"budget\": 100000, \"certification\": \"R\"}, {\"imdb_id\": \"tt0275772\", \"revenue\": 0, \"budget\": 0, \"certification\": \"\"}, {\"imdb_id\": \"tt0275902\", \"revenue\": 0, \"budget\": 0, \"certification\": \"\"}, {\"imdb_id\": \"tt0276052\", \"revenue\": 0, \"budget\": 0, \"certification\": \"\"}, {\"imdb_id\": \"tt0276198\", \"revenue\": 0, \"budget\": 0, \"certification\": \"G\"}, {\"imdb_id\": \"tt0276501\", \"revenue\": 0, \"budget\": 0, \"certification\": \"\"}, {\"imdb_id\": \"tt0276584\", \"revenue\": 0, \"budget\": 300000, \"certification\": \"\"}, {\"imdb_id\": \"tt0276607\", \"revenue\": 0, \"budget\": 0, \"certification\": \"\"}, {\"imdb_id\": \"tt0276617\", \"revenue\": 0, \"budget\": 250000, \"certification\": \"\"}, {\"imdb_id\": \"tt0276773\", \"revenue\": 0, \"budget\": 0, \"certification\": \"\"}, {\"imdb_id\": \"tt0276837\", \"revenue\": 0, \"budget\": 0, \"certification\": \"\"}, {\"imdb_id\": \"tt0276868\", \"revenue\": 0, \"budget\": 0, \"certification\": \"R\"}, {\"imdb_id\": \"tt0276893\", \"revenue\": 0, \"budget\": 0, \"certification\": \"\"}, {\"imdb_id\": \"tt0276977\", \"revenue\": 60, \"budget\": 50, \"certification\": \"R\"}, {\"imdb_id\": \"tt0277027\", \"revenue\": 92542418, \"budget\": 22000000, \"certification\": \"\"}, {\"imdb_id\": \"tt0277092\", \"revenue\": 0, \"budget\": 0, \"certification\": \"\"}, {\"imdb_id\": \"tt0277255\", \"revenue\": 0, \"budget\": 0, \"certification\": \"\"}, {\"imdb_id\": \"tt0277327\", \"revenue\": 0, \"budget\": 0, \"certification\": \"\"}, {\"imdb_id\": \"tt0277371\", \"revenue\": 66468332, \"budget\": 16000000, \"certification\": \"R\"}, {\"imdb_id\": \"tt0277386\", \"revenue\": 0, \"budget\": 0, \"certification\": \"\"}, {\"imdb_id\": \"tt0277705\", \"revenue\": 0, \"budget\": 0, \"certification\": \"R\"}, {\"imdb_id\": \"tt0277713\", \"revenue\": 0, \"budget\": 0, \"certification\": \"R\"}, {\"imdb_id\": \"tt0277909\", \"revenue\": 0, \"budget\": 0, \"certification\": \"\"}, {\"imdb_id\": \"tt0278044\", \"revenue\": 0, \"budget\": 0, \"certification\": \"\"}, {\"imdb_id\": \"tt0278412\", \"revenue\": 0, \"budget\": 0, \"certification\": \"\"}, {\"imdb_id\": \"tt0278488\", \"revenue\": 31155435, \"budget\": 12000000, \"certification\": \"R\"}, {\"imdb_id\": \"tt0278976\", \"revenue\": 0, \"budget\": 0, \"certification\": \"\"}, {\"imdb_id\": \"tt0279064\", \"revenue\": 0, \"budget\": 0, \"certification\": \"\"}, {\"imdb_id\": \"tt0279065\", \"revenue\": 0, \"budget\": 0, \"certification\": \"\"}, {\"imdb_id\": \"tt0279112\", \"revenue\": 20000000, \"budget\": 9400000, \"certification\": \"NR\"}, {\"imdb_id\": \"tt0279231\", \"revenue\": 0, \"budget\": 0, \"certification\": \"\"}, {\"imdb_id\": \"tt0279286\", \"revenue\": 4500000, \"budget\": 16000000, \"certification\": \"PG\"}, {\"imdb_id\": \"tt0279479\", \"revenue\": 0, \"budget\": 0, \"certification\": \"NR\"}, {\"imdb_id\": \"tt0279485\", \"revenue\": 0, \"budget\": 0, \"certification\": \"\"}, {\"imdb_id\": \"tt0279623\", \"revenue\": 0, \"budget\": 0, \"certification\": \"\"}, {\"imdb_id\": \"tt0279695\", \"revenue\": 0, \"budget\": 3000000, \"certification\": \"\"}, {\"imdb_id\": \"tt0279783\", \"revenue\": 0, \"budget\": 0, \"certification\": \"\"}, {\"imdb_id\": \"tt0279889\", \"revenue\": 24516772, \"budget\": 38000000, \"certification\": \"PG\"}, {\"imdb_id\": \"tt0279926\", \"revenue\": 0, \"budget\": 0, \"certification\": \"\"}, {\"imdb_id\": \"tt0280193\", \"revenue\": 0, \"budget\": 0, \"certification\": \"\"}, {\"imdb_id\": \"tt0280383\", \"revenue\": 0, \"budget\": 0, \"certification\": \"NR\"}, {\"imdb_id\": \"tt0280424\", \"revenue\": 0, \"budget\": 0, \"certification\": \"\"}, {\"imdb_id\": \"tt0280456\", \"revenue\": 0, \"budget\": 0, \"certification\": \"R\"}, {\"imdb_id\": \"tt0280707\", \"revenue\": 87754044, \"budget\": 19800000, \"certification\": \"R\"}, {\"imdb_id\": \"tt0280778\", \"revenue\": 16153953, \"budget\": 5500000, \"certification\": \"R\"}, {\"imdb_id\": \"tt0280956\", \"revenue\": 0, \"budget\": 0, \"certification\": \"\"}, {\"imdb_id\": \"tt0281144\", \"revenue\": 0, \"budget\": 0, \"certification\": \"\"}, {\"imdb_id\": \"tt0281203\", \"revenue\": 0, \"budget\": 165000, \"certification\": \"R\"}, {\"imdb_id\": \"tt0281364\", \"revenue\": 10366360, \"budget\": 15300000, \"certification\": \"R\"}, {\"imdb_id\": \"tt0281398\", \"revenue\": 0, \"budget\": 0, \"certification\": \"\"}, {\"imdb_id\": \"tt0281680\", \"revenue\": 1023156, \"budget\": 600000, \"certification\": \"PG-13\"}, {\"imdb_id\": \"tt0281810\", \"revenue\": 0, \"budget\": 0, \"certification\": \"\"}, {\"imdb_id\": \"tt0282108\", \"revenue\": 0, \"budget\": 18000000, \"certification\": \"\"}, {\"imdb_id\": \"tt0282163\", \"revenue\": 0, \"budget\": 0, \"certification\": \"R\"}, {\"imdb_id\": \"tt0282179\", \"revenue\": 0, \"budget\": 0, \"certification\": \"\"}, {\"imdb_id\": \"tt0282484\", \"revenue\": 0, \"budget\": 500000, \"certification\": \"\"}, {\"imdb_id\": \"tt0282489\", \"revenue\": 0, \"budget\": 0, \"certification\": \"\"}, {\"imdb_id\": \"tt0282496\", \"revenue\": 0, \"budget\": 0, \"certification\": \"R\"}, {\"imdb_id\": \"tt0282526\", \"revenue\": 0, \"budget\": 0, \"certification\": \"\"}, {\"imdb_id\": \"tt0282528\", \"revenue\": 0, \"budget\": 0, \"certification\": \"\"}, {\"imdb_id\": \"tt0282589\", \"revenue\": 0, \"budget\": 0, \"certification\": \"NR\"}, {\"imdb_id\": \"tt0282701\", \"revenue\": 0, \"budget\": 0, \"certification\": \"\"}, {\"imdb_id\": \"tt0282965\", \"revenue\": 0, \"budget\": 0, \"certification\": \"\"}, {\"imdb_id\": \"tt0283027\", \"revenue\": 0, \"budget\": 0, \"certification\": \"R\"}, {\"imdb_id\": \"tt0283086\", \"revenue\": 0, \"budget\": 0, \"certification\": \"\"}, {\"imdb_id\": \"tt0283283\", \"revenue\": 0, \"budget\": 0, \"certification\": \"\"}, {\"imdb_id\": \"tt0283288\", \"revenue\": 0, \"budget\": 0, \"certification\": \"R\"}, {\"imdb_id\": \"tt0283323\", \"revenue\": 0, \"budget\": 0, \"certification\": \"R\"}, {\"imdb_id\": \"tt0283337\", \"revenue\": 0, \"budget\": 0, \"certification\": \"\"}, {\"imdb_id\": \"tt0283387\", \"revenue\": 0, \"budget\": 0, \"certification\": \"R\"}, {\"imdb_id\": \"tt0283428\", \"revenue\": 0, \"budget\": 0, \"certification\": \"\"}, {\"imdb_id\": \"tt0283429\", \"revenue\": 0, \"budget\": 0, \"certification\": \"\"}, {\"imdb_id\": \"tt0283431\", \"revenue\": 0, \"budget\": 0, \"certification\": \"\"}, {\"imdb_id\": \"tt0283509\", \"revenue\": 0, \"budget\": 1012153, \"certification\": \"\"}, {\"imdb_id\": \"tt0283641\", \"revenue\": 0, \"budget\": 0, \"certification\": \"\"}, {\"imdb_id\": \"tt0283952\", \"revenue\": 0, \"budget\": 0, \"certification\": \"R\"}, {\"imdb_id\": \"tt0283960\", \"revenue\": 0, \"budget\": 0, \"certification\": \"\"}, {\"imdb_id\": \"tt0284097\", \"revenue\": 0, \"budget\": 395000, \"certification\": \"NR\"}, {\"imdb_id\": \"tt0284189\", \"revenue\": 0, \"budget\": 250000, \"certification\": \"\"}, {\"imdb_id\": \"tt0284233\", \"revenue\": 0, \"budget\": 0, \"certification\": \"PG-13\"}, {\"imdb_id\": \"tt0284253\", \"revenue\": 0, \"budget\": 0, \"certification\": \"\"}, {\"imdb_id\": \"tt0284470\", \"revenue\": 0, \"budget\": 0, \"certification\": \"\"}, {\"imdb_id\": \"tt0284492\", \"revenue\": 0, \"budget\": 0, \"certification\": \"\"}, {\"imdb_id\": \"tt0284573\", \"revenue\": 0, \"budget\": 0, \"certification\": \"NR\"}, {\"imdb_id\": \"tt0284769\", \"revenue\": 0, \"budget\": 0, \"certification\": \"\"}, {\"imdb_id\": \"tt0284867\", \"revenue\": 0, \"budget\": 0, \"certification\": \"\"}, {\"imdb_id\": \"tt0284907\", \"revenue\": 0, \"budget\": 0, \"certification\": \"\"}, {\"imdb_id\": \"tt0284970\", \"revenue\": 0, \"budget\": 0, \"certification\": \"\"}, {\"imdb_id\": \"tt0285100\", \"revenue\": 0, \"budget\": 0, \"certification\": \"\"}, {\"imdb_id\": \"tt0285441\", \"revenue\": 3786801, \"budget\": 1934000, \"certification\": \"R\"}, {\"imdb_id\": \"tt0285681\", \"revenue\": 0, \"budget\": 0, \"certification\": \"\"}, {\"imdb_id\": \"tt0285698\", \"revenue\": 0, \"budget\": 0, \"certification\": \"R\"}, {\"imdb_id\": \"tt0285742\", \"revenue\": 44909486, \"budget\": 4000000, \"certification\": \"R\"}, {\"imdb_id\": \"tt0286055\", \"revenue\": 0, \"budget\": 1000000, \"certification\": \"R\"}, {\"imdb_id\": \"tt0286098\", \"revenue\": 35000000, \"budget\": 0, \"certification\": \"\"}, {\"imdb_id\": \"tt0286112\", \"revenue\": 42776760, \"budget\": 10000005, \"certification\": \"\"}, {\"imdb_id\": \"tt0286476\", \"revenue\": 0, \"budget\": 0, \"certification\": \"\"}, {\"imdb_id\": \"tt0286484\", \"revenue\": 0, \"budget\": 0, \"certification\": \"R\"}, {\"imdb_id\": \"tt0286613\", \"revenue\": 0, \"budget\": 0, \"certification\": \"\"}, {\"imdb_id\": \"tt0286635\", \"revenue\": 0, \"budget\": 0, \"certification\": \"\"}, {\"imdb_id\": \"tt0286751\", \"revenue\": 318451, \"budget\": 25000000, \"certification\": \"R\"}, {\"imdb_id\": \"tt0286917\", \"revenue\": 60700, \"budget\": 0, \"certification\": \"\"}, {\"imdb_id\": \"tt0287045\", \"revenue\": 0, \"budget\": 0, \"certification\": \"\"}, {\"imdb_id\": \"tt0287048\", \"revenue\": 0, \"budget\": 0, \"certification\": \"\"}, {\"imdb_id\": \"tt0287112\", \"revenue\": 0, \"budget\": 0, \"certification\": \"\"}, {\"imdb_id\": \"tt0287471\", \"revenue\": 0, \"budget\": 0, \"certification\": \"NR\"}, {\"imdb_id\": \"tt0287635\", \"revenue\": 28023563, \"budget\": 0, \"certification\": \"G\"}, {\"imdb_id\": \"tt0287645\", \"revenue\": 0, \"budget\": 0, \"certification\": \"\"}, {\"imdb_id\": \"tt0287811\", \"revenue\": 1138807, \"budget\": 0, \"certification\": \"\"}, {\"imdb_id\": \"tt0287986\", \"revenue\": 0, \"budget\": 0, \"certification\": \"\"}, {\"imdb_id\": \"tt0288024\", \"revenue\": 0, \"budget\": 0, \"certification\": \"\"}, {\"imdb_id\": \"tt0288192\", \"revenue\": 0, \"budget\": 100000, \"certification\": \"\"}, {\"imdb_id\": \"tt0288215\", \"revenue\": 0, \"budget\": 0, \"certification\": \"R\"}, {\"imdb_id\": \"tt0288480\", \"revenue\": 0, \"budget\": 0, \"certification\": \"\"}, {\"imdb_id\": \"tt0288520\", \"revenue\": 0, \"budget\": 0, \"certification\": \"\"}, {\"imdb_id\": \"tt0288562\", \"revenue\": 0, \"budget\": 0, \"certification\": \"\"}, {\"imdb_id\": \"tt0288808\", \"revenue\": 0, \"budget\": 0, \"certification\": \"\"}, {\"imdb_id\": \"tt0289132\", \"revenue\": 0, \"budget\": 0, \"certification\": \"\"}, {\"imdb_id\": \"tt0289213\", \"revenue\": 0, \"budget\": 0, \"certification\": \"\"}, {\"imdb_id\": \"tt0289730\", \"revenue\": 0, \"budget\": 0, \"certification\": \"\"}, {\"imdb_id\": \"tt0290028\", \"revenue\": 0, \"budget\": 0, \"certification\": \"\"}, {\"imdb_id\": \"tt0290082\", \"revenue\": 0, \"budget\": 0, \"certification\": \"R\"}, {\"imdb_id\": \"tt0290322\", \"revenue\": 0, \"budget\": 0, \"certification\": \"\"}, {\"imdb_id\": \"tt0290329\", \"revenue\": 0, \"budget\": 60400, \"certification\": \"R\"}, {\"imdb_id\": \"tt0290332\", \"revenue\": 10229331, \"budget\": 7000000, \"certification\": \"PG\"}, {\"imdb_id\": \"tt0290498\", \"revenue\": 0, \"budget\": 0, \"certification\": \"\"}, {\"imdb_id\": \"tt0290661\", \"revenue\": 0, \"budget\": 0, \"certification\": \"\"}, {\"imdb_id\": \"tt0290662\", \"revenue\": 52462, \"budget\": 0, \"certification\": \"\"}, {\"imdb_id\": \"tt0290714\", \"revenue\": 0, \"budget\": 0, \"certification\": \"\"}, {\"imdb_id\": \"tt0290745\", \"revenue\": 0, \"budget\": 0, \"certification\": \"\"}, {\"imdb_id\": \"tt0290824\", \"revenue\": 0, \"budget\": 0, \"certification\": \"\"}, {\"imdb_id\": \"tt0290858\", \"revenue\": 0, \"budget\": 0, \"certification\": \"PG-13\"}, {\"imdb_id\": \"tt0290884\", \"revenue\": 0, \"budget\": 0, \"certification\": \"PG\"}, {\"imdb_id\": \"tt0291003\", \"revenue\": 0, \"budget\": 0, \"certification\": \"\"}, {\"imdb_id\": \"tt0291265\", \"revenue\": 0, \"budget\": 0, \"certification\": \"R\"}, {\"imdb_id\": \"tt0291341\", \"revenue\": 0, \"budget\": 0, \"certification\": \"R\"}, {\"imdb_id\": \"tt0291350\", \"revenue\": 37641, \"budget\": 0, \"certification\": \"PG\"}, {\"imdb_id\": \"tt0291368\", \"revenue\": 0, \"budget\": 0, \"certification\": \"\"}, {\"imdb_id\": \"tt0291424\", \"revenue\": 0, \"budget\": 0, \"certification\": \"R\"}, {\"imdb_id\": \"tt0291559\", \"revenue\": 0, \"budget\": 0, \"certification\": \"R\"}, {\"imdb_id\": \"tt0291959\", \"revenue\": 0, \"budget\": 0, \"certification\": \"G\"}, {\"imdb_id\": \"tt0292346\", \"revenue\": 0, \"budget\": 0, \"certification\": \"\"}, {\"imdb_id\": \"tt0292429\", \"revenue\": 0, \"budget\": 0, \"certification\": \"\"}, {\"imdb_id\": \"tt0292459\", \"revenue\": 0, \"budget\": 0, \"certification\": \"\"}, {\"imdb_id\": \"tt0292490\", \"revenue\": 4099000, \"budget\": 2079000, \"certification\": \"\"}, {\"imdb_id\": \"tt0292542\", \"revenue\": 0, \"budget\": 0, \"certification\": \"R\"}, {\"imdb_id\": \"tt0292887\", \"revenue\": 0, \"budget\": 0, \"certification\": \"\"}, {\"imdb_id\": \"tt0292895\", \"revenue\": 0, \"budget\": 0, \"certification\": \"\"}, {\"imdb_id\": \"tt0292996\", \"revenue\": 0, \"budget\": 0, \"certification\": \"PG\"}, {\"imdb_id\": \"tt0293176\", \"revenue\": 0, \"budget\": 0, \"certification\": \"R\"}, {\"imdb_id\": \"tt0293416\", \"revenue\": 4035192, \"budget\": 15000000, \"certification\": \"PG-13\"}, {\"imdb_id\": \"tt0293664\", \"revenue\": 0, \"budget\": 0, \"certification\": \"\"}, {\"imdb_id\": \"tt0293715\", \"revenue\": 0, \"budget\": 0, \"certification\": \"\"}, {\"imdb_id\": \"tt0293849\", \"revenue\": 14846994, \"budget\": 0, \"certification\": \"G\"}, {\"imdb_id\": \"tt0293859\", \"revenue\": 0, \"budget\": 0, \"certification\": \"\"}, {\"imdb_id\": \"tt0294289\", \"revenue\": 342855, \"budget\": 344, \"certification\": \"\"}, {\"imdb_id\": \"tt0294413\", \"revenue\": 0, \"budget\": 0, \"certification\": \"R\"}, {\"imdb_id\": \"tt0294578\", \"revenue\": 0, \"budget\": 200000, \"certification\": \"\"}, {\"imdb_id\": \"tt0294640\", \"revenue\": 0, \"budget\": 0, \"certification\": \"\"}, {\"imdb_id\": \"tt0295171\", \"revenue\": 0, \"budget\": 0, \"certification\": \"\"}, {\"imdb_id\": \"tt0295206\", \"revenue\": 0, \"budget\": 0, \"certification\": \"NR\"}, {\"imdb_id\": \"tt0295281\", \"revenue\": 0, \"budget\": 0, \"certification\": \"\"}, {\"imdb_id\": \"tt0295556\", \"revenue\": 0, \"budget\": 0, \"certification\": \"\"}, {\"imdb_id\": \"tt0295581\", \"revenue\": 0, \"budget\": 0, \"certification\": \"\"}, {\"imdb_id\": \"tt0295671\", \"revenue\": 0, \"budget\": 0, \"certification\": \"NR\"}, {\"imdb_id\": \"tt0295715\", \"revenue\": 0, \"budget\": 0, \"certification\": \"\"}, {\"imdb_id\": \"tt0296042\", \"revenue\": 80631, \"budget\": 1400010, \"certification\": \"\"}, {\"imdb_id\": \"tt0296067\", \"revenue\": 0, \"budget\": 0, \"certification\": \"NR\"}, {\"imdb_id\": \"tt0296845\", \"revenue\": 0, \"budget\": 0, \"certification\": \"PG\"}, {\"imdb_id\": \"tt0297024\", \"revenue\": 0, \"budget\": 0, \"certification\": \"PG-13\"}, {\"imdb_id\": \"tt0297080\", \"revenue\": 0, \"budget\": 0, \"certification\": \"R\"}, {\"imdb_id\": \"tt0297259\", \"revenue\": 0, \"budget\": 0, \"certification\": \"\"}, {\"imdb_id\": \"tt0297384\", \"revenue\": 0, \"budget\": 0, \"certification\": \"\"}, {\"imdb_id\": \"tt0297398\", \"revenue\": 0, \"budget\": 0, \"certification\": \"\"}, {\"imdb_id\": \"tt0297403\", \"revenue\": 0, \"budget\": 0, \"certification\": \"\"}, {\"imdb_id\": \"tt0297721\", \"revenue\": 0, \"budget\": 1, \"certification\": \"\"}, {\"imdb_id\": \"tt0297769\", \"revenue\": 0, \"budget\": 0, \"certification\": \"R\"}, {\"imdb_id\": \"tt0298293\", \"revenue\": 0, \"budget\": 0, \"certification\": \"NR\"}, {\"imdb_id\": \"tt0298865\", \"revenue\": 0, \"budget\": 0, \"certification\": \"\"}, {\"imdb_id\": \"tt0299549\", \"revenue\": 0, \"budget\": 0, \"certification\": \"NC-17\"}, {\"imdb_id\": \"tt0299594\", \"revenue\": 0, \"budget\": 0, \"certification\": \"\"}, {\"imdb_id\": \"tt0299712\", \"revenue\": 0, \"budget\": 0, \"certification\": \"R\"}, {\"imdb_id\": \"tt0299937\", \"revenue\": 0, \"budget\": 0, \"certification\": \"\"}, {\"imdb_id\": \"tt0300456\", \"revenue\": 0, \"budget\": 0, \"certification\": \"\"}, {\"imdb_id\": \"tt0301254\", \"revenue\": 0, \"budget\": 0, \"certification\": \"\"}, {\"imdb_id\": \"tt0301677\", \"revenue\": 0, \"budget\": 0, \"certification\": \"\"}, {\"imdb_id\": \"tt0302309\", \"revenue\": 0, \"budget\": 0, \"certification\": \"NR\"}, {\"imdb_id\": \"tt0302432\", \"revenue\": 0, \"budget\": 0, \"certification\": \"\"}, {\"imdb_id\": \"tt0302819\", \"revenue\": 0, \"budget\": 0, \"certification\": \"PG\"}, {\"imdb_id\": \"tt0303103\", \"revenue\": 0, \"budget\": 0, \"certification\": \"R\"}, {\"imdb_id\": \"tt0303397\", \"revenue\": 0, \"budget\": 0, \"certification\": \"\"}, {\"imdb_id\": \"tt0303648\", \"revenue\": 0, \"budget\": 0, \"certification\": \"\"}, {\"imdb_id\": \"tt0303677\", \"revenue\": 0, \"budget\": 0, \"certification\": \"NC-17\"}, {\"imdb_id\": \"tt0304628\", \"revenue\": 0, \"budget\": 0, \"certification\": \"\"}, {\"imdb_id\": \"tt0304790\", \"revenue\": 0, \"budget\": 0, \"certification\": \"NR\"}, {\"imdb_id\": \"tt0304874\", \"revenue\": 0, \"budget\": 0, \"certification\": \"\"}, {\"imdb_id\": \"tt0305240\", \"revenue\": 0, \"budget\": 0, \"certification\": \"\"}, {\"imdb_id\": \"tt0305563\", \"revenue\": 0, \"budget\": 300, \"certification\": \"\"}, {\"imdb_id\": \"tt0305859\", \"revenue\": 0, \"budget\": 0, \"certification\": \"\"}, {\"imdb_id\": \"tt0306135\", \"revenue\": 0, \"budget\": 300000, \"certification\": \"NR\"}, {\"imdb_id\": \"tt0306359\", \"revenue\": 0, \"budget\": 0, \"certification\": \"\"}, {\"imdb_id\": \"tt0306568\", \"revenue\": 0, \"budget\": 2000, \"certification\": \"\"}, {\"imdb_id\": \"tt0307109\", \"revenue\": 0, \"budget\": 40000, \"certification\": \"\"}, {\"imdb_id\": \"tt0307448\", \"revenue\": 0, \"budget\": 0, \"certification\": \"R\"}, {\"imdb_id\": \"tt0308556\", \"revenue\": 0, \"budget\": 0, \"certification\": \"\"}, {\"imdb_id\": \"tt0308559\", \"revenue\": 0, \"budget\": 0, \"certification\": \"\"}, {\"imdb_id\": \"tt0308977\", \"revenue\": 0, \"budget\": 0, \"certification\": \"\"}, {\"imdb_id\": \"tt0310790\", \"revenue\": 482902, \"budget\": 3747230, \"certification\": \"PG\"}, {\"imdb_id\": \"tt0311361\", \"revenue\": 0, \"budget\": 100000, \"certification\": \"R\"}, {\"imdb_id\": \"tt0312297\", \"revenue\": 0, \"budget\": 0, \"certification\": \"NR\"}, {\"imdb_id\": \"tt0312412\", \"revenue\": 0, \"budget\": 0, \"certification\": \"\"}, {\"imdb_id\": \"tt0312499\", \"revenue\": 0, \"budget\": 0, \"certification\": \"\"}, {\"imdb_id\": \"tt0312843\", \"revenue\": 0, \"budget\": 250000, \"certification\": \"\"}, {\"imdb_id\": \"tt0314474\", \"revenue\": 0, \"budget\": 0, \"certification\": \"\"}, {\"imdb_id\": \"tt0314789\", \"revenue\": 0, \"budget\": 0, \"certification\": \"\"}, {\"imdb_id\": \"tt0315521\", \"revenue\": 0, \"budget\": 0, \"certification\": \"\"}, {\"imdb_id\": \"tt0318073\", \"revenue\": 0, \"budget\": 0, \"certification\": \"\"}, {\"imdb_id\": \"tt0318819\", \"revenue\": 0, \"budget\": 0, \"certification\": \"R\"}, {\"imdb_id\": \"tt0321959\", \"revenue\": 0, \"budget\": 0, \"certification\": \"R\"}, {\"imdb_id\": \"tt0322645\", \"revenue\": 0, \"budget\": 10540, \"certification\": \"PG-13\"}, {\"imdb_id\": \"tt0324368\", \"revenue\": 0, \"budget\": 0, \"certification\": \"\"}, {\"imdb_id\": \"tt0325730\", \"revenue\": 0, \"budget\": 0, \"certification\": \"\"}, {\"imdb_id\": \"tt0326009\", \"revenue\": 0, \"budget\": 0, \"certification\": \"\"}, {\"imdb_id\": \"tt0328226\", \"revenue\": 0, \"budget\": 0, \"certification\": \"NR\"}, {\"imdb_id\": \"tt0329589\", \"revenue\": 0, \"budget\": 0, \"certification\": \"PG\"}, {\"imdb_id\": \"tt0329768\", \"revenue\": 0, \"budget\": 0, \"certification\": \"\"}, {\"imdb_id\": \"tt0331262\", \"revenue\": 0, \"budget\": 0, \"certification\": \"\"}, {\"imdb_id\": \"tt0332129\", \"revenue\": 0, \"budget\": 0, \"certification\": \"\"}, {\"imdb_id\": \"tt0337628\", \"revenue\": 0, \"budget\": 0, \"certification\": \"\"}, {\"imdb_id\": \"tt0338565\", \"revenue\": 0, \"budget\": 0, \"certification\": \"\"}, {\"imdb_id\": \"tt0338988\", \"revenue\": 0, \"budget\": 0, \"certification\": \"NR\"}, {\"imdb_id\": \"tt0343175\", \"revenue\": 0, \"budget\": 0, \"certification\": \"\"}, {\"imdb_id\": \"tt0347014\", \"revenue\": 0, \"budget\": 1200000, \"certification\": \"R\"}, {\"imdb_id\": \"tt0349470\", \"revenue\": 0, \"budget\": 0, \"certification\": \"\"}, {\"imdb_id\": \"tt0354981\", \"revenue\": 0, \"budget\": 545, \"certification\": \"\"}, {\"imdb_id\": \"tt0355052\", \"revenue\": 0, \"budget\": 0, \"certification\": \"\"}, {\"imdb_id\": \"tt0355857\", \"revenue\": 16234, \"budget\": 0, \"certification\": \"\"}, {\"imdb_id\": \"tt0364722\", \"revenue\": 0, \"budget\": 1000000, \"certification\": \"R\"}, {\"imdb_id\": \"tt0364977\", \"revenue\": 0, \"budget\": 0, \"certification\": \"\"}, {\"imdb_id\": \"tt0365111\", \"revenue\": 0, \"budget\": 0, \"certification\": \"\"}, {\"imdb_id\": \"tt0365671\", \"revenue\": 0, \"budget\": 0, \"certification\": \"\"}, {\"imdb_id\": \"tt0367187\", \"revenue\": 0, \"budget\": 0, \"certification\": \"\"}, {\"imdb_id\": \"tt0368652\", \"revenue\": 0, \"budget\": 0, \"certification\": \"NR\"}, {\"imdb_id\": \"tt0370081\", \"revenue\": 0, \"budget\": 0, \"certification\": \"\"}, {\"imdb_id\": \"tt0389371\", \"revenue\": 0, \"budget\": 0, \"certification\": \"\"}, {\"imdb_id\": \"tt0389418\", \"revenue\": 0, \"budget\": 0, \"certification\": \"\"}, {\"imdb_id\": \"tt0392759\", \"revenue\": 0, \"budget\": 0, \"certification\": \"\"}, {\"imdb_id\": \"tt0396551\", \"revenue\": 0, \"budget\": 0, \"certification\": \"\"}, {\"imdb_id\": \"tt0403665\", \"revenue\": 0, \"budget\": 0, \"certification\": \"\"}, {\"imdb_id\": \"tt0403951\", \"revenue\": 0, \"budget\": 0, \"certification\": \"\"}, {\"imdb_id\": \"tt0411396\", \"revenue\": 0, \"budget\": 0, \"certification\": \"\"}, {\"imdb_id\": \"tt0422262\", \"revenue\": 0, \"budget\": 0, \"certification\": \"\"}, {\"imdb_id\": \"tt0422984\", \"revenue\": 0, \"budget\": 0, \"certification\": \"\"}, {\"imdb_id\": \"tt0432057\", \"revenue\": 0, \"budget\": 0, \"certification\": \"NR\"}, {\"imdb_id\": \"tt0433683\", \"revenue\": 0, \"budget\": 0, \"certification\": \"\"}, {\"imdb_id\": \"tt0433694\", \"revenue\": 0, \"budget\": 30000, \"certification\": \"\"}, {\"imdb_id\": \"tt0437149\", \"revenue\": 0, \"budget\": 0, \"certification\": \"\"}, {\"imdb_id\": \"tt0441667\", \"revenue\": 0, \"budget\": 0, \"certification\": \"\"}, {\"imdb_id\": \"tt0465920\", \"revenue\": 0, \"budget\": 0, \"certification\": \"\"}, {\"imdb_id\": \"tt0466842\", \"revenue\": 0, \"budget\": 0, \"certification\": \"\"}, {\"imdb_id\": \"tt0479028\", \"revenue\": 0, \"budget\": 0, \"certification\": \"\"}, {\"imdb_id\": \"tt0487759\", \"revenue\": 0, \"budget\": 0, \"certification\": \"\"}, {\"imdb_id\": \"tt0810831\", \"revenue\": 0, \"budget\": 0, \"certification\": \"G\"}, {\"imdb_id\": \"tt0832449\", \"revenue\": 0, \"budget\": 0, \"certification\": \"PG-13\"}, {\"imdb_id\": \"tt0867181\", \"revenue\": 0, \"budget\": 5000, \"certification\": \"\"}, {\"imdb_id\": \"tt0880482\", \"revenue\": 0, \"budget\": 0, \"certification\": \"\"}, {\"imdb_id\": \"tt1073223\", \"revenue\": 0, \"budget\": 0, \"certification\": \"PG-13\"}, {\"imdb_id\": \"tt1087646\", \"revenue\": 0, \"budget\": 0, \"certification\": \"\"}, {\"imdb_id\": \"tt14234708\", \"revenue\": 0, \"budget\": 0, \"certification\": \"\"}, {\"imdb_id\": \"tt1764172\", \"revenue\": 0, \"budget\": 250000, \"certification\": \"\"}, {\"imdb_id\": \"tt1900940\", \"revenue\": 0, \"budget\": 0, \"certification\": \"\"}, {\"imdb_id\": \"tt1924315\", \"revenue\": 0, \"budget\": 0, \"certification\": \"\"}, {\"imdb_id\": \"tt19637696\", \"revenue\": 0, \"budget\": 0, \"certification\": \"\"}, {\"imdb_id\": \"tt2032554\", \"revenue\": 0, \"budget\": 0, \"certification\": \"\"}, {\"imdb_id\": \"tt2253998\", \"revenue\": 0, \"budget\": 0, \"certification\": \"\"}, {\"imdb_id\": \"tt2487986\", \"revenue\": 0, \"budget\": 0, \"certification\": \"\"}, {\"imdb_id\": \"tt27054330\", \"revenue\": 0, \"budget\": 0, \"certification\": \"\"}, {\"imdb_id\": \"tt2957918\", \"revenue\": 0, \"budget\": 2000, \"certification\": \"\"}, {\"imdb_id\": \"tt2960870\", \"revenue\": 0, \"budget\": 0, \"certification\": \"\"}, {\"imdb_id\": \"tt3041064\", \"revenue\": 0, \"budget\": 0, \"certification\": \"NR\"}, {\"imdb_id\": \"tt3162630\", \"revenue\": 0, \"budget\": 0, \"certification\": \"\"}, {\"imdb_id\": \"tt3314212\", \"revenue\": 0, \"budget\": 250000, \"certification\": \"\"}, {\"imdb_id\": \"tt4165204\", \"revenue\": 0, \"budget\": 0, \"certification\": \"\"}, {\"imdb_id\": \"tt8665056\", \"revenue\": 0, \"budget\": 0, \"certification\": \"\"}, {\"imdb_id\": \"tt8795764\", \"revenue\": 0, \"budget\": 0, \"certification\": \"NR\"}]\n"
     ]
    }
   ],
   "source": [
    "# Load in the dataframe from project part 1 as basics:\n",
    "basics_url =\"Data/filtered_title_basic.csv.gz\"\n",
    "basics = pd.read_csv(basics_url,  low_memory=False)\n",
    "\n",
    "# Create Required Lists for the Loop\n",
    "#YEARS_TO_GET = [2000, 2001,2002,2003,2004,2005,2006,2007,2008,2009,2010,2011,2012,2013,2014,2015,2016,2017,2018,2019,2020,2021]\n",
    "YEARS_TO_GET = [2000, 2001]\n",
    "errors = []\n",
    "\n",
    "# Start OUTER loop\n",
    "for YEAR in tqdm_notebook(YEARS_TO_GET, desc='YEARS', position=0):\n",
    "    \n",
    "    # Define the folder to store results\n",
    "    FOLDER = \"Data/\"\n",
    "    os.makedirs(FOLDER, exist_ok=True)\n",
    "    os.listdir(FOLDER)\n",
    "\n",
    "    # Define the JSON file to store results for the year\n",
    "    JSON_FILE = f'{FOLDER}tmdb_api_results_{YEAR}.json'\n",
    "    \n",
    "    # Check if the file exists\n",
    "    file_exists = os.path.isfile(JSON_FILE)\n",
    "    \n",
    "    # If it does not exist: create it\n",
    "    if not file_exists:\n",
    "        with open(JSON_FILE, 'w') as f:\n",
    "            json.dump([{'imdb_id': 0}], f)\n",
    "    \n",
    "    # Define/filter the IDs to call\n",
    "    df = basics.loc[basics['startYear'] == YEAR].copy()\n",
    "    movie_ids = df['tconst'].copy()\n",
    "    \n",
    "    # Load existing data from json into a dataframe called \"previous_df\"\n",
    "    previous_df = pd.read_json(JSON_FILE)\n",
    "    \n",
    "    # Check for and filter out movie IDs that already exist\n",
    "    movie_ids_to_get = movie_ids[~movie_ids.isin(previous_df['imdb_id'])]\n",
    "    \n",
    "    # Start INNER Loop\n",
    "    for movie_id in tqdm_notebook(movie_ids_to_get,\n",
    "                              desc=f'Movies from {YEAR}',\n",
    "                              position=1,\n",
    "                              leave=True):\n",
    "        try:\n",
    "            temp = get_movie_with_rating(movie_id)\n",
    "            temp_filtered = {\n",
    "                    'imdb_id' : temp.get('imdb_id'),\n",
    "                    'revenue': temp.get('revenue'),\n",
    "                    'budget': temp.get('budget'),\n",
    "                    'certification': temp.get('certification')\n",
    "            }\n",
    "            write_json(temp_filtered, JSON_FILE)\n",
    "            time.sleep(0.02)\n",
    "        except Exception as e:\n",
    "            errors.append([movie_id, e])\n",
    "     # After the Inner Loop\n",
    "# Read the JSON file into a dataframe\n",
    "    print(f\"Contents of {JSON_FILE}:\")\n",
    "    with open(JSON_FILE, 'r') as f:\n",
    "        print(f.read())\n",
    "\n",
    "    #final_year_df = pd.read_json(JSON_FILE)\n",
    "       \n",
    "\n",
    "    # After the Inner Loop\n",
    "    # Read the JSON file into a dataframe\n",
    "    final_year_df = pd.read_json(JSON_FILE)\n",
    "    \n",
    "    # Save the year's results as csv.gz file\n",
    "    final_year_df.to_csv(f\"{FOLDER}final_tmdb_data_{YEAR}.csv.gz\", compression=\"gzip\", index=False)\n"
   ]
  },
  {
   "cell_type": "markdown",
   "id": "a9a20e8d-ad29-446f-8dad-f830f0ed37fe",
   "metadata": {},
   "source": [
    "### Combine Data"
   ]
  },
  {
   "cell_type": "code",
   "execution_count": 52,
   "id": "0d2ba66d-e7c9-44cd-9bdb-d3ed02bd8e59",
   "metadata": {},
   "outputs": [
    {
     "data": {
      "text/html": [
       "<div>\n",
       "<style scoped>\n",
       "    .dataframe tbody tr th:only-of-type {\n",
       "        vertical-align: middle;\n",
       "    }\n",
       "\n",
       "    .dataframe tbody tr th {\n",
       "        vertical-align: top;\n",
       "    }\n",
       "\n",
       "    .dataframe thead th {\n",
       "        text-align: right;\n",
       "    }\n",
       "</style>\n",
       "<table border=\"1\" class=\"dataframe\">\n",
       "  <thead>\n",
       "    <tr style=\"text-align: right;\">\n",
       "      <th></th>\n",
       "      <th>imdb_id</th>\n",
       "      <th>revenue</th>\n",
       "      <th>budget</th>\n",
       "      <th>certification</th>\n",
       "    </tr>\n",
       "  </thead>\n",
       "  <tbody>\n",
       "    <tr>\n",
       "      <th>0</th>\n",
       "      <td>0</td>\n",
       "      <td>NaN</td>\n",
       "      <td>NaN</td>\n",
       "      <td>NaN</td>\n",
       "    </tr>\n",
       "    <tr>\n",
       "      <th>1</th>\n",
       "      <td>tt0113026</td>\n",
       "      <td>0.0</td>\n",
       "      <td>10000000.0</td>\n",
       "      <td>NaN</td>\n",
       "    </tr>\n",
       "    <tr>\n",
       "      <th>2</th>\n",
       "      <td>tt0113092</td>\n",
       "      <td>0.0</td>\n",
       "      <td>0.0</td>\n",
       "      <td>NaN</td>\n",
       "    </tr>\n",
       "    <tr>\n",
       "      <th>3</th>\n",
       "      <td>tt0118694</td>\n",
       "      <td>14204632.0</td>\n",
       "      <td>150000.0</td>\n",
       "      <td>PG</td>\n",
       "    </tr>\n",
       "    <tr>\n",
       "      <th>4</th>\n",
       "      <td>tt0118852</td>\n",
       "      <td>0.0</td>\n",
       "      <td>0.0</td>\n",
       "      <td>R</td>\n",
       "    </tr>\n",
       "  </tbody>\n",
       "</table>\n",
       "</div>"
      ],
      "text/plain": [
       "     imdb_id     revenue      budget certification\n",
       "0          0         NaN         NaN           NaN\n",
       "1  tt0113026         0.0  10000000.0           NaN\n",
       "2  tt0113092         0.0         0.0           NaN\n",
       "3  tt0118694  14204632.0    150000.0            PG\n",
       "4  tt0118852         0.0         0.0             R"
      ]
     },
     "execution_count": 52,
     "metadata": {},
     "output_type": "execute_result"
    }
   ],
   "source": [
    "# Define the folder where CSV files are stored\n",
    "folder = \"Data/\"\n",
    "\n",
    "# Find all CSV files in the folder\n",
    "csv_files = glob.glob(f\"{folder}final_tmdb_data_*.csv.gz\")\n",
    "\n",
    "# Initialize an empty list to store dataframes\n",
    "dfs = []\n",
    "\n",
    "# Load and concatenate each CSV file\n",
    "for csv_file in csv_files:\n",
    "    df = pd.read_csv(csv_file, compression=\"gzip\")\n",
    "    dfs.append(df)\n",
    "\n",
    "# Concatenate all dataframes into one\n",
    "combined_df = pd.concat(dfs, ignore_index=True)\n",
    "\n",
    "# Display the combined dataframe\n",
    "combined_df.head()"
   ]
  },
  {
   "cell_type": "markdown",
   "id": "acacec37-5461-4b41-8c87-8f5d6b30ef8d",
   "metadata": {},
   "source": [
    "***Save Combined Data***"
   ]
  },
  {
   "cell_type": "code",
   "execution_count": 53,
   "id": "1a35d985-2949-4d6d-9ab7-b138a7eb2a57",
   "metadata": {},
   "outputs": [],
   "source": [
    "combined_df.to_csv(f\"{folder}combined_tmdb_data.csv.gz\", compression=\"gzip\", index=False)"
   ]
  },
  {
   "cell_type": "markdown",
   "id": "e29c6067-062a-43af-8873-b6eefd8a75d7",
   "metadata": {},
   "source": [
    "***Exploratory Data Analysis***"
   ]
  },
  {
   "cell_type": "code",
   "execution_count": 54,
   "id": "ef69bc76-fbe3-49ed-8b21-316a2aff1ab2",
   "metadata": {},
   "outputs": [
    {
     "name": "stdout",
     "output_type": "stream",
     "text": [
      "Number of movies with valid financial information: 569\n"
     ]
    }
   ],
   "source": [
    "# Task 1: Count movies with valid financial information\n",
    "valid_financial_info_movies = combined_df[(combined_df['budget'] > 0) | (combined_df['revenue'] > 0)]\n",
    "num_movies_with_valid_financial_info = len(valid_financial_info_movies)\n",
    "print(f\"Number of movies with valid financial information: {num_movies_with_valid_financial_info}\")"
   ]
  },
  {
   "cell_type": "code",
   "execution_count": 55,
   "id": "bfaf97ae-a359-47bc-bc65-f2e49d0c3748",
   "metadata": {},
   "outputs": [
    {
     "name": "stdout",
     "output_type": "stream",
     "text": [
      "Number of movies in each certification category:\n",
      "R          449\n",
      "PG-13      173\n",
      "NR          68\n",
      "PG          60\n",
      "G           24\n",
      "NC-17        5\n",
      "Unrated      1\n",
      "Name: certification, dtype: int64\n"
     ]
    }
   ],
   "source": [
    "# Task 2: Count movies in each certification category\n",
    "certification_counts = combined_df['certification'].value_counts()\n",
    "print(\"Number of movies in each certification category:\")\n",
    "print(certification_counts)"
   ]
  },
  {
   "cell_type": "code",
   "execution_count": 56,
   "id": "7ed65f55-90dd-49c1-b048-b42c320a4454",
   "metadata": {},
   "outputs": [
    {
     "name": "stdout",
     "output_type": "stream",
     "text": [
      "Average revenue per certification category:\n",
      "certification\n",
      "G        110,957,400\n",
      "NR         5,311,700\n",
      "PG        98,197,389\n",
      "PG-13     92,298,695\n",
      "R         31,755,247\n",
      "Name: revenue, dtype: object\n"
     ]
    }
   ],
   "source": [
    "# Task 3: Average revenue per certification category (excluding 0 values)\n",
    "average_revenue_per_certification = valid_financial_info_movies.groupby('certification')['revenue'].mean()\n",
    "locale.setlocale(locale.LC_NUMERIC, 'en_US.UTF-8')\n",
    "\n",
    "# Format the numbers for better readability\n",
    "average_revenue_per_certification_formatted = average_revenue_per_certification.apply(lambda x: locale.format_string(\"%d\", x, grouping=True))\n",
    "\n",
    "# Print the formatted results\n",
    "print(\"Average revenue per certification category:\")\n",
    "print(average_revenue_per_certification_formatted)"
   ]
  },
  {
   "cell_type": "code",
   "execution_count": 57,
   "id": "538915b4-6081-4bc0-8717-46cca083eca5",
   "metadata": {},
   "outputs": [
    {
     "name": "stdout",
     "output_type": "stream",
     "text": [
      "Average budget per certification category:\n",
      "certification\n",
      "G        35,750,000\n",
      "NR        2,259,649\n",
      "PG       40,514,206\n",
      "PG-13    42,407,788\n",
      "R        19,060,474\n",
      "Name: budget, dtype: object\n"
     ]
    }
   ],
   "source": [
    "# Task 4: Average budget per certification category (excluding 0 values)\n",
    "average_budget_per_certification = valid_financial_info_movies.groupby('certification')['budget'].mean()\n",
    "average_budget_per_certification_formatted = average_budget_per_certification.apply(lambda x: locale.format_string(\"%d\", x, grouping=True))\n",
    "\n",
    "print(\"Average budget per certification category:\")\n",
    "print(average_budget_per_certification_formatted)"
   ]
  },
  {
   "cell_type": "markdown",
   "id": "b64c9f6a-2871-4234-a6ce-93db6b373fd5",
   "metadata": {},
   "source": [
    "## Part 3"
   ]
  },
  {
   "cell_type": "markdown",
   "id": "a2e036c2-a814-4635-8467-d33505c9e71c",
   "metadata": {},
   "source": [
    "### Import Data"
   ]
  },
  {
   "cell_type": "code",
   "execution_count": 58,
   "id": "98efac59-6b4e-40ca-8a84-faade7dc4234",
   "metadata": {},
   "outputs": [
    {
     "data": {
      "text/html": [
       "<div>\n",
       "<style scoped>\n",
       "    .dataframe tbody tr th:only-of-type {\n",
       "        vertical-align: middle;\n",
       "    }\n",
       "\n",
       "    .dataframe tbody tr th {\n",
       "        vertical-align: top;\n",
       "    }\n",
       "\n",
       "    .dataframe thead th {\n",
       "        text-align: right;\n",
       "    }\n",
       "</style>\n",
       "<table border=\"1\" class=\"dataframe\">\n",
       "  <thead>\n",
       "    <tr style=\"text-align: right;\">\n",
       "      <th></th>\n",
       "      <th>tconst</th>\n",
       "      <th>titleType</th>\n",
       "      <th>primaryTitle</th>\n",
       "      <th>originalTitle</th>\n",
       "      <th>isAdult</th>\n",
       "      <th>startYear</th>\n",
       "      <th>endYear</th>\n",
       "      <th>runtimeMinutes</th>\n",
       "      <th>genres</th>\n",
       "    </tr>\n",
       "  </thead>\n",
       "  <tbody>\n",
       "    <tr>\n",
       "      <th>0</th>\n",
       "      <td>tt0035423</td>\n",
       "      <td>movie</td>\n",
       "      <td>Kate &amp; Leopold</td>\n",
       "      <td>Kate &amp; Leopold</td>\n",
       "      <td>0</td>\n",
       "      <td>2001.0</td>\n",
       "      <td>NaN</td>\n",
       "      <td>118</td>\n",
       "      <td>Comedy,Fantasy,Romance</td>\n",
       "    </tr>\n",
       "    <tr>\n",
       "      <th>1</th>\n",
       "      <td>tt0062336</td>\n",
       "      <td>movie</td>\n",
       "      <td>The Tango of the Widower and Its Distorting Mi...</td>\n",
       "      <td>El tango del viudo y su espejo deformante</td>\n",
       "      <td>0</td>\n",
       "      <td>2020.0</td>\n",
       "      <td>NaN</td>\n",
       "      <td>70</td>\n",
       "      <td>Drama</td>\n",
       "    </tr>\n",
       "    <tr>\n",
       "      <th>2</th>\n",
       "      <td>tt0069049</td>\n",
       "      <td>movie</td>\n",
       "      <td>The Other Side of the Wind</td>\n",
       "      <td>The Other Side of the Wind</td>\n",
       "      <td>0</td>\n",
       "      <td>2018.0</td>\n",
       "      <td>NaN</td>\n",
       "      <td>122</td>\n",
       "      <td>Drama</td>\n",
       "    </tr>\n",
       "    <tr>\n",
       "      <th>3</th>\n",
       "      <td>tt0082328</td>\n",
       "      <td>movie</td>\n",
       "      <td>Embodiment of Evil</td>\n",
       "      <td>Encarnação do Demônio</td>\n",
       "      <td>0</td>\n",
       "      <td>2008.0</td>\n",
       "      <td>NaN</td>\n",
       "      <td>94</td>\n",
       "      <td>Horror</td>\n",
       "    </tr>\n",
       "    <tr>\n",
       "      <th>4</th>\n",
       "      <td>tt0088751</td>\n",
       "      <td>movie</td>\n",
       "      <td>The Naked Monster</td>\n",
       "      <td>The Naked Monster</td>\n",
       "      <td>0</td>\n",
       "      <td>2005.0</td>\n",
       "      <td>NaN</td>\n",
       "      <td>100</td>\n",
       "      <td>Comedy,Horror,Sci-Fi</td>\n",
       "    </tr>\n",
       "  </tbody>\n",
       "</table>\n",
       "</div>"
      ],
      "text/plain": [
       "      tconst titleType                                       primaryTitle  \\\n",
       "0  tt0035423     movie                                     Kate & Leopold   \n",
       "1  tt0062336     movie  The Tango of the Widower and Its Distorting Mi...   \n",
       "2  tt0069049     movie                         The Other Side of the Wind   \n",
       "3  tt0082328     movie                                 Embodiment of Evil   \n",
       "4  tt0088751     movie                                  The Naked Monster   \n",
       "\n",
       "                               originalTitle  isAdult  startYear  endYear  \\\n",
       "0                             Kate & Leopold        0     2001.0      NaN   \n",
       "1  El tango del viudo y su espejo deformante        0     2020.0      NaN   \n",
       "2                 The Other Side of the Wind        0     2018.0      NaN   \n",
       "3                      Encarnação do Demônio        0     2008.0      NaN   \n",
       "4                          The Naked Monster        0     2005.0      NaN   \n",
       "\n",
       "   runtimeMinutes                  genres  \n",
       "0             118  Comedy,Fantasy,Romance  \n",
       "1              70                   Drama  \n",
       "2             122                   Drama  \n",
       "3              94                  Horror  \n",
       "4             100    Comedy,Horror,Sci-Fi  "
      ]
     },
     "execution_count": 58,
     "metadata": {},
     "output_type": "execute_result"
    }
   ],
   "source": [
    "# Read in title Basics.tsv\n",
    "basics =\"Data/filtered_title_basic.csv.gz\"\n",
    "\n",
    "filtered_title_basic_df = pd.read_csv(basics, low_memory=False)\n",
    "filtered_title_basic_df_copy = pd.read_csv(basics, low_memory=False)\n",
    "filtered_title_basic_df.head()"
   ]
  },
  {
   "cell_type": "code",
   "execution_count": 59,
   "id": "44dff89a-22a8-4f29-a8a8-d8aacbe93c0e",
   "metadata": {},
   "outputs": [
    {
     "data": {
      "text/html": [
       "<div>\n",
       "<style scoped>\n",
       "    .dataframe tbody tr th:only-of-type {\n",
       "        vertical-align: middle;\n",
       "    }\n",
       "\n",
       "    .dataframe tbody tr th {\n",
       "        vertical-align: top;\n",
       "    }\n",
       "\n",
       "    .dataframe thead th {\n",
       "        text-align: right;\n",
       "    }\n",
       "</style>\n",
       "<table border=\"1\" class=\"dataframe\">\n",
       "  <thead>\n",
       "    <tr style=\"text-align: right;\">\n",
       "      <th></th>\n",
       "      <th>tconst</th>\n",
       "      <th>averageRating</th>\n",
       "      <th>numVotes</th>\n",
       "    </tr>\n",
       "  </thead>\n",
       "  <tbody>\n",
       "    <tr>\n",
       "      <th>0</th>\n",
       "      <td>tt0035423</td>\n",
       "      <td>6.4</td>\n",
       "      <td>87937</td>\n",
       "    </tr>\n",
       "    <tr>\n",
       "      <th>1</th>\n",
       "      <td>tt0062336</td>\n",
       "      <td>6.4</td>\n",
       "      <td>183</td>\n",
       "    </tr>\n",
       "    <tr>\n",
       "      <th>2</th>\n",
       "      <td>tt0069049</td>\n",
       "      <td>6.7</td>\n",
       "      <td>7873</td>\n",
       "    </tr>\n",
       "    <tr>\n",
       "      <th>3</th>\n",
       "      <td>tt0082328</td>\n",
       "      <td>5.9</td>\n",
       "      <td>1758</td>\n",
       "    </tr>\n",
       "    <tr>\n",
       "      <th>4</th>\n",
       "      <td>tt0088751</td>\n",
       "      <td>5.3</td>\n",
       "      <td>344</td>\n",
       "    </tr>\n",
       "  </tbody>\n",
       "</table>\n",
       "</div>"
      ],
      "text/plain": [
       "      tconst  averageRating  numVotes\n",
       "0  tt0035423            6.4     87937\n",
       "1  tt0062336            6.4       183\n",
       "2  tt0069049            6.7      7873\n",
       "3  tt0082328            5.9      1758\n",
       "4  tt0088751            5.3       344"
      ]
     },
     "execution_count": 59,
     "metadata": {},
     "output_type": "execute_result"
    }
   ],
   "source": [
    "# Read in title Basics.tsv\n",
    "basics2 =\"Data/filtered_title_ratings.csv.gz\"\n",
    "\n",
    "filtered_title_ratings_df = pd.read_csv(basics2, low_memory=False)\n",
    "filtered_title_ratings_df.head()"
   ]
  },
  {
   "cell_type": "markdown",
   "id": "5a110fad-aad6-43f9-bedc-d94ce04b8fe6",
   "metadata": {},
   "source": [
    "### Getting a List of Unique Genres"
   ]
  },
  {
   "cell_type": "code",
   "execution_count": 60,
   "id": "d028774b-35fc-4e0e-9379-f6f38f149d52",
   "metadata": {},
   "outputs": [
    {
     "data": {
      "text/html": [
       "<div>\n",
       "<style scoped>\n",
       "    .dataframe tbody tr th:only-of-type {\n",
       "        vertical-align: middle;\n",
       "    }\n",
       "\n",
       "    .dataframe tbody tr th {\n",
       "        vertical-align: top;\n",
       "    }\n",
       "\n",
       "    .dataframe thead th {\n",
       "        text-align: right;\n",
       "    }\n",
       "</style>\n",
       "<table border=\"1\" class=\"dataframe\">\n",
       "  <thead>\n",
       "    <tr style=\"text-align: right;\">\n",
       "      <th></th>\n",
       "      <th>tconst</th>\n",
       "      <th>titleType</th>\n",
       "      <th>primaryTitle</th>\n",
       "      <th>originalTitle</th>\n",
       "      <th>isAdult</th>\n",
       "      <th>startYear</th>\n",
       "      <th>endYear</th>\n",
       "      <th>runtimeMinutes</th>\n",
       "      <th>genres</th>\n",
       "      <th>genres_split</th>\n",
       "    </tr>\n",
       "  </thead>\n",
       "  <tbody>\n",
       "    <tr>\n",
       "      <th>0</th>\n",
       "      <td>tt0035423</td>\n",
       "      <td>movie</td>\n",
       "      <td>Kate &amp; Leopold</td>\n",
       "      <td>Kate &amp; Leopold</td>\n",
       "      <td>0</td>\n",
       "      <td>2001.0</td>\n",
       "      <td>NaN</td>\n",
       "      <td>118</td>\n",
       "      <td>Comedy,Fantasy,Romance</td>\n",
       "      <td>[Comedy, Fantasy, Romance]</td>\n",
       "    </tr>\n",
       "    <tr>\n",
       "      <th>1</th>\n",
       "      <td>tt0062336</td>\n",
       "      <td>movie</td>\n",
       "      <td>The Tango of the Widower and Its Distorting Mi...</td>\n",
       "      <td>El tango del viudo y su espejo deformante</td>\n",
       "      <td>0</td>\n",
       "      <td>2020.0</td>\n",
       "      <td>NaN</td>\n",
       "      <td>70</td>\n",
       "      <td>Drama</td>\n",
       "      <td>[Drama]</td>\n",
       "    </tr>\n",
       "    <tr>\n",
       "      <th>2</th>\n",
       "      <td>tt0069049</td>\n",
       "      <td>movie</td>\n",
       "      <td>The Other Side of the Wind</td>\n",
       "      <td>The Other Side of the Wind</td>\n",
       "      <td>0</td>\n",
       "      <td>2018.0</td>\n",
       "      <td>NaN</td>\n",
       "      <td>122</td>\n",
       "      <td>Drama</td>\n",
       "      <td>[Drama]</td>\n",
       "    </tr>\n",
       "    <tr>\n",
       "      <th>3</th>\n",
       "      <td>tt0082328</td>\n",
       "      <td>movie</td>\n",
       "      <td>Embodiment of Evil</td>\n",
       "      <td>Encarnação do Demônio</td>\n",
       "      <td>0</td>\n",
       "      <td>2008.0</td>\n",
       "      <td>NaN</td>\n",
       "      <td>94</td>\n",
       "      <td>Horror</td>\n",
       "      <td>[Horror]</td>\n",
       "    </tr>\n",
       "    <tr>\n",
       "      <th>4</th>\n",
       "      <td>tt0088751</td>\n",
       "      <td>movie</td>\n",
       "      <td>The Naked Monster</td>\n",
       "      <td>The Naked Monster</td>\n",
       "      <td>0</td>\n",
       "      <td>2005.0</td>\n",
       "      <td>NaN</td>\n",
       "      <td>100</td>\n",
       "      <td>Comedy,Horror,Sci-Fi</td>\n",
       "      <td>[Comedy, Horror, Sci-Fi]</td>\n",
       "    </tr>\n",
       "  </tbody>\n",
       "</table>\n",
       "</div>"
      ],
      "text/plain": [
       "      tconst titleType                                       primaryTitle  \\\n",
       "0  tt0035423     movie                                     Kate & Leopold   \n",
       "1  tt0062336     movie  The Tango of the Widower and Its Distorting Mi...   \n",
       "2  tt0069049     movie                         The Other Side of the Wind   \n",
       "3  tt0082328     movie                                 Embodiment of Evil   \n",
       "4  tt0088751     movie                                  The Naked Monster   \n",
       "\n",
       "                               originalTitle  isAdult  startYear  endYear  \\\n",
       "0                             Kate & Leopold        0     2001.0      NaN   \n",
       "1  El tango del viudo y su espejo deformante        0     2020.0      NaN   \n",
       "2                 The Other Side of the Wind        0     2018.0      NaN   \n",
       "3                      Encarnação do Demônio        0     2008.0      NaN   \n",
       "4                          The Naked Monster        0     2005.0      NaN   \n",
       "\n",
       "   runtimeMinutes                  genres                genres_split  \n",
       "0             118  Comedy,Fantasy,Romance  [Comedy, Fantasy, Romance]  \n",
       "1              70                   Drama                     [Drama]  \n",
       "2             122                   Drama                     [Drama]  \n",
       "3              94                  Horror                    [Horror]  \n",
       "4             100    Comedy,Horror,Sci-Fi    [Comedy, Horror, Sci-Fi]  "
      ]
     },
     "execution_count": 60,
     "metadata": {},
     "output_type": "execute_result"
    }
   ],
   "source": [
    "## create a col with a list of genres\n",
    "filtered_title_basic_df['genres_split'] = filtered_title_basic_df['genres'].str.split(',')\n",
    "filtered_title_basic_df.head()"
   ]
  },
  {
   "cell_type": "code",
   "execution_count": 61,
   "id": "1f485e01-3e3d-41d0-ae06-79e900d8ffcd",
   "metadata": {},
   "outputs": [
    {
     "data": {
      "text/html": [
       "<div>\n",
       "<style scoped>\n",
       "    .dataframe tbody tr th:only-of-type {\n",
       "        vertical-align: middle;\n",
       "    }\n",
       "\n",
       "    .dataframe tbody tr th {\n",
       "        vertical-align: top;\n",
       "    }\n",
       "\n",
       "    .dataframe thead th {\n",
       "        text-align: right;\n",
       "    }\n",
       "</style>\n",
       "<table border=\"1\" class=\"dataframe\">\n",
       "  <thead>\n",
       "    <tr style=\"text-align: right;\">\n",
       "      <th></th>\n",
       "      <th>tconst</th>\n",
       "      <th>titleType</th>\n",
       "      <th>primaryTitle</th>\n",
       "      <th>originalTitle</th>\n",
       "      <th>isAdult</th>\n",
       "      <th>startYear</th>\n",
       "      <th>endYear</th>\n",
       "      <th>runtimeMinutes</th>\n",
       "      <th>genres</th>\n",
       "      <th>genres_split</th>\n",
       "    </tr>\n",
       "  </thead>\n",
       "  <tbody>\n",
       "    <tr>\n",
       "      <th>0</th>\n",
       "      <td>tt0035423</td>\n",
       "      <td>movie</td>\n",
       "      <td>Kate &amp; Leopold</td>\n",
       "      <td>Kate &amp; Leopold</td>\n",
       "      <td>0</td>\n",
       "      <td>2001.0</td>\n",
       "      <td>NaN</td>\n",
       "      <td>118</td>\n",
       "      <td>Comedy,Fantasy,Romance</td>\n",
       "      <td>Comedy</td>\n",
       "    </tr>\n",
       "    <tr>\n",
       "      <th>0</th>\n",
       "      <td>tt0035423</td>\n",
       "      <td>movie</td>\n",
       "      <td>Kate &amp; Leopold</td>\n",
       "      <td>Kate &amp; Leopold</td>\n",
       "      <td>0</td>\n",
       "      <td>2001.0</td>\n",
       "      <td>NaN</td>\n",
       "      <td>118</td>\n",
       "      <td>Comedy,Fantasy,Romance</td>\n",
       "      <td>Fantasy</td>\n",
       "    </tr>\n",
       "    <tr>\n",
       "      <th>0</th>\n",
       "      <td>tt0035423</td>\n",
       "      <td>movie</td>\n",
       "      <td>Kate &amp; Leopold</td>\n",
       "      <td>Kate &amp; Leopold</td>\n",
       "      <td>0</td>\n",
       "      <td>2001.0</td>\n",
       "      <td>NaN</td>\n",
       "      <td>118</td>\n",
       "      <td>Comedy,Fantasy,Romance</td>\n",
       "      <td>Romance</td>\n",
       "    </tr>\n",
       "    <tr>\n",
       "      <th>1</th>\n",
       "      <td>tt0062336</td>\n",
       "      <td>movie</td>\n",
       "      <td>The Tango of the Widower and Its Distorting Mi...</td>\n",
       "      <td>El tango del viudo y su espejo deformante</td>\n",
       "      <td>0</td>\n",
       "      <td>2020.0</td>\n",
       "      <td>NaN</td>\n",
       "      <td>70</td>\n",
       "      <td>Drama</td>\n",
       "      <td>Drama</td>\n",
       "    </tr>\n",
       "    <tr>\n",
       "      <th>2</th>\n",
       "      <td>tt0069049</td>\n",
       "      <td>movie</td>\n",
       "      <td>The Other Side of the Wind</td>\n",
       "      <td>The Other Side of the Wind</td>\n",
       "      <td>0</td>\n",
       "      <td>2018.0</td>\n",
       "      <td>NaN</td>\n",
       "      <td>122</td>\n",
       "      <td>Drama</td>\n",
       "      <td>Drama</td>\n",
       "    </tr>\n",
       "  </tbody>\n",
       "</table>\n",
       "</div>"
      ],
      "text/plain": [
       "      tconst titleType                                       primaryTitle  \\\n",
       "0  tt0035423     movie                                     Kate & Leopold   \n",
       "0  tt0035423     movie                                     Kate & Leopold   \n",
       "0  tt0035423     movie                                     Kate & Leopold   \n",
       "1  tt0062336     movie  The Tango of the Widower and Its Distorting Mi...   \n",
       "2  tt0069049     movie                         The Other Side of the Wind   \n",
       "\n",
       "                               originalTitle  isAdult  startYear  endYear  \\\n",
       "0                             Kate & Leopold        0     2001.0      NaN   \n",
       "0                             Kate & Leopold        0     2001.0      NaN   \n",
       "0                             Kate & Leopold        0     2001.0      NaN   \n",
       "1  El tango del viudo y su espejo deformante        0     2020.0      NaN   \n",
       "2                 The Other Side of the Wind        0     2018.0      NaN   \n",
       "\n",
       "   runtimeMinutes                  genres genres_split  \n",
       "0             118  Comedy,Fantasy,Romance       Comedy  \n",
       "0             118  Comedy,Fantasy,Romance      Fantasy  \n",
       "0             118  Comedy,Fantasy,Romance      Romance  \n",
       "1              70                   Drama        Drama  \n",
       "2             122                   Drama        Drama  "
      ]
     },
     "execution_count": 61,
     "metadata": {},
     "output_type": "execute_result"
    }
   ],
   "source": [
    "#separate the list of genres into new rows: one row for each genre a movie belonged to.\n",
    "exploded_genres = filtered_title_basic_df.explode('genres_split')\n",
    "exploded_genres.head()"
   ]
  },
  {
   "cell_type": "code",
   "execution_count": 62,
   "id": "132e0990-fa30-42ee-b1ae-09e9c56afc1d",
   "metadata": {},
   "outputs": [
    {
     "data": {
      "text/plain": [
       "['Action',\n",
       " 'Adult',\n",
       " 'Adventure',\n",
       " 'Animation',\n",
       " 'Biography',\n",
       " 'Comedy',\n",
       " 'Crime',\n",
       " 'Drama',\n",
       " 'Family',\n",
       " 'Fantasy',\n",
       " 'Game-Show',\n",
       " 'History',\n",
       " 'Horror',\n",
       " 'Music',\n",
       " 'Musical',\n",
       " 'Mystery',\n",
       " 'News',\n",
       " 'Reality-TV',\n",
       " 'Romance',\n",
       " 'Sci-Fi',\n",
       " 'Sport',\n",
       " 'Talk-Show',\n",
       " 'Thriller',\n",
       " 'War',\n",
       " 'Western']"
      ]
     },
     "execution_count": 62,
     "metadata": {},
     "output_type": "execute_result"
    }
   ],
   "source": [
    "#get the unique genres from the genres_split colum\n",
    "unique_genres = sorted(exploded_genres['genres_split'].unique())\n",
    "unique_genres"
   ]
  },
  {
   "cell_type": "markdown",
   "id": "5ef98a75-4da1-4d3e-9f76-7b8db18ee63f",
   "metadata": {},
   "source": [
    "### Create a new title_genres table"
   ]
  },
  {
   "cell_type": "code",
   "execution_count": 63,
   "id": "3cc2a7f2-7cd7-4743-9561-e5bc378007e6",
   "metadata": {},
   "outputs": [
    {
     "data": {
      "text/html": [
       "<div>\n",
       "<style scoped>\n",
       "    .dataframe tbody tr th:only-of-type {\n",
       "        vertical-align: middle;\n",
       "    }\n",
       "\n",
       "    .dataframe tbody tr th {\n",
       "        vertical-align: top;\n",
       "    }\n",
       "\n",
       "    .dataframe thead th {\n",
       "        text-align: right;\n",
       "    }\n",
       "</style>\n",
       "<table border=\"1\" class=\"dataframe\">\n",
       "  <thead>\n",
       "    <tr style=\"text-align: right;\">\n",
       "      <th></th>\n",
       "      <th>tconst</th>\n",
       "      <th>genres_split</th>\n",
       "    </tr>\n",
       "  </thead>\n",
       "  <tbody>\n",
       "    <tr>\n",
       "      <th>0</th>\n",
       "      <td>tt0035423</td>\n",
       "      <td>Comedy</td>\n",
       "    </tr>\n",
       "    <tr>\n",
       "      <th>0</th>\n",
       "      <td>tt0035423</td>\n",
       "      <td>Fantasy</td>\n",
       "    </tr>\n",
       "    <tr>\n",
       "      <th>0</th>\n",
       "      <td>tt0035423</td>\n",
       "      <td>Romance</td>\n",
       "    </tr>\n",
       "    <tr>\n",
       "      <th>1</th>\n",
       "      <td>tt0062336</td>\n",
       "      <td>Drama</td>\n",
       "    </tr>\n",
       "    <tr>\n",
       "      <th>2</th>\n",
       "      <td>tt0069049</td>\n",
       "      <td>Drama</td>\n",
       "    </tr>\n",
       "  </tbody>\n",
       "</table>\n",
       "</div>"
      ],
      "text/plain": [
       "      tconst genres_split\n",
       "0  tt0035423       Comedy\n",
       "0  tt0035423      Fantasy\n",
       "0  tt0035423      Romance\n",
       "1  tt0062336        Drama\n",
       "2  tt0069049        Drama"
      ]
     },
     "execution_count": 63,
     "metadata": {},
     "output_type": "execute_result"
    }
   ],
   "source": [
    "#create a new title_genres from the exploded df.\n",
    "title_genres = exploded_genres[['tconst', 'genres_split']].copy()\n",
    "title_genres.head()"
   ]
  },
  {
   "cell_type": "markdown",
   "id": "775ef372-fbac-4309-a25f-33437255507b",
   "metadata": {},
   "source": [
    "### Create a genre mapper dictionary to replace string genres with integers"
   ]
  },
  {
   "cell_type": "code",
   "execution_count": 64,
   "id": "72ea6675-c1e2-4c6b-97d9-4da666e92562",
   "metadata": {},
   "outputs": [
    {
     "data": {
      "text/plain": [
       "{'Action': 0,\n",
       " 'Adult': 1,\n",
       " 'Adventure': 2,\n",
       " 'Animation': 3,\n",
       " 'Biography': 4,\n",
       " 'Comedy': 5,\n",
       " 'Crime': 6,\n",
       " 'Drama': 7,\n",
       " 'Family': 8,\n",
       " 'Fantasy': 9,\n",
       " 'Game-Show': 10,\n",
       " 'History': 11,\n",
       " 'Horror': 12,\n",
       " 'Music': 13,\n",
       " 'Musical': 14,\n",
       " 'Mystery': 15,\n",
       " 'News': 16,\n",
       " 'Reality-TV': 17,\n",
       " 'Romance': 18,\n",
       " 'Sci-Fi': 19,\n",
       " 'Sport': 20,\n",
       " 'Talk-Show': 21,\n",
       " 'Thriller': 22,\n",
       " 'War': 23,\n",
       " 'Western': 24}"
      ]
     },
     "execution_count": 64,
     "metadata": {},
     "output_type": "execute_result"
    }
   ],
   "source": [
    "## Making the genre mapper dictionary\n",
    "genre_ints = range(len(unique_genres))\n",
    "genre_map = dict(zip(unique_genres, genre_ints))\n",
    "genre_map"
   ]
  },
  {
   "cell_type": "markdown",
   "id": "80af9847-38b7-40e1-8e26-d7a5e7471ad8",
   "metadata": {},
   "source": [
    "### Replace the string genres in title_genres with the new integer ids."
   ]
  },
  {
   "cell_type": "code",
   "execution_count": 65,
   "id": "76fb61c2-44c6-4ce0-b023-50137f566f64",
   "metadata": {},
   "outputs": [
    {
     "data": {
      "text/html": [
       "<div>\n",
       "<style scoped>\n",
       "    .dataframe tbody tr th:only-of-type {\n",
       "        vertical-align: middle;\n",
       "    }\n",
       "\n",
       "    .dataframe tbody tr th {\n",
       "        vertical-align: top;\n",
       "    }\n",
       "\n",
       "    .dataframe thead th {\n",
       "        text-align: right;\n",
       "    }\n",
       "</style>\n",
       "<table border=\"1\" class=\"dataframe\">\n",
       "  <thead>\n",
       "    <tr style=\"text-align: right;\">\n",
       "      <th></th>\n",
       "      <th>tconst</th>\n",
       "      <th>genre_id</th>\n",
       "    </tr>\n",
       "  </thead>\n",
       "  <tbody>\n",
       "    <tr>\n",
       "      <th>0</th>\n",
       "      <td>tt0035423</td>\n",
       "      <td>5</td>\n",
       "    </tr>\n",
       "    <tr>\n",
       "      <th>0</th>\n",
       "      <td>tt0035423</td>\n",
       "      <td>9</td>\n",
       "    </tr>\n",
       "    <tr>\n",
       "      <th>0</th>\n",
       "      <td>tt0035423</td>\n",
       "      <td>18</td>\n",
       "    </tr>\n",
       "    <tr>\n",
       "      <th>1</th>\n",
       "      <td>tt0062336</td>\n",
       "      <td>7</td>\n",
       "    </tr>\n",
       "    <tr>\n",
       "      <th>2</th>\n",
       "      <td>tt0069049</td>\n",
       "      <td>7</td>\n",
       "    </tr>\n",
       "  </tbody>\n",
       "</table>\n",
       "</div>"
      ],
      "text/plain": [
       "      tconst  genre_id\n",
       "0  tt0035423         5\n",
       "0  tt0035423         9\n",
       "0  tt0035423        18\n",
       "1  tt0062336         7\n",
       "2  tt0069049         7"
      ]
     },
     "execution_count": 65,
     "metadata": {},
     "output_type": "execute_result"
    }
   ],
   "source": [
    "## make new integer genre_id and drop string genres\n",
    "title_genres['genre_id'] = title_genres['genres_split'].map(genre_map)\n",
    "title_genres = title_genres.drop(columns='genres_split')\n",
    "title_genres.head()"
   ]
  },
  {
   "cell_type": "markdown",
   "id": "911c8ef9-673d-4fcf-bcd3-31f1fa2de290",
   "metadata": {},
   "source": [
    "### Convert the genre map dictionary into a dataframe."
   ]
  },
  {
   "cell_type": "code",
   "execution_count": 66,
   "id": "a33fda89-16a1-4e19-8464-2def0816cb69",
   "metadata": {},
   "outputs": [
    {
     "data": {
      "text/html": [
       "<div>\n",
       "<style scoped>\n",
       "    .dataframe tbody tr th:only-of-type {\n",
       "        vertical-align: middle;\n",
       "    }\n",
       "\n",
       "    .dataframe tbody tr th {\n",
       "        vertical-align: top;\n",
       "    }\n",
       "\n",
       "    .dataframe thead th {\n",
       "        text-align: right;\n",
       "    }\n",
       "</style>\n",
       "<table border=\"1\" class=\"dataframe\">\n",
       "  <thead>\n",
       "    <tr style=\"text-align: right;\">\n",
       "      <th></th>\n",
       "      <th>Genre_Name</th>\n",
       "      <th>Genre_ID</th>\n",
       "    </tr>\n",
       "  </thead>\n",
       "  <tbody>\n",
       "    <tr>\n",
       "      <th>0</th>\n",
       "      <td>Action</td>\n",
       "      <td>0</td>\n",
       "    </tr>\n",
       "    <tr>\n",
       "      <th>1</th>\n",
       "      <td>Adult</td>\n",
       "      <td>1</td>\n",
       "    </tr>\n",
       "    <tr>\n",
       "      <th>2</th>\n",
       "      <td>Adventure</td>\n",
       "      <td>2</td>\n",
       "    </tr>\n",
       "    <tr>\n",
       "      <th>3</th>\n",
       "      <td>Animation</td>\n",
       "      <td>3</td>\n",
       "    </tr>\n",
       "    <tr>\n",
       "      <th>4</th>\n",
       "      <td>Biography</td>\n",
       "      <td>4</td>\n",
       "    </tr>\n",
       "  </tbody>\n",
       "</table>\n",
       "</div>"
      ],
      "text/plain": [
       "  Genre_Name  Genre_ID\n",
       "0     Action         0\n",
       "1      Adult         1\n",
       "2  Adventure         2\n",
       "3  Animation         3\n",
       "4  Biography         4"
      ]
     },
     "execution_count": 66,
     "metadata": {},
     "output_type": "execute_result"
    }
   ],
   "source": [
    "## make new integer genre_id and drop string genres\n",
    "genres = pd.DataFrame({'Genre_Name':genre_map.keys(),\n",
    "                             'Genre_ID':genre_map.values()})\n",
    "genres.head()"
   ]
  },
  {
   "cell_type": "markdown",
   "id": "a8b1f3a1-b947-4f52-b470-132347ec87dc",
   "metadata": {},
   "source": [
    "### Saving the MySQL tables with tconst as the primary key"
   ]
  },
  {
   "cell_type": "markdown",
   "id": "8ee025ca-4324-44dd-a34b-cd14e659ffa8",
   "metadata": {},
   "source": [
    "#### Saving title_basic"
   ]
  },
  {
   "cell_type": "code",
   "execution_count": 67,
   "id": "c599af67-a655-4332-8957-ec1c698e96c4",
   "metadata": {},
   "outputs": [],
   "source": [
    "## Calculate max string lengths for object columns\n",
    "key_len = filtered_title_basic_df['tconst'].fillna('').map(len).max()\n",
    "title_len = filtered_title_basic_df['primaryTitle'].fillna('').map(len).max()\n",
    "\n",
    "## Create a schema dictonary using Sqlalchemy datatype objects\n",
    "title_basic_schema = {\n",
    "    \"tconst\": String(key_len+1), \n",
    "    \"primaryTitle\": Text(title_len+1),\n",
    "    'startYear':Float(),\n",
    "    'endYear':Float(),\n",
    "    'runtimeMinutes':Integer()}"
   ]
  },
  {
   "cell_type": "code",
   "execution_count": 68,
   "id": "700fcaed-0dc1-4538-ba6e-51ad5dcb15fc",
   "metadata": {},
   "outputs": [
    {
     "ename": "NameError",
     "evalue": "name 'engine' is not defined",
     "output_type": "error",
     "traceback": [
      "\u001b[0;31m---------------------------------------------------------------------------\u001b[0m",
      "\u001b[0;31mNameError\u001b[0m                                 Traceback (most recent call last)",
      "Cell \u001b[0;32mIn[68], line 2\u001b[0m\n\u001b[1;32m      1\u001b[0m \u001b[38;5;66;03m# Save to sql with dtype and index=False\u001b[39;00m\n\u001b[0;32m----> 2\u001b[0m filtered_title_basic_df_copy\u001b[38;5;241m.\u001b[39mto_sql(\u001b[38;5;124m'\u001b[39m\u001b[38;5;124mtitle_basics\u001b[39m\u001b[38;5;124m'\u001b[39m,\u001b[43mengine\u001b[49m,dtype\u001b[38;5;241m=\u001b[39mtitle_basic_schema,if_exists\u001b[38;5;241m=\u001b[39m\u001b[38;5;124m'\u001b[39m\u001b[38;5;124mreplace\u001b[39m\u001b[38;5;124m'\u001b[39m,index\u001b[38;5;241m=\u001b[39m\u001b[38;5;28;01mFalse\u001b[39;00m)\n",
      "\u001b[0;31mNameError\u001b[0m: name 'engine' is not defined"
     ]
    }
   ],
   "source": [
    "# Save to sql with dtype and index=False\n",
    "filtered_title_basic_df_copy.to_sql('title_basics',engine,dtype=title_basic_schema,if_exists='replace',index=False)"
   ]
  },
  {
   "cell_type": "markdown",
   "id": "84360d1e-4bde-49dd-b407-7cde4c0eb765",
   "metadata": {},
   "source": [
    "#### Saving title_ratings"
   ]
  },
  {
   "cell_type": "code",
   "execution_count": null,
   "id": "09ee3563-7ea7-42da-b410-9c1d9e48abd9",
   "metadata": {},
   "outputs": [],
   "source": [
    "# Create a schema dictonary using Sqlalchemy datatype objects\n",
    "title_rating_schema = {\n",
    "    \"tconst\": String(key_len+1), \n",
    "    'averageRating':Float(),\n",
    "    'numVotes':Integer()}\n",
    "\n",
    "filtered_title_ratings_df.to_sql('title_ratings',engine,dtype=title_rating_schema,if_exists='replace',index=False)"
   ]
  },
  {
   "cell_type": "markdown",
   "id": "bba91cf3-1ea1-4a61-b86c-4021cc1b52d8",
   "metadata": {},
   "source": [
    "#### Saving title_genres"
   ]
  },
  {
   "cell_type": "code",
   "execution_count": null,
   "id": "85b51c81-e3ec-4d82-baa8-9846aaa955b5",
   "metadata": {},
   "outputs": [],
   "source": [
    "title_genres.to_sql('title_genres',engine,if_exists='replace',index=False)\n"
   ]
  },
  {
   "cell_type": "markdown",
   "id": "8f96db25-11ce-4155-966d-8e6feeeab653",
   "metadata": {},
   "source": [
    "#### Saving genres"
   ]
  },
  {
   "cell_type": "code",
   "execution_count": null,
   "id": "ced3f06f-55a6-4b52-b7bf-4633bc41fbda",
   "metadata": {},
   "outputs": [],
   "source": [
    "## Set the dataframe index and use index=True \n",
    "genres.set_index('Genre_ID').to_sql('genres',engine,index=True)"
   ]
  },
  {
   "cell_type": "markdown",
   "id": "d38dbc02-10a1-4b39-88dc-616f10488dc0",
   "metadata": {},
   "source": [
    "### Query the Database tables"
   ]
  },
  {
   "cell_type": "markdown",
   "id": "c1332fda-d782-4a24-9d78-b55e4ea68b39",
   "metadata": {},
   "source": [
    "***querying title basics***"
   ]
  },
  {
   "cell_type": "code",
   "execution_count": null,
   "id": "4dda1e8b-4930-4971-b519-303d95845088",
   "metadata": {},
   "outputs": [],
   "source": [
    "title_basics_query = \"\"\"SELECT *\n",
    "            FROM Movies.title_basics\n",
    "            LIMIT 5;\n",
    "        \"\"\"\n",
    "pd.read_sql(title_basics_query, engine)\n"
   ]
  },
  {
   "cell_type": "markdown",
   "id": "44bd5c2e-ff9d-45ac-b2bc-e538392c8160",
   "metadata": {},
   "source": [
    "***querying title ratings***"
   ]
  },
  {
   "cell_type": "code",
   "execution_count": null,
   "id": "e02a2dc4-d915-46c1-a989-768caa732b56",
   "metadata": {},
   "outputs": [],
   "source": [
    "title_ratings_query = \"\"\"SELECT *\n",
    "            FROM Movies.title_ratings\n",
    "            LIMIT 5;\n",
    "        \"\"\"\n",
    "pd.read_sql(title_ratings_query, engine)\n"
   ]
  },
  {
   "cell_type": "markdown",
   "id": "fa601228-90f3-4214-b741-1869d4039506",
   "metadata": {},
   "source": [
    "***querying genres***"
   ]
  },
  {
   "cell_type": "code",
   "execution_count": null,
   "id": "5d89af63-6c3a-4438-b4a1-7aab15bb383d",
   "metadata": {},
   "outputs": [],
   "source": [
    "genre_query = \"\"\"SELECT *\n",
    "            FROM Movies.genres\n",
    "            LIMIT 5;\n",
    "        \"\"\"\n",
    "pd.read_sql(genre_query, engine)\n"
   ]
  },
  {
   "cell_type": "markdown",
   "id": "c8b0233b-41a8-4082-91fe-8cb340cd1f1c",
   "metadata": {},
   "source": [
    "***querying title genres***"
   ]
  },
  {
   "cell_type": "code",
   "execution_count": null,
   "id": "aa0a3c02-3239-44bf-ba02-dea08cd2308a",
   "metadata": {},
   "outputs": [],
   "source": [
    "title_genres_query = \"\"\"SELECT *\n",
    "            FROM Movies.title_genres\n",
    "            LIMIT 5;\n",
    "        \"\"\"\n",
    "pd.read_sql(title_genres_query, engine)\n"
   ]
  },
  {
   "cell_type": "code",
   "execution_count": null,
   "id": "897c0c35-534e-4c46-979c-cd7d870c70d7",
   "metadata": {},
   "outputs": [],
   "source": []
  }
 ],
 "metadata": {
  "kernelspec": {
   "display_name": "Python (dojo-env)",
   "language": "python",
   "name": "dojo-env"
  },
  "language_info": {
   "codemirror_mode": {
    "name": "ipython",
    "version": 3
   },
   "file_extension": ".py",
   "mimetype": "text/x-python",
   "name": "python",
   "nbconvert_exporter": "python",
   "pygments_lexer": "ipython3",
   "version": "3.10.10"
  }
 },
 "nbformat": 4,
 "nbformat_minor": 5
}
