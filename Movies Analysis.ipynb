{
 "cells": [
  {
   "cell_type": "markdown",
   "id": "8ce4f6dd-b91b-4491-9ca7-e752bc712bda",
   "metadata": {},
   "source": [
    "# Movie Success Analysis"
   ]
  },
  {
   "cell_type": "markdown",
   "id": "1ff5ff1b-2b29-473b-9fbc-5efbd1b7ccec",
   "metadata": {},
   "source": [
    "Author: Lerato Matlala"
   ]
  },
  {
   "cell_type": "markdown",
   "id": "02779d8a-3162-48a8-bd58-48f15705f66b",
   "metadata": {},
   "source": [
    "## Data Loading"
   ]
  },
  {
   "cell_type": "markdown",
   "id": "261719f9-2add-4cd2-81fe-ed85272b0f29",
   "metadata": {},
   "source": [
    "***Import Libraries***"
   ]
  },
  {
   "cell_type": "code",
   "execution_count": 78,
   "id": "a86f6812-5355-45a6-bd86-ece68cc40f20",
   "metadata": {
    "scrolled": true
   },
   "outputs": [],
   "source": [
    "#Import libraries\n",
    "import pandas as pd\n",
    "import numpy as np\n",
    "import os"
   ]
  },
  {
   "cell_type": "markdown",
   "id": "141daa24-c80f-403c-962a-7b3beb803b35",
   "metadata": {},
   "source": [
    "***Load Data***"
   ]
  },
  {
   "cell_type": "code",
   "execution_count": 37,
   "id": "e7bbd1a4-a660-4aa4-b113-15fb9f921832",
   "metadata": {},
   "outputs": [
    {
     "data": {
      "text/html": [
       "<div>\n",
       "<style scoped>\n",
       "    .dataframe tbody tr th:only-of-type {\n",
       "        vertical-align: middle;\n",
       "    }\n",
       "\n",
       "    .dataframe tbody tr th {\n",
       "        vertical-align: top;\n",
       "    }\n",
       "\n",
       "    .dataframe thead th {\n",
       "        text-align: right;\n",
       "    }\n",
       "</style>\n",
       "<table border=\"1\" class=\"dataframe\">\n",
       "  <thead>\n",
       "    <tr style=\"text-align: right;\">\n",
       "      <th></th>\n",
       "      <th>tconst</th>\n",
       "      <th>titleType</th>\n",
       "      <th>primaryTitle</th>\n",
       "      <th>originalTitle</th>\n",
       "      <th>isAdult</th>\n",
       "      <th>startYear</th>\n",
       "      <th>endYear</th>\n",
       "      <th>runtimeMinutes</th>\n",
       "      <th>genres</th>\n",
       "    </tr>\n",
       "  </thead>\n",
       "  <tbody>\n",
       "    <tr>\n",
       "      <th>0</th>\n",
       "      <td>tt0000001</td>\n",
       "      <td>short</td>\n",
       "      <td>Carmencita</td>\n",
       "      <td>Carmencita</td>\n",
       "      <td>0</td>\n",
       "      <td>1894</td>\n",
       "      <td>\\N</td>\n",
       "      <td>1</td>\n",
       "      <td>Documentary,Short</td>\n",
       "    </tr>\n",
       "    <tr>\n",
       "      <th>1</th>\n",
       "      <td>tt0000002</td>\n",
       "      <td>short</td>\n",
       "      <td>Le clown et ses chiens</td>\n",
       "      <td>Le clown et ses chiens</td>\n",
       "      <td>0</td>\n",
       "      <td>1892</td>\n",
       "      <td>\\N</td>\n",
       "      <td>5</td>\n",
       "      <td>Animation,Short</td>\n",
       "    </tr>\n",
       "    <tr>\n",
       "      <th>2</th>\n",
       "      <td>tt0000003</td>\n",
       "      <td>short</td>\n",
       "      <td>Pauvre Pierrot</td>\n",
       "      <td>Pauvre Pierrot</td>\n",
       "      <td>0</td>\n",
       "      <td>1892</td>\n",
       "      <td>\\N</td>\n",
       "      <td>4</td>\n",
       "      <td>Animation,Comedy,Romance</td>\n",
       "    </tr>\n",
       "    <tr>\n",
       "      <th>3</th>\n",
       "      <td>tt0000004</td>\n",
       "      <td>short</td>\n",
       "      <td>Un bon bock</td>\n",
       "      <td>Un bon bock</td>\n",
       "      <td>0</td>\n",
       "      <td>1892</td>\n",
       "      <td>\\N</td>\n",
       "      <td>12</td>\n",
       "      <td>Animation,Short</td>\n",
       "    </tr>\n",
       "    <tr>\n",
       "      <th>4</th>\n",
       "      <td>tt0000005</td>\n",
       "      <td>short</td>\n",
       "      <td>Blacksmith Scene</td>\n",
       "      <td>Blacksmith Scene</td>\n",
       "      <td>0</td>\n",
       "      <td>1893</td>\n",
       "      <td>\\N</td>\n",
       "      <td>1</td>\n",
       "      <td>Comedy,Short</td>\n",
       "    </tr>\n",
       "  </tbody>\n",
       "</table>\n",
       "</div>"
      ],
      "text/plain": [
       "      tconst titleType            primaryTitle           originalTitle  \\\n",
       "0  tt0000001     short              Carmencita              Carmencita   \n",
       "1  tt0000002     short  Le clown et ses chiens  Le clown et ses chiens   \n",
       "2  tt0000003     short          Pauvre Pierrot          Pauvre Pierrot   \n",
       "3  tt0000004     short             Un bon bock             Un bon bock   \n",
       "4  tt0000005     short        Blacksmith Scene        Blacksmith Scene   \n",
       "\n",
       "  isAdult startYear endYear runtimeMinutes                    genres  \n",
       "0       0      1894      \\N              1         Documentary,Short  \n",
       "1       0      1892      \\N              5           Animation,Short  \n",
       "2       0      1892      \\N              4  Animation,Comedy,Romance  \n",
       "3       0      1892      \\N             12           Animation,Short  \n",
       "4       0      1893      \\N              1              Comedy,Short  "
      ]
     },
     "execution_count": 37,
     "metadata": {},
     "output_type": "execute_result"
    }
   ],
   "source": [
    "# Read in title Basics.tsv\n",
    "basics_url =\"https://datasets.imdbws.com/title.basics.tsv.gz\"\n",
    "\n",
    "title_basic_df = pd.read_csv(basics_url, sep='\\t', low_memory=False)\n",
    "title_basic_df.head()"
   ]
  },
  {
   "cell_type": "code",
   "execution_count": 38,
   "id": "c665625a-626e-4226-9d50-dbf818d9d643",
   "metadata": {},
   "outputs": [
    {
     "data": {
      "text/html": [
       "<div>\n",
       "<style scoped>\n",
       "    .dataframe tbody tr th:only-of-type {\n",
       "        vertical-align: middle;\n",
       "    }\n",
       "\n",
       "    .dataframe tbody tr th {\n",
       "        vertical-align: top;\n",
       "    }\n",
       "\n",
       "    .dataframe thead th {\n",
       "        text-align: right;\n",
       "    }\n",
       "</style>\n",
       "<table border=\"1\" class=\"dataframe\">\n",
       "  <thead>\n",
       "    <tr style=\"text-align: right;\">\n",
       "      <th></th>\n",
       "      <th>titleId</th>\n",
       "      <th>ordering</th>\n",
       "      <th>title</th>\n",
       "      <th>region</th>\n",
       "      <th>language</th>\n",
       "      <th>types</th>\n",
       "      <th>attributes</th>\n",
       "      <th>isOriginalTitle</th>\n",
       "    </tr>\n",
       "  </thead>\n",
       "  <tbody>\n",
       "    <tr>\n",
       "      <th>0</th>\n",
       "      <td>tt0000001</td>\n",
       "      <td>1</td>\n",
       "      <td>Карменсіта</td>\n",
       "      <td>UA</td>\n",
       "      <td>\\N</td>\n",
       "      <td>imdbDisplay</td>\n",
       "      <td>\\N</td>\n",
       "      <td>0</td>\n",
       "    </tr>\n",
       "    <tr>\n",
       "      <th>1</th>\n",
       "      <td>tt0000001</td>\n",
       "      <td>2</td>\n",
       "      <td>Carmencita</td>\n",
       "      <td>DE</td>\n",
       "      <td>\\N</td>\n",
       "      <td>\\N</td>\n",
       "      <td>literal title</td>\n",
       "      <td>0</td>\n",
       "    </tr>\n",
       "    <tr>\n",
       "      <th>2</th>\n",
       "      <td>tt0000001</td>\n",
       "      <td>3</td>\n",
       "      <td>Carmencita - spanyol tánc</td>\n",
       "      <td>HU</td>\n",
       "      <td>\\N</td>\n",
       "      <td>imdbDisplay</td>\n",
       "      <td>\\N</td>\n",
       "      <td>0</td>\n",
       "    </tr>\n",
       "    <tr>\n",
       "      <th>3</th>\n",
       "      <td>tt0000001</td>\n",
       "      <td>4</td>\n",
       "      <td>Καρμενσίτα</td>\n",
       "      <td>GR</td>\n",
       "      <td>\\N</td>\n",
       "      <td>imdbDisplay</td>\n",
       "      <td>\\N</td>\n",
       "      <td>0</td>\n",
       "    </tr>\n",
       "    <tr>\n",
       "      <th>4</th>\n",
       "      <td>tt0000001</td>\n",
       "      <td>5</td>\n",
       "      <td>Карменсита</td>\n",
       "      <td>RU</td>\n",
       "      <td>\\N</td>\n",
       "      <td>imdbDisplay</td>\n",
       "      <td>\\N</td>\n",
       "      <td>0</td>\n",
       "    </tr>\n",
       "  </tbody>\n",
       "</table>\n",
       "</div>"
      ],
      "text/plain": [
       "     titleId  ordering                      title region language  \\\n",
       "0  tt0000001         1                 Карменсіта     UA       \\N   \n",
       "1  tt0000001         2                 Carmencita     DE       \\N   \n",
       "2  tt0000001         3  Carmencita - spanyol tánc     HU       \\N   \n",
       "3  tt0000001         4                 Καρμενσίτα     GR       \\N   \n",
       "4  tt0000001         5                 Карменсита     RU       \\N   \n",
       "\n",
       "         types     attributes isOriginalTitle  \n",
       "0  imdbDisplay             \\N               0  \n",
       "1           \\N  literal title               0  \n",
       "2  imdbDisplay             \\N               0  \n",
       "3  imdbDisplay             \\N               0  \n",
       "4  imdbDisplay             \\N               0  "
      ]
     },
     "execution_count": 38,
     "metadata": {},
     "output_type": "execute_result"
    }
   ],
   "source": [
    "# Read in title.akas.tsv\n",
    "title_akas_url = \"https://datasets.imdbws.com/title.akas.tsv.gz\"\n",
    "title_akas_df = pd.read_csv(title_akas_url, sep='\\t', low_memory=False)\n",
    "title_akas_df.head()"
   ]
  },
  {
   "cell_type": "code",
   "execution_count": 39,
   "id": "845e07d7-340b-4834-899e-dffd654b2f55",
   "metadata": {},
   "outputs": [
    {
     "data": {
      "text/html": [
       "<div>\n",
       "<style scoped>\n",
       "    .dataframe tbody tr th:only-of-type {\n",
       "        vertical-align: middle;\n",
       "    }\n",
       "\n",
       "    .dataframe tbody tr th {\n",
       "        vertical-align: top;\n",
       "    }\n",
       "\n",
       "    .dataframe thead th {\n",
       "        text-align: right;\n",
       "    }\n",
       "</style>\n",
       "<table border=\"1\" class=\"dataframe\">\n",
       "  <thead>\n",
       "    <tr style=\"text-align: right;\">\n",
       "      <th></th>\n",
       "      <th>tconst</th>\n",
       "      <th>averageRating</th>\n",
       "      <th>numVotes</th>\n",
       "    </tr>\n",
       "  </thead>\n",
       "  <tbody>\n",
       "    <tr>\n",
       "      <th>0</th>\n",
       "      <td>tt0000001</td>\n",
       "      <td>5.7</td>\n",
       "      <td>2002</td>\n",
       "    </tr>\n",
       "    <tr>\n",
       "      <th>1</th>\n",
       "      <td>tt0000002</td>\n",
       "      <td>5.8</td>\n",
       "      <td>269</td>\n",
       "    </tr>\n",
       "    <tr>\n",
       "      <th>2</th>\n",
       "      <td>tt0000003</td>\n",
       "      <td>6.5</td>\n",
       "      <td>1894</td>\n",
       "    </tr>\n",
       "    <tr>\n",
       "      <th>3</th>\n",
       "      <td>tt0000004</td>\n",
       "      <td>5.5</td>\n",
       "      <td>178</td>\n",
       "    </tr>\n",
       "    <tr>\n",
       "      <th>4</th>\n",
       "      <td>tt0000005</td>\n",
       "      <td>6.2</td>\n",
       "      <td>2677</td>\n",
       "    </tr>\n",
       "  </tbody>\n",
       "</table>\n",
       "</div>"
      ],
      "text/plain": [
       "      tconst  averageRating  numVotes\n",
       "0  tt0000001            5.7      2002\n",
       "1  tt0000002            5.8       269\n",
       "2  tt0000003            6.5      1894\n",
       "3  tt0000004            5.5       178\n",
       "4  tt0000005            6.2      2677"
      ]
     },
     "execution_count": 39,
     "metadata": {},
     "output_type": "execute_result"
    }
   ],
   "source": [
    "# Read in title.akas.tsv\n",
    "ratings_url = \"https://datasets.imdbws.com/title.ratings.tsv.gz\"\n",
    "title_ratings_df = pd.read_csv(ratings_url, sep='\\t', low_memory=False)\n",
    "title_ratings_df.head()"
   ]
  },
  {
   "cell_type": "markdown",
   "id": "8c1dba05-2adb-46da-bd26-492a643d56f8",
   "metadata": {},
   "source": [
    "## Data Cleaning"
   ]
  },
  {
   "cell_type": "markdown",
   "id": "7be97617-6f14-45bf-9157-f2ef932168fb",
   "metadata": {},
   "source": [
    "### ***Handling \\N Placeholder Values***"
   ]
  },
  {
   "cell_type": "code",
   "execution_count": 43,
   "id": "ca505b85-da65-43c3-bd4d-2aecd2fef9eb",
   "metadata": {},
   "outputs": [
    {
     "data": {
      "text/plain": [
       "tconst             0\n",
       "titleType          0\n",
       "primaryTitle      11\n",
       "originalTitle     11\n",
       "isAdult            0\n",
       "startYear          0\n",
       "endYear            0\n",
       "runtimeMinutes     0\n",
       "genres            18\n",
       "dtype: int64"
      ]
     },
     "execution_count": 43,
     "metadata": {},
     "output_type": "execute_result"
    }
   ],
   "source": [
    "#Count null values in title basic before handling \\N placeholder values\n",
    "title_basic_df.isnull().sum()"
   ]
  },
  {
   "cell_type": "code",
   "execution_count": 44,
   "id": "a5c49d7f-05fd-4805-bfdd-55a39318d948",
   "metadata": {},
   "outputs": [
    {
     "data": {
      "text/plain": [
       "titleId              0\n",
       "ordering             0\n",
       "title                5\n",
       "region             117\n",
       "language             0\n",
       "types                0\n",
       "attributes           0\n",
       "isOriginalTitle      0\n",
       "dtype: int64"
      ]
     },
     "execution_count": 44,
     "metadata": {},
     "output_type": "execute_result"
    }
   ],
   "source": [
    "#Count null values in title akas before handling \\N placeholder values\n",
    "title_akas_df.isnull().sum()"
   ]
  },
  {
   "cell_type": "code",
   "execution_count": 45,
   "id": "a2f52efd-1a49-4f4b-be04-11e6e6f3bd55",
   "metadata": {},
   "outputs": [
    {
     "data": {
      "text/plain": [
       "tconst           0\n",
       "averageRating    0\n",
       "numVotes         0\n",
       "dtype: int64"
      ]
     },
     "execution_count": 45,
     "metadata": {},
     "output_type": "execute_result"
    }
   ],
   "source": [
    "#Count null values in title ratings before handling \\N placeholder values\n",
    "title_ratings_df.isnull().sum()"
   ]
  },
  {
   "cell_type": "code",
   "execution_count": 48,
   "id": "0255e3f2-c5b0-4bea-915e-ca4012d5f207",
   "metadata": {},
   "outputs": [],
   "source": [
    "# Replace '\\N' with np.nan for each DataFrame \n",
    "title_basic_df.replace({'\\\\N': np.nan}, inplace=True)\n",
    "title_akas_df.replace({'\\\\N': np.nan}, inplace=True)\n",
    "title_ratings_df.replace({'\\\\N': np.nan}, inplace=True)"
   ]
  },
  {
   "cell_type": "code",
   "execution_count": 49,
   "id": "3ee46332-6d7d-4194-968a-faf0b19cf342",
   "metadata": {},
   "outputs": [
    {
     "data": {
      "text/plain": [
       "tconst                   0\n",
       "titleType                0\n",
       "primaryTitle            11\n",
       "originalTitle           11\n",
       "isAdult                  1\n",
       "startYear          1370949\n",
       "endYear           10137108\n",
       "runtimeMinutes     7159618\n",
       "genres              458543\n",
       "dtype: int64"
      ]
     },
     "execution_count": 49,
     "metadata": {},
     "output_type": "execute_result"
    }
   ],
   "source": [
    "#Count null values in title basic after handling \\N placeholder values\n",
    "title_basic_df.isnull().sum()"
   ]
  },
  {
   "cell_type": "code",
   "execution_count": 50,
   "id": "7bb198de-0ddc-438c-a10f-155c3c5516be",
   "metadata": {},
   "outputs": [
    {
     "data": {
      "text/plain": [
       "titleId                   0\n",
       "ordering                  0\n",
       "title                     5\n",
       "region              1905307\n",
       "language            6779972\n",
       "types              31843105\n",
       "attributes         37267747\n",
       "isOriginalTitle        2077\n",
       "dtype: int64"
      ]
     },
     "execution_count": 50,
     "metadata": {},
     "output_type": "execute_result"
    }
   ],
   "source": [
    "#Count null values in title akas after handling \\N placeholder values\n",
    "title_akas_df.isnull().sum()"
   ]
  },
  {
   "cell_type": "code",
   "execution_count": 51,
   "id": "da924604-0f8f-45ce-9228-e877d770babd",
   "metadata": {},
   "outputs": [
    {
     "data": {
      "text/plain": [
       "tconst           0\n",
       "averageRating    0\n",
       "numVotes         0\n",
       "dtype: int64"
      ]
     },
     "execution_count": 51,
     "metadata": {},
     "output_type": "execute_result"
    }
   ],
   "source": [
    "#Count null values in title ratings after handling \\N placeholder values\n",
    "title_ratings_df.isnull().sum()"
   ]
  },
  {
   "cell_type": "markdown",
   "id": "4ada060c-5774-491a-b730-6af08f0a7731",
   "metadata": {},
   "source": [
    "### ***Filter Out Movies***"
   ]
  },
  {
   "cell_type": "code",
   "execution_count": 52,
   "id": "2df83f0c-8d3b-4064-acaf-7244c808bba3",
   "metadata": {},
   "outputs": [
    {
     "data": {
      "text/plain": [
       "(10250934, 9)"
      ]
     },
     "execution_count": 52,
     "metadata": {},
     "output_type": "execute_result"
    }
   ],
   "source": [
    "# title_basic_df Dataframe shape before filtering out movies\n",
    "title_basic_df.shape"
   ]
  },
  {
   "cell_type": "code",
   "execution_count": 53,
   "id": "b124a5d0-db7f-427b-a04f-7b7216f919d5",
   "metadata": {},
   "outputs": [
    {
     "data": {
      "text/plain": [
       "(37535727, 8)"
      ]
     },
     "execution_count": 53,
     "metadata": {},
     "output_type": "execute_result"
    }
   ],
   "source": [
    "#title_akas_df Dataframe shape before filtering out movies\n",
    "title_akas_df.shape"
   ]
  },
  {
   "cell_type": "code",
   "execution_count": 54,
   "id": "14f9f847-353e-4cf6-b91b-3ed873339a53",
   "metadata": {},
   "outputs": [
    {
     "data": {
      "text/plain": [
       "(1360911, 3)"
      ]
     },
     "execution_count": 54,
     "metadata": {},
     "output_type": "execute_result"
    }
   ],
   "source": [
    "# title_ratings_df Dataframe shape before filtering out movies\n",
    "title_ratings_df.shape"
   ]
  },
  {
   "cell_type": "markdown",
   "id": "98238582-49c4-41d3-9e69-175965544715",
   "metadata": {},
   "source": [
    "-  **Exclude any movie with missing values for genre or runtime**"
   ]
  },
  {
   "cell_type": "code",
   "execution_count": 55,
   "id": "7b20d205-deda-423c-b02d-33a172f541f6",
   "metadata": {},
   "outputs": [],
   "source": [
    "# Remove rows where 'genres' or 'runtimeMinutes' is missing\n",
    "filtered_title_basic_df = title_basic_df.dropna(subset=['genres', 'runtimeMinutes'])\n",
    "\n",
    "# Collect the IDs of the filtered rows\n",
    "filtered_tconst = filtered_title_basic_df['tconst'].tolist()\n",
    "\n",
    "# Filter corresponding rows in title_akas_df and title_ratings_df based on the collected IDs\n",
    "filtered_title_akas_df = title_akas_df[title_akas_df['titleId'].isin(filtered_tconst)]\n",
    "filtered_title_ratings_df = title_ratings_df[title_ratings_df['tconst'].isin(filtered_tconst)]"
   ]
  },
  {
   "cell_type": "code",
   "execution_count": 56,
   "id": "5c707ec1-e6c6-4695-9e71-3f7411436074",
   "metadata": {},
   "outputs": [
    {
     "data": {
      "text/plain": [
       "(3010579, 9)"
      ]
     },
     "execution_count": 56,
     "metadata": {},
     "output_type": "execute_result"
    }
   ],
   "source": [
    "# title_basic_df Dataframe shape after filtering out movies with missing values for genre or runtime\n",
    "filtered_title_basic_df.shape"
   ]
  },
  {
   "cell_type": "code",
   "execution_count": 57,
   "id": "d38cb928-9991-4b1e-8604-784aadb0789c",
   "metadata": {},
   "outputs": [
    {
     "data": {
      "text/plain": [
       "(10156165, 8)"
      ]
     },
     "execution_count": 57,
     "metadata": {},
     "output_type": "execute_result"
    }
   ],
   "source": [
    "# title_akas_df Dataframe shape after filtering out movies with missing values for genre or runtime\n",
    "filtered_title_akas_df.shape"
   ]
  },
  {
   "cell_type": "code",
   "execution_count": 58,
   "id": "44566bc2-bf55-4195-ba9c-17fd7ee547cc",
   "metadata": {},
   "outputs": [
    {
     "data": {
      "text/plain": [
       "(956992, 3)"
      ]
     },
     "execution_count": 58,
     "metadata": {},
     "output_type": "execute_result"
    }
   ],
   "source": [
    "#title_ratings_df Dataframe shape after filtering out movies with missing values for genre or runtime\n",
    "filtered_title_ratings_df.shape"
   ]
  },
  {
   "cell_type": "markdown",
   "id": "9a0cea4e-f319-4b7a-aea8-32b06626cd1d",
   "metadata": {},
   "source": [
    "- **Include only full-length movies (titleType = \"movie\")**"
   ]
  },
  {
   "cell_type": "code",
   "execution_count": 59,
   "id": "09b0906c-2930-4603-b664-d6bb083990dc",
   "metadata": {},
   "outputs": [],
   "source": [
    "# Include only rows where 'titleType' is 'movie'\n",
    "filtered_title_basic_df = filtered_title_basic_df[filtered_title_basic_df['titleType'] == 'movie']\n",
    "\n",
    "# Collect the IDs of the filtered rows\n",
    "filtered_tconst = filtered_title_basic_df['tconst'].tolist()\n",
    "\n",
    "# Filter corresponding rows in title_akas_df and title_ratings_df based on the collected IDs\n",
    "filtered_title_akas_df = title_akas_df[title_akas_df['titleId'].isin(filtered_tconst)]\n",
    "filtered_title_ratings_df = title_ratings_df[title_ratings_df['tconst'].isin(filtered_tconst)]\n"
   ]
  },
  {
   "cell_type": "code",
   "execution_count": 60,
   "id": "af0b2cf5-8c0b-4dd7-9faa-8b45fe3479aa",
   "metadata": {},
   "outputs": [
    {
     "data": {
      "text/plain": [
       "(390879, 9)"
      ]
     },
     "execution_count": 60,
     "metadata": {},
     "output_type": "execute_result"
    }
   ],
   "source": [
    "# filtered_title_basic_df Dataframe shape after including only rows where 'titleType' is 'movie'\n",
    "filtered_title_basic_df.shape"
   ]
  },
  {
   "cell_type": "code",
   "execution_count": 61,
   "id": "2a59ed9d-3818-41e2-bfc6-1c53400e2c8b",
   "metadata": {},
   "outputs": [
    {
     "data": {
      "text/plain": [
       "(2448076, 8)"
      ]
     },
     "execution_count": 61,
     "metadata": {},
     "output_type": "execute_result"
    }
   ],
   "source": [
    "#filtered_title_akas_df Dataframe shape after including only rows where 'titleType' is 'movie'\n",
    "filtered_title_akas_df.shape"
   ]
  },
  {
   "cell_type": "code",
   "execution_count": 62,
   "id": "8a731fc6-f579-433b-a008-1022d3baf85f",
   "metadata": {},
   "outputs": [
    {
     "data": {
      "text/plain": [
       "(263403, 3)"
      ]
     },
     "execution_count": 62,
     "metadata": {},
     "output_type": "execute_result"
    }
   ],
   "source": [
    "#filtered_title_ratings_df Dataframe shape after including only rows where 'titleType' is 'movie'\n",
    "filtered_title_ratings_df.shape"
   ]
  },
  {
   "cell_type": "markdown",
   "id": "045c9114-930b-4755-bbd1-3086b656f38f",
   "metadata": {},
   "source": [
    "- **Include only fictional movies (not from documentary genre)**"
   ]
  },
  {
   "cell_type": "code",
   "execution_count": 63,
   "id": "bf3791bd-38d6-42cf-9d6d-fa50a390ba47",
   "metadata": {},
   "outputs": [],
   "source": [
    "# Include only rows where 'genres' does not contain 'Documentary'\n",
    "filtered_title_basic_df = filtered_title_basic_df[(~filtered_title_basic_df['genres'].str.contains('Documentary',case=False))]\n",
    "\n",
    "# Collect the IDs of the filtered rows\n",
    "filtered_tconst = filtered_title_basic_df['tconst'].tolist()\n",
    "\n",
    "# Filter corresponding rows in title_akas_df and title_ratings_df based on the collected IDs\n",
    "filtered_title_akas_df = title_akas_df[title_akas_df['titleId'].isin(filtered_tconst)]\n",
    "filtered_title_ratings_df = title_ratings_df[title_ratings_df['tconst'].isin(filtered_tconst)]\n"
   ]
  },
  {
   "cell_type": "code",
   "execution_count": 64,
   "id": "64b852a9-c68f-4d28-9a2d-28421907adea",
   "metadata": {},
   "outputs": [
    {
     "data": {
      "text/plain": [
       "(295875, 9)"
      ]
     },
     "execution_count": 64,
     "metadata": {},
     "output_type": "execute_result"
    }
   ],
   "source": [
    "#filtered_title_basic_df Dataframe shape after including only rows where 'genres' does not contain 'Documentary'\n",
    "filtered_title_basic_df.shape"
   ]
  },
  {
   "cell_type": "code",
   "execution_count": 65,
   "id": "805a91cd-4a82-4eec-ba5c-03d893289d73",
   "metadata": {},
   "outputs": [
    {
     "data": {
      "text/plain": [
       "(2155237, 8)"
      ]
     },
     "execution_count": 65,
     "metadata": {},
     "output_type": "execute_result"
    }
   ],
   "source": [
    "#filtered_title_akas_df Dataframe shape after including only rows where 'genres' does not contain 'Documentary'\n",
    "filtered_title_akas_df.shape"
   ]
  },
  {
   "cell_type": "code",
   "execution_count": 66,
   "id": "b494f6fc-5b00-47dc-a913-95f7b789cae5",
   "metadata": {},
   "outputs": [
    {
     "data": {
      "text/plain": [
       "(220376, 3)"
      ]
     },
     "execution_count": 66,
     "metadata": {},
     "output_type": "execute_result"
    }
   ],
   "source": [
    "#filtered_title_ratings_df Dataframe shape after including only rows where 'genres' does not contain 'Documentary'\n",
    "filtered_title_ratings_df.shape"
   ]
  },
  {
   "cell_type": "markdown",
   "id": "7e766e45-37fc-420f-88b5-1500f0a3ee6d",
   "metadata": {},
   "source": [
    "- **Include only movies that were released 2000 - 2021 (include 2000 and 2021)**"
   ]
  },
  {
   "cell_type": "code",
   "execution_count": 67,
   "id": "afab20f3-898b-4dd4-899a-0d7f6d761653",
   "metadata": {},
   "outputs": [],
   "source": [
    "# Convert 'startYear' to numeric (integers) if it's in object format\n",
    "filtered_title_basic_df['startYear'] = pd.to_numeric(filtered_title_basic_df['startYear'], errors='coerce')\n",
    "\n",
    "# Filter 'startYear' values between 2000 and 2022\n",
    "filtered_title_basic_df = filtered_title_basic_df[(filtered_title_basic_df['startYear'] >= 2000) & (filtered_title_basic_df['startYear'] <= 2022)]\n",
    "\n",
    "\n",
    "# Include only rows where 'startYear' is either 2000 or 2001\n",
    "#filtered_title_basic_df = filtered_title_basic_df[((filtered_title_basic_df['startYear'] == '2000') | (filtered_title_basic_df['startYear'] == '2001'))].copy()\n",
    "\n",
    "# Collect the IDs of the filtered rows\n",
    "filtered_tconst = filtered_title_basic_df['tconst'].tolist()\n",
    "\n",
    "# Filter corresponding rows in title_akas_df and title_ratings_df based on the collected IDs\n",
    "filtered_title_akas_df = title_akas_df[title_akas_df['titleId'].isin(filtered_tconst)]\n",
    "filtered_title_ratings_df = title_ratings_df[title_ratings_df['tconst'].isin(filtered_tconst)]"
   ]
  },
  {
   "cell_type": "code",
   "execution_count": 68,
   "id": "91357302-a63b-419d-be5e-f7b74e7a4c4f",
   "metadata": {},
   "outputs": [
    {
     "data": {
      "text/plain": [
       "(148584, 9)"
      ]
     },
     "execution_count": 68,
     "metadata": {},
     "output_type": "execute_result"
    }
   ],
   "source": [
    "#filtered_title_basic_df Dataframe shape after including only rows where 'startYear' is between 2000 and 2022\n",
    "filtered_title_basic_df.shape"
   ]
  },
  {
   "cell_type": "code",
   "execution_count": 69,
   "id": "50869af9-37d0-46d9-9906-f0b6f16b636b",
   "metadata": {},
   "outputs": [
    {
     "data": {
      "text/plain": [
       "(1021307, 8)"
      ]
     },
     "execution_count": 69,
     "metadata": {},
     "output_type": "execute_result"
    }
   ],
   "source": [
    "#filtered_title_akas_df Dataframe shape after including only rows where 'startYear' is between 2000 and 2022\n",
    "filtered_title_akas_df.shape"
   ]
  },
  {
   "cell_type": "code",
   "execution_count": 70,
   "id": "3072bbaf-287d-48da-88db-04146f5c1223",
   "metadata": {},
   "outputs": [
    {
     "data": {
      "text/plain": [
       "(111756, 3)"
      ]
     },
     "execution_count": 70,
     "metadata": {},
     "output_type": "execute_result"
    }
   ],
   "source": [
    "#filtered_title_ratings_df Dataframe shape after including only rows where 'startYear' is between 2000 and 2022\n",
    "filtered_title_ratings_df.shape"
   ]
  },
  {
   "cell_type": "markdown",
   "id": "f85d6899-0caa-4ac4-85f1-0fc2f72953e6",
   "metadata": {},
   "source": [
    "- **Include only movies that were released in the United States**"
   ]
  },
  {
   "cell_type": "code",
   "execution_count": 71,
   "id": "69ddea96-19d0-4dcc-821b-51684c074047",
   "metadata": {},
   "outputs": [],
   "source": [
    "# Include only rows where 'country' is 'USA'\n",
    "filtered_title_akas_df = filtered_title_akas_df[filtered_title_akas_df['region'] == 'US']\n",
    "\n",
    "# Collect the IDs of the filtered rows\n",
    "filtered_titleId = filtered_title_akas_df['titleId'].tolist()\n",
    "\n",
    "# Filter corresponding rows in filtered_title_basic_df and filtered_title_ratings_df based on the collected IDs\n",
    "filtered_title_basic_df = filtered_title_basic_df[filtered_title_basic_df['tconst'].isin(filtered_titleId)]\n",
    "filtered_title_ratings_df = filtered_title_ratings_df[filtered_title_ratings_df['tconst'].isin(filtered_titleId)]\n"
   ]
  },
  {
   "cell_type": "code",
   "execution_count": 72,
   "id": "a6c8f7fd-fac1-4847-a599-b2e0be2deb31",
   "metadata": {},
   "outputs": [
    {
     "data": {
      "text/plain": [
       "(87356, 9)"
      ]
     },
     "execution_count": 72,
     "metadata": {},
     "output_type": "execute_result"
    }
   ],
   "source": [
    "#filtered_title_basic_df Dataframe shape after filtering out movies that were released in the US\n",
    "filtered_title_basic_df.shape"
   ]
  },
  {
   "cell_type": "code",
   "execution_count": 73,
   "id": "df5bea2a-e958-4dbd-89d9-92d87a3f4a61",
   "metadata": {},
   "outputs": [
    {
     "data": {
      "text/plain": [
       "(97168, 8)"
      ]
     },
     "execution_count": 73,
     "metadata": {},
     "output_type": "execute_result"
    }
   ],
   "source": [
    "#filtered_title_akas_df Dataframe shape after filtering out movies that were released in the US\n",
    "filtered_title_akas_df.shape"
   ]
  },
  {
   "cell_type": "code",
   "execution_count": 74,
   "id": "dd44cc1a-bd65-4deb-9246-5f54b09e7a49",
   "metadata": {},
   "outputs": [
    {
     "data": {
      "text/plain": [
       "(72418, 3)"
      ]
     },
     "execution_count": 74,
     "metadata": {},
     "output_type": "execute_result"
    }
   ],
   "source": [
    "#filtered_title_ratings_df Dataframe shape after filtering out movies that were released in the US\n",
    "filtered_title_ratings_df.shape"
   ]
  },
  {
   "cell_type": "markdown",
   "id": "d70ac7d0-2ac0-4717-b4e7-917916e5f199",
   "metadata": {},
   "source": [
    "### ***Dataframes Summaries***"
   ]
  },
  {
   "cell_type": "markdown",
   "id": "6cfa58da-8377-4941-aa51-fc8c50a0efbe",
   "metadata": {},
   "source": [
    "**title_basic_df**"
   ]
  },
  {
   "cell_type": "code",
   "execution_count": 75,
   "id": "ffdb5466-3b3b-4712-9dca-e869f365e9b6",
   "metadata": {},
   "outputs": [
    {
     "name": "stdout",
     "output_type": "stream",
     "text": [
      "<class 'pandas.core.frame.DataFrame'>\n",
      "Int64Index: 87356 entries, 34800 to 10250700\n",
      "Data columns (total 9 columns):\n",
      " #   Column          Non-Null Count  Dtype  \n",
      "---  ------          --------------  -----  \n",
      " 0   tconst          87356 non-null  object \n",
      " 1   titleType       87356 non-null  object \n",
      " 2   primaryTitle    87356 non-null  object \n",
      " 3   originalTitle   87356 non-null  object \n",
      " 4   isAdult         87356 non-null  object \n",
      " 5   startYear       87356 non-null  float64\n",
      " 6   endYear         0 non-null      object \n",
      " 7   runtimeMinutes  87356 non-null  object \n",
      " 8   genres          87356 non-null  object \n",
      "dtypes: float64(1), object(8)\n",
      "memory usage: 6.7+ MB\n"
     ]
    }
   ],
   "source": [
    "filtered_title_basic_df.info()"
   ]
  },
  {
   "cell_type": "markdown",
   "id": "08671bed-8168-4617-9f9e-3662c97ac58d",
   "metadata": {},
   "source": [
    "**title_akas_df**"
   ]
  },
  {
   "cell_type": "code",
   "execution_count": 76,
   "id": "f9551662-1b7c-4fb2-aece-23366bf17655",
   "metadata": {},
   "outputs": [
    {
     "name": "stdout",
     "output_type": "stream",
     "text": [
      "<class 'pandas.core.frame.DataFrame'>\n",
      "Int64Index: 97168 entries, 203545 to 37534986\n",
      "Data columns (total 8 columns):\n",
      " #   Column           Non-Null Count  Dtype \n",
      "---  ------           --------------  ----- \n",
      " 0   titleId          97168 non-null  object\n",
      " 1   ordering         97168 non-null  int64 \n",
      " 2   title            97168 non-null  object\n",
      " 3   region           97168 non-null  object\n",
      " 4   language         960 non-null    object\n",
      " 5   types            89431 non-null  object\n",
      " 6   attributes       4366 non-null   object\n",
      " 7   isOriginalTitle  97168 non-null  object\n",
      "dtypes: int64(1), object(7)\n",
      "memory usage: 6.7+ MB\n"
     ]
    }
   ],
   "source": [
    "filtered_title_akas_df.info()"
   ]
  },
  {
   "cell_type": "markdown",
   "id": "f5e806b0-00a3-4aa2-b6a5-e98c79beda40",
   "metadata": {},
   "source": [
    "**title_ratings_df**"
   ]
  },
  {
   "cell_type": "code",
   "execution_count": 77,
   "id": "8d4cda1c-ac8c-4c61-b0a8-47f8b5460618",
   "metadata": {},
   "outputs": [
    {
     "name": "stdout",
     "output_type": "stream",
     "text": [
      "<class 'pandas.core.frame.DataFrame'>\n",
      "Int64Index: 72418 entries, 17958 to 1360882\n",
      "Data columns (total 3 columns):\n",
      " #   Column         Non-Null Count  Dtype  \n",
      "---  ------         --------------  -----  \n",
      " 0   tconst         72418 non-null  object \n",
      " 1   averageRating  72418 non-null  float64\n",
      " 2   numVotes       72418 non-null  int64  \n",
      "dtypes: float64(1), int64(1), object(1)\n",
      "memory usage: 2.2+ MB\n"
     ]
    }
   ],
   "source": [
    "filtered_title_ratings_df.info()"
   ]
  },
  {
   "cell_type": "markdown",
   "id": "78a43e0b-1b17-4c22-bba2-571973f5c9de",
   "metadata": {},
   "source": [
    "### ***Save Dataframes***"
   ]
  },
  {
   "cell_type": "code",
   "execution_count": 79,
   "id": "4f0606b0-b21b-4e82-9499-ebafa926ef18",
   "metadata": {},
   "outputs": [
    {
     "data": {
      "text/plain": [
       "[]"
      ]
     },
     "execution_count": 79,
     "metadata": {},
     "output_type": "execute_result"
    }
   ],
   "source": [
    "#Create Data folder\n",
    "os.makedirs('Data/',exist_ok=True) \n",
    "\n",
    "# Confirm folder created\n",
    "os.listdir(\"Data/\")"
   ]
  },
  {
   "cell_type": "code",
   "execution_count": 80,
   "id": "dcd9e80c-ae54-49c6-b5e8-962743fd8534",
   "metadata": {},
   "outputs": [],
   "source": [
    "# Save filtered_title_basic_df DataFrame to a compressed CSV file in the \"Data/\" folder\n",
    "filtered_title_basic_df.to_csv('Data/filtered_title_basic.csv.gz', index=False, compression='gzip')"
   ]
  },
  {
   "cell_type": "code",
   "execution_count": 81,
   "id": "11c9de64-9607-4197-8209-687170a5e95d",
   "metadata": {},
   "outputs": [],
   "source": [
    "# Save filtered_title_akas_df DataFrame to a compressed CSV file in the \"Data/\" folder\n",
    "filtered_title_akas_df.to_csv('Data/filtered_title_akas.csv.gz', index=False, compression='gzip')"
   ]
  },
  {
   "cell_type": "code",
   "execution_count": 82,
   "id": "8474b565-6278-4442-b3d4-e7f9a5c77168",
   "metadata": {},
   "outputs": [],
   "source": [
    "# Save filtered_title_ratings_df DataFrame to a compressed CSV file in the \"Data/\" folder\n",
    "filtered_title_ratings_df.to_csv('Data/filtered_title_ratings.csv.gz', index=False, compression='gzip')"
   ]
  },
  {
   "cell_type": "code",
   "execution_count": null,
   "id": "f5b14553-05ed-419f-b0d4-cbdcbfb3a12c",
   "metadata": {},
   "outputs": [],
   "source": []
  }
 ],
 "metadata": {
  "kernelspec": {
   "display_name": "Python (dojo-env)",
   "language": "python",
   "name": "dojo-env"
  },
  "language_info": {
   "codemirror_mode": {
    "name": "ipython",
    "version": 3
   },
   "file_extension": ".py",
   "mimetype": "text/x-python",
   "name": "python",
   "nbconvert_exporter": "python",
   "pygments_lexer": "ipython3",
   "version": "3.10.10"
  }
 },
 "nbformat": 4,
 "nbformat_minor": 5
}
